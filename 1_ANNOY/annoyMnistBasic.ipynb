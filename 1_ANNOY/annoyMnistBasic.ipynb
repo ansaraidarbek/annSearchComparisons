{
 "cells": [
  {
   "cell_type": "code",
   "execution_count": 1,
   "metadata": {},
   "outputs": [],
   "source": [
    "from annoy import AnnoyIndex\n",
    "import random\n",
    "import numpy as np\n",
    "import faiss\n",
    "import matplotlib.pyplot as plt\n",
    "from keras.datasets import mnist\n",
    "from time import perf_counter\n",
    "import pandas as pd\n",
    "from ast import literal_eval"
   ]
  },
  {
   "cell_type": "code",
   "execution_count": 2,
   "metadata": {},
   "outputs": [],
   "source": [
    "(train_X, train_y), (test_X, test_y) = mnist.load_data()"
   ]
  },
  {
   "cell_type": "code",
   "execution_count": 3,
   "metadata": {},
   "outputs": [
    {
     "data": {
      "text/plain": [
       "(60000, 28, 28)"
      ]
     },
     "execution_count": 3,
     "metadata": {},
     "output_type": "execute_result"
    }
   ],
   "source": [
    "train_X.shape"
   ]
  },
  {
   "cell_type": "code",
   "execution_count": 4,
   "metadata": {},
   "outputs": [],
   "source": [
    "datasetImages = np.concatenate((train_X, test_X), axis=0)\n",
    "datasetLabels = np.concatenate((train_y, test_y), axis=0)\n",
    "datasetImages = datasetImages.reshape(datasetImages.shape[0], datasetImages.shape[1] * datasetImages.shape[2])"
   ]
  },
  {
   "cell_type": "code",
   "execution_count": 5,
   "metadata": {},
   "outputs": [
    {
     "data": {
      "text/plain": [
       "(70000, 784)"
      ]
     },
     "execution_count": 5,
     "metadata": {},
     "output_type": "execute_result"
    }
   ],
   "source": [
    "datasetImages.shape"
   ]
  },
  {
   "cell_type": "code",
   "execution_count": 6,
   "metadata": {},
   "outputs": [
    {
     "data": {
      "text/plain": [
       "(70000,)"
      ]
     },
     "execution_count": 6,
     "metadata": {},
     "output_type": "execute_result"
    }
   ],
   "source": [
    "datasetLabels.shape"
   ]
  },
  {
   "cell_type": "markdown",
   "metadata": {},
   "source": [
    "***Create Annoy Index***"
   ]
  },
  {
   "cell_type": "code",
   "execution_count": 7,
   "metadata": {},
   "outputs": [],
   "source": [
    "f = datasetImages.shape[1]  # Length of item vector that will be indexed\n",
    "t = AnnoyIndex(f, 'euclidean')\n",
    "for i in range(datasetImages.shape[0]):\n",
    "    t.add_item(i, datasetImages[i])"
   ]
  },
  {
   "cell_type": "code",
   "execution_count": 8,
   "metadata": {},
   "outputs": [
    {
     "data": {
      "text/plain": [
       "True"
      ]
     },
     "execution_count": 8,
     "metadata": {},
     "output_type": "execute_result"
    }
   ],
   "source": [
    "t.build(10) # 10 trees\n",
    "t.save('firstMnist.ann')"
   ]
  },
  {
   "cell_type": "markdown",
   "metadata": {},
   "source": [
    "***Basic operations on annoy index***"
   ]
  },
  {
   "cell_type": "code",
   "execution_count": 9,
   "metadata": {},
   "outputs": [],
   "source": [
    "u = AnnoyIndex(f, 'euclidean')\n",
    "u.load('firstMnist.ann') # super fast, will just mmap the file\n",
    "indexes = []\n",
    "distances = []"
   ]
  },
  {
   "cell_type": "code",
   "execution_count": 40,
   "metadata": {},
   "outputs": [],
   "source": [
    "(index, distance) = u.get_nns_by_item(0, 70000, include_distances=True)"
   ]
  },
  {
   "cell_type": "code",
   "execution_count": 56,
   "metadata": {},
   "outputs": [],
   "source": [
    "index = np.array(index)\n",
    "distance = np.array(distance)\n",
    "distance = np.round(distance, 4)"
   ]
  },
  {
   "cell_type": "code",
   "execution_count": 57,
   "metadata": {},
   "outputs": [
    {
     "data": {
      "text/plain": [
       "(70000,)"
      ]
     },
     "execution_count": 57,
     "metadata": {},
     "output_type": "execute_result"
    }
   ],
   "source": [
    "index.shape"
   ]
  },
  {
   "cell_type": "code",
   "execution_count": 58,
   "metadata": {},
   "outputs": [
    {
     "name": "stdout",
     "output_type": "stream",
     "text": [
      "0 | 0.0\n",
      "32248 | 1561.4724\n",
      "8728 | 1591.6014\n",
      "18932 | 1594.7191\n",
      "30483 | 1596.7095\n",
      "63470 | 1600.8738\n",
      "65325 | 1603.479\n",
      "24149 | 1604.4469\n",
      "42338 | 1604.8876\n",
      "52295 | 1605.7092\n"
     ]
    }
   ],
   "source": [
    "def printFirstTen(index, distance):\n",
    "    for i in range(10):\n",
    "        print(str(index[i]) + \" | \" + str(distance[i]))\n",
    "printFirstTen(index, distance)"
   ]
  },
  {
   "cell_type": "code",
   "execution_count": 44,
   "metadata": {},
   "outputs": [],
   "source": [
    "(index2, distance2) = u.get_nns_by_item(0, 100, include_distances=True)"
   ]
  },
  {
   "cell_type": "code",
   "execution_count": 45,
   "metadata": {},
   "outputs": [],
   "source": [
    "index2 = np.array(index)\n",
    "distance2 = np.array(distance)"
   ]
  },
  {
   "cell_type": "code",
   "execution_count": 46,
   "metadata": {},
   "outputs": [
    {
     "data": {
      "text/plain": [
       "(70000,)"
      ]
     },
     "execution_count": 46,
     "metadata": {},
     "output_type": "execute_result"
    }
   ],
   "source": [
    "index2.shape"
   ]
  },
  {
   "cell_type": "code",
   "execution_count": 47,
   "metadata": {},
   "outputs": [
    {
     "name": "stdout",
     "output_type": "stream",
     "text": [
      "0 | 0.0\n",
      "32248 | 1561.472412109375\n",
      "8728 | 1591.6014404296875\n",
      "18932 | 1594.7191162109375\n",
      "30483 | 1596.70947265625\n",
      "63470 | 1600.873779296875\n",
      "65325 | 1603.47900390625\n",
      "24149 | 1604.4468994140625\n",
      "42338 | 1604.8875732421875\n",
      "52295 | 1605.709228515625\n"
     ]
    }
   ],
   "source": [
    "printFirstTen(index2, distance2)"
   ]
  }
 ],
 "metadata": {
  "kernelspec": {
   "display_name": "Python 3",
   "language": "python",
   "name": "python3"
  },
  "language_info": {
   "codemirror_mode": {
    "name": "ipython",
    "version": 3
   },
   "file_extension": ".py",
   "mimetype": "text/x-python",
   "name": "python",
   "nbconvert_exporter": "python",
   "pygments_lexer": "ipython3",
   "version": "3.9.6"
  }
 },
 "nbformat": 4,
 "nbformat_minor": 2
}
