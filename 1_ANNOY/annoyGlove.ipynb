{
 "cells": [
  {
   "cell_type": "code",
   "execution_count": 16,
   "metadata": {},
   "outputs": [],
   "source": [
    "from annoy import AnnoyIndex\n",
    "exec(open(\"../database.py\").read())\n",
    "exec(open(\"../helperFunctions.py\").read())\n",
    "import numpy as np\n",
    "from keras.datasets import mnist\n",
    "from time import perf_counter\n",
    "from ast import literal_eval"
   ]
  },
  {
   "cell_type": "code",
   "execution_count": 2,
   "metadata": {},
   "outputs": [
    {
     "name": "stderr",
     "output_type": "stream",
     "text": [
      "<string>:57: DeprecationWarning: `product` is deprecated as of NumPy 1.25.0, and will be removed in NumPy 2.0. Please use `prod` instead.\n"
     ]
    },
    {
     "name": "stdout",
     "output_type": "stream",
     "text": [
      "trainDataset :  (1183514, 100)\n",
      "testDataset :  (10000, 100)\n"
     ]
    },
    {
     "name": "stderr",
     "output_type": "stream",
     "text": [
      "<string>:58: DeprecationWarning: `product` is deprecated as of NumPy 1.25.0, and will be removed in NumPy 2.0. Please use `prod` instead.\n",
      "<string>:59: DeprecationWarning: `product` is deprecated as of NumPy 1.25.0, and will be removed in NumPy 2.0. Please use `prod` instead.\n"
     ]
    }
   ],
   "source": [
    "name = 'glove-100-angular'\n",
    "nameFull = name +'-true-labels.xlsx'\n",
    "datasetTrainImages, datasetTestImages, _ = get_ann_benchmark_data(name)"
   ]
  },
  {
   "cell_type": "markdown",
   "metadata": {},
   "source": [
    "***Create Annoy Index***"
   ]
  },
  {
   "cell_type": "code",
   "execution_count": 3,
   "metadata": {},
   "outputs": [
    {
     "name": "stdout",
     "output_type": "stream",
     "text": [
      "Took 28.731 seconds\n"
     ]
    }
   ],
   "source": [
    "def createIndex(indexMethod, datasetImages):\n",
    "    f = datasetImages.shape[1] # Length of item vector that will be indexed\n",
    "    t = indexMethod(f, 'euclidean')\n",
    "    time_start = perf_counter()\n",
    "    for i in range(datasetImages.shape[0]):\n",
    "        t.add_item(i, datasetImages[i])\n",
    "    t.build(10) # 10 trees\n",
    "    time_end = perf_counter()\n",
    "    totalTime = (time_end - time_start)\n",
    "    print(f'Took {totalTime:.3f} seconds')\n",
    "    return (t, totalTime)\n",
    "(indexedStruct, time) = createIndex(AnnoyIndex, datasetTrainImages)"
   ]
  },
  {
   "cell_type": "code",
   "execution_count": 4,
   "metadata": {},
   "outputs": [],
   "source": [
    "# (min, max) = createIndexNumerous(createIndex, AnnoyIndex, datasetImages, 10)\n",
    "# print('min : ', min, '\\n','max : ', max,)"
   ]
  },
  {
   "cell_type": "code",
   "execution_count": 5,
   "metadata": {},
   "outputs": [
    {
     "data": {
      "text/plain": [
       "True"
      ]
     },
     "execution_count": 5,
     "metadata": {},
     "output_type": "execute_result"
    }
   ],
   "source": [
    "indexName = name + '-index.ann'\n",
    "indexedStruct.save(indexName)"
   ]
  },
  {
   "cell_type": "markdown",
   "metadata": {},
   "source": [
    "***Basic operations on annoy index***"
   ]
  },
  {
   "cell_type": "code",
   "execution_count": 6,
   "metadata": {},
   "outputs": [
    {
     "data": {
      "text/plain": [
       "True"
      ]
     },
     "execution_count": 6,
     "metadata": {},
     "output_type": "execute_result"
    }
   ],
   "source": [
    "indexName = name + '-index.ann'\n",
    "u = AnnoyIndex(datasetTrainImages.shape[1], 'euclidean')\n",
    "u.load(indexName) # super fast, will just mmap the file"
   ]
  },
  {
   "cell_type": "code",
   "execution_count": 7,
   "metadata": {},
   "outputs": [
    {
     "name": "stdout",
     "output_type": "stream",
     "text": [
      "Took 0.805 seconds\n"
     ]
    },
    {
     "data": {
      "text/plain": [
       "0.805"
      ]
     },
     "execution_count": 7,
     "metadata": {},
     "output_type": "execute_result"
    }
   ],
   "source": [
    "indexes = []\n",
    "distances = []\n",
    "def measureTime(par, indexes, distances, datasetTestImages):\n",
    "    totalTime = 0\n",
    "    for i in range(par) : \n",
    "        time_start = perf_counter()\n",
    "        (index, distance) = u.get_nns_by_vector(datasetTestImages[i], 100, include_distances=True)\n",
    "        time_end = perf_counter()\n",
    "        totalTime += (time_end - time_start)\n",
    "        indexes.append(index)\n",
    "        distances.append(distance)\n",
    "    # report the duration\n",
    "    print(f'Took {totalTime:.3f} seconds')\n",
    "    return np.round(totalTime, 3)\n",
    "numberOfQueries = 1000\n",
    "measureTime(numberOfQueries, indexes, distances, datasetTestImages)"
   ]
  },
  {
   "cell_type": "code",
   "execution_count": 8,
   "metadata": {},
   "outputs": [],
   "source": [
    "# (min, max) = measureTimeNumerous(measureTime, 10)\n",
    "# print('min : ', min, '\\n','max : ', max,)"
   ]
  },
  {
   "cell_type": "code",
   "execution_count": 9,
   "metadata": {},
   "outputs": [],
   "source": [
    "indexes = np.array(indexes)\n",
    "distances = np.round(np.array(distances).astype(float), 4)"
   ]
  },
  {
   "cell_type": "code",
   "execution_count": 10,
   "metadata": {},
   "outputs": [
    {
     "name": "stdout",
     "output_type": "stream",
     "text": [
      "indexes :  (1000, 100)\n",
      "distances :  (1000, 100)\n"
     ]
    }
   ],
   "source": [
    "print('indexes : ', indexes.shape)\n",
    "print('distances : ', distances.shape)"
   ]
  },
  {
   "cell_type": "code",
   "execution_count": 11,
   "metadata": {},
   "outputs": [
    {
     "name": "stdout",
     "output_type": "stream",
     "text": [
      "trueIndexes :  (1000, 100)\n",
      "trueDistances :  (1000, 100)\n"
     ]
    }
   ],
   "source": [
    "path = '../datasets/'+nameFull\n",
    "(trueIndexes, trueDistances) = readDB(path)"
   ]
  },
  {
   "cell_type": "code",
   "execution_count": 21,
   "metadata": {},
   "outputs": [
    {
     "name": "stdout",
     "output_type": "stream",
     "text": [
      "94664 || 660281\n",
      "4.144 || 3.8792\n",
      "21236 || 93438\n",
      "4.1703 || 3.8838\n",
      "459704 || 1133489\n",
      "4.2301 || 3.9021\n",
      "1134590 || 97478\n",
      "4.2732 || 3.9037\n",
      "654189 || 995275\n",
      "4.3152 || 3.9294\n",
      "1156196 || 207076\n",
      "4.3477 || 3.9378\n",
      "598102 || 989330\n",
      "4.3527 || 3.9523\n",
      "554035 || 846101\n",
      "4.3904 || 3.955\n",
      "515592 || 242797\n",
      "4.4613 || 3.9568\n",
      "811715 || 402216\n",
      "4.471 || 3.9697\n",
      "980490 || 671078\n",
      "4.4713 || 3.9716\n",
      "16480 || 926741\n",
      "4.4798 || 3.978\n",
      "1046667 || 256447\n",
      "4.5059 || 3.9857\n",
      "1130544 || 914908\n",
      "4.529 || 3.9933\n",
      "864853 || 229951\n",
      "4.5424 || 3.9934\n",
      "780049 || 956338\n",
      "4.5473 || 4.0067\n",
      "1093919 || 859959\n",
      "4.5568 || 4.009\n",
      "1049786 || 56568\n",
      "4.5617 || 4.013\n",
      "1014096 || 647843\n",
      "4.5629 || 4.0318\n",
      "883395 || 987056\n",
      "4.5685 || 4.035\n",
      "602072 || 900915\n",
      "4.5739 || 4.0351\n",
      "681840 || 963392\n",
      "4.5764 || 4.0436\n",
      "210076 || 100544\n",
      "4.5897 || 4.0537\n",
      "349560 || 861914\n",
      "4.5932 || 4.0619\n",
      "610830 || 1025986\n",
      "4.596 || 4.064\n",
      "454198 || 80231\n",
      "4.604 || 4.0686\n",
      "917845 || 134899\n",
      "4.6089 || 4.073\n",
      "798162 || 294110\n",
      "4.6124 || 4.0761\n",
      "633586 || 716135\n",
      "4.6137 || 4.0762\n",
      "790221 || 452141\n",
      "4.6305 || 4.0779\n",
      "767160 || 264602\n",
      "4.6594 || 4.0781\n",
      "935437 || 499677\n",
      "4.6779 || 4.0818\n",
      "491744 || 834699\n",
      "4.6922 || 4.0824\n",
      "499484 || 265226\n",
      "4.6936 || 4.084\n",
      "756339 || 17932\n",
      "4.7067 || 4.0849\n",
      "75921 || 528570\n",
      "4.7139 || 4.085\n",
      "319514 || 392021\n",
      "4.7173 || 4.0869\n",
      "966562 || 482291\n",
      "4.7232 || 4.0886\n",
      "357382 || 660541\n",
      "4.7423 || 4.0956\n",
      "723260 || 368655\n",
      "4.7591 || 4.097\n",
      "526533 || 583340\n",
      "4.7722 || 4.1\n",
      "301146 || 908319\n",
      "4.7725 || 4.1015\n",
      "272881 || 1014707\n",
      "4.775 || 4.1027\n",
      "519675 || 51821\n",
      "4.78 || 4.1103\n",
      "178369 || 817757\n",
      "4.7869 || 4.1122\n",
      "900477 || 939324\n",
      "4.7981 || 4.1145\n",
      "1018509 || 147983\n",
      "4.7988 || 4.1193\n",
      "779079 || 530481\n",
      "4.8138 || 4.12\n",
      "1139710 || 1136921\n",
      "4.8279 || 4.1241\n",
      "205943 || 979282\n",
      "4.831 || 4.1261\n",
      "1043128 || 96651\n",
      "4.8313 || 4.1294\n",
      "425047 || 778500\n",
      "4.8332 || 4.1297\n",
      "818225 || 430077\n",
      "4.8413 || 4.1313\n",
      "300615 || 645035\n",
      "4.853 || 4.1317\n",
      "762824 || 924263\n",
      "4.8534 || 4.1321\n",
      "429 || 1125999\n",
      "4.8617 || 4.1334\n",
      "682228 || 689945\n",
      "4.8636 || 4.1351\n",
      "310750 || 292551\n",
      "4.8803 || 4.1386\n",
      "1107295 || 876802\n",
      "4.8954 || 4.1394\n",
      "409735 || 796611\n",
      "4.8976 || 4.1403\n",
      "754547 || 809929\n",
      "4.9018 || 4.1409\n",
      "863340 || 1034304\n",
      "4.9035 || 4.1424\n",
      "250925 || 94664\n",
      "4.9043 || 4.144\n",
      "263567 || 599119\n",
      "4.9044 || 4.1447\n",
      "229842 || 639351\n",
      "4.9085 || 4.1452\n",
      "27959 || 870693\n",
      "4.9087 || 4.1466\n",
      "708091 || 904716\n",
      "4.9102 || 4.1469\n",
      "717552 || 455463\n",
      "4.9169 || 4.1477\n",
      "692451 || 209031\n",
      "4.9172 || 4.1492\n",
      "638793 || 100206\n",
      "4.9214 || 4.1515\n",
      "122520 || 718564\n",
      "4.9254 || 4.1536\n",
      "542763 || 402905\n",
      "4.9255 || 4.155\n",
      "664794 || 186281\n",
      "4.9276 || 4.1576\n",
      "34703 || 1134185\n",
      "4.9481 || 4.1586\n",
      "583292 || 1150727\n",
      "4.9505 || 4.1596\n",
      "665866 || 896732\n",
      "4.959 || 4.1606\n",
      "499793 || 135950\n",
      "4.9595 || 4.1652\n",
      "515093 || 82685\n",
      "4.9621 || 4.1679\n",
      "641887 || 867359\n",
      "4.9681 || 4.1688\n",
      "7785 || 783290\n",
      "4.9717 || 4.1697\n",
      "1167227 || 445936\n",
      "4.9774 || 4.1701\n",
      "204043 || 21236\n",
      "4.9831 || 4.1703\n",
      "583294 || 273527\n",
      "4.9869 || 4.1704\n",
      "451861 || 1169856\n",
      "4.9895 || 4.1706\n",
      "657113 || 988080\n",
      "4.998 || 4.1727\n",
      "736975 || 680202\n",
      "5.0018 || 4.173\n",
      "219577 || 444778\n",
      "5.002 || 4.1737\n",
      "469281 || 491578\n",
      "5.0063 || 4.1738\n",
      "196571 || 1116758\n",
      "5.0073 || 4.1744\n",
      "1103806 || 1127655\n",
      "5.0247 || 4.1745\n"
     ]
    }
   ],
   "source": [
    "compareElems(90, indexes, distances, trueIndexes, trueDistances)"
   ]
  },
  {
   "cell_type": "code",
   "execution_count": 13,
   "metadata": {},
   "outputs": [
    {
     "name": "stdout",
     "output_type": "stream",
     "text": [
      "0.0150\n",
      "0.0342\n",
      "0.6346\n"
     ]
    }
   ],
   "source": [
    "calculateRecallAverage(indexes, distances, trueIndexes, trueDistances)\n",
    "calculateRecallAverage(indexes, distances, trueIndexes, trueDistances, 1.01)\n",
    "calculateRecallAverage(indexes, distances, trueIndexes, trueDistances, 1.1)"
   ]
  },
  {
   "cell_type": "code",
   "execution_count": 14,
   "metadata": {},
   "outputs": [
    {
     "name": "stdout",
     "output_type": "stream",
     "text": [
      "[  94664   21236  459704 1134590  654189 1156196  598102  554035  515592\n",
      "  811715  980490   16480 1046667 1130544  864853  780049 1093919 1049786\n",
      " 1014096  883395  602072  681840  210076  349560  610830  454198  917845\n",
      "  798162  633586  790221  767160  935437  491744  499484  756339   75921\n",
      "  319514  966562  357382  723260  526533  301146  272881  519675  178369\n",
      "  900477 1018509  779079 1139710  205943 1043128  425047  818225  300615\n",
      "  762824     429  682228  310750 1107295  409735  754547  863340  250925\n",
      "  263567  229842   27959  708091  717552  692451  638793  122520  542763\n",
      "  664794   34703  583292  665866  499793  515093  641887    7785 1167227\n",
      "  204043  583294  451861  657113  736975  219577  469281  196571 1103806\n",
      "  964648  294809  703793  128822  525826  561937  483965 1130453  293808\n",
      "  875552]\n"
     ]
    }
   ],
   "source": [
    "print(indexes[0]) # will find the 100 nearest neighbors"
   ]
  },
  {
   "cell_type": "code",
   "execution_count": 15,
   "metadata": {},
   "outputs": [
    {
     "name": "stdout",
     "output_type": "stream",
     "text": [
      "index :  94664 \n",
      "distance :  4.144\n",
      "index :  21236 \n",
      "distance :  4.1703\n",
      "index :  459704 \n",
      "distance :  4.2301\n",
      "index :  1134590 \n",
      "distance :  4.2732\n",
      "index :  654189 \n",
      "distance :  4.3152\n",
      "index :  1156196 \n",
      "distance :  4.3477\n",
      "index :  598102 \n",
      "distance :  4.3527\n",
      "index :  554035 \n",
      "distance :  4.3904\n",
      "index :  515592 \n",
      "distance :  4.4613\n",
      "index :  811715 \n",
      "distance :  4.471\n"
     ]
    },
    {
     "ename": "ValueError",
     "evalue": "cannot reshape array of size 100 into shape (28,28)",
     "output_type": "error",
     "traceback": [
      "\u001b[1;31m---------------------------------------------------------------------------\u001b[0m",
      "\u001b[1;31mValueError\u001b[0m                                Traceback (most recent call last)",
      "Input \u001b[1;32mIn [15]\u001b[0m, in \u001b[0;36m<cell line: 1>\u001b[1;34m()\u001b[0m\n\u001b[1;32m----> 1\u001b[0m \u001b[43mdraw_mnist\u001b[49m\u001b[43m(\u001b[49m\u001b[43mindexes\u001b[49m\u001b[43m,\u001b[49m\u001b[43m \u001b[49m\u001b[43mdistances\u001b[49m\u001b[43m,\u001b[49m\u001b[43m \u001b[49m\u001b[43mdatasetTrainImages\u001b[49m\u001b[43m)\u001b[49m\n",
      "File \u001b[1;32m<string>:60\u001b[0m, in \u001b[0;36mdraw_mnist\u001b[1;34m(indexes, distances, datasetImages)\u001b[0m\n",
      "File \u001b[1;32mc:\\Users\\Acer\\AppData\\Local\\Programs\\Python\\Python39\\lib\\site-packages\\numpy\\core\\fromnumeric.py:285\u001b[0m, in \u001b[0;36mreshape\u001b[1;34m(a, newshape, order)\u001b[0m\n\u001b[0;32m    200\u001b[0m \u001b[38;5;129m@array_function_dispatch\u001b[39m(_reshape_dispatcher)\n\u001b[0;32m    201\u001b[0m \u001b[38;5;28;01mdef\u001b[39;00m \u001b[38;5;21mreshape\u001b[39m(a, newshape, order\u001b[38;5;241m=\u001b[39m\u001b[38;5;124m'\u001b[39m\u001b[38;5;124mC\u001b[39m\u001b[38;5;124m'\u001b[39m):\n\u001b[0;32m    202\u001b[0m     \u001b[38;5;124;03m\"\"\"\u001b[39;00m\n\u001b[0;32m    203\u001b[0m \u001b[38;5;124;03m    Gives a new shape to an array without changing its data.\u001b[39;00m\n\u001b[0;32m    204\u001b[0m \n\u001b[1;32m   (...)\u001b[0m\n\u001b[0;32m    283\u001b[0m \u001b[38;5;124;03m           [5, 6]])\u001b[39;00m\n\u001b[0;32m    284\u001b[0m \u001b[38;5;124;03m    \"\"\"\u001b[39;00m\n\u001b[1;32m--> 285\u001b[0m     \u001b[38;5;28;01mreturn\u001b[39;00m \u001b[43m_wrapfunc\u001b[49m\u001b[43m(\u001b[49m\u001b[43ma\u001b[49m\u001b[43m,\u001b[49m\u001b[43m \u001b[49m\u001b[38;5;124;43m'\u001b[39;49m\u001b[38;5;124;43mreshape\u001b[39;49m\u001b[38;5;124;43m'\u001b[39;49m\u001b[43m,\u001b[49m\u001b[43m \u001b[49m\u001b[43mnewshape\u001b[49m\u001b[43m,\u001b[49m\u001b[43m \u001b[49m\u001b[43morder\u001b[49m\u001b[38;5;241;43m=\u001b[39;49m\u001b[43morder\u001b[49m\u001b[43m)\u001b[49m\n",
      "File \u001b[1;32mc:\\Users\\Acer\\AppData\\Local\\Programs\\Python\\Python39\\lib\\site-packages\\numpy\\core\\fromnumeric.py:56\u001b[0m, in \u001b[0;36m_wrapfunc\u001b[1;34m(obj, method, *args, **kwds)\u001b[0m\n\u001b[0;32m     54\u001b[0m bound \u001b[38;5;241m=\u001b[39m \u001b[38;5;28mgetattr\u001b[39m(obj, method, \u001b[38;5;28;01mNone\u001b[39;00m)\n\u001b[0;32m     55\u001b[0m \u001b[38;5;28;01mif\u001b[39;00m bound \u001b[38;5;129;01mis\u001b[39;00m \u001b[38;5;28;01mNone\u001b[39;00m:\n\u001b[1;32m---> 56\u001b[0m     \u001b[38;5;28;01mreturn\u001b[39;00m _wrapit(obj, method, \u001b[38;5;241m*\u001b[39margs, \u001b[38;5;241m*\u001b[39m\u001b[38;5;241m*\u001b[39mkwds)\n\u001b[0;32m     58\u001b[0m \u001b[38;5;28;01mtry\u001b[39;00m:\n\u001b[0;32m     59\u001b[0m     \u001b[38;5;28;01mreturn\u001b[39;00m bound(\u001b[38;5;241m*\u001b[39margs, \u001b[38;5;241m*\u001b[39m\u001b[38;5;241m*\u001b[39mkwds)\n",
      "File \u001b[1;32mc:\\Users\\Acer\\AppData\\Local\\Programs\\Python\\Python39\\lib\\site-packages\\numpy\\core\\fromnumeric.py:45\u001b[0m, in \u001b[0;36m_wrapit\u001b[1;34m(obj, method, *args, **kwds)\u001b[0m\n\u001b[0;32m     43\u001b[0m \u001b[38;5;28;01mexcept\u001b[39;00m \u001b[38;5;167;01mAttributeError\u001b[39;00m:\n\u001b[0;32m     44\u001b[0m     wrap \u001b[38;5;241m=\u001b[39m \u001b[38;5;28;01mNone\u001b[39;00m\n\u001b[1;32m---> 45\u001b[0m result \u001b[38;5;241m=\u001b[39m \u001b[38;5;28mgetattr\u001b[39m(asarray(obj), method)(\u001b[38;5;241m*\u001b[39margs, \u001b[38;5;241m*\u001b[39m\u001b[38;5;241m*\u001b[39mkwds)\n\u001b[0;32m     46\u001b[0m \u001b[38;5;28;01mif\u001b[39;00m wrap:\n\u001b[0;32m     47\u001b[0m     \u001b[38;5;28;01mif\u001b[39;00m \u001b[38;5;129;01mnot\u001b[39;00m \u001b[38;5;28misinstance\u001b[39m(result, mu\u001b[38;5;241m.\u001b[39mndarray):\n",
      "\u001b[1;31mValueError\u001b[0m: cannot reshape array of size 100 into shape (28,28)"
     ]
    },
    {
     "data": {
      "image/png": "[encoded data removed]",
      "text/plain": [
       "<Figure size 2880x288 with 1 Axes>"
      ]
     },
     "metadata": {
      "needs_background": "light"
     },
     "output_type": "display_data"
    }
   ],
   "source": [
    "# draw_mnist(indexes, distances, datasetTrainImages)"
   ]
  }
 ],
 "metadata": {
  "kernelspec": {
   "display_name": "Python 3",
   "language": "python",
   "name": "python3"
  },
  "language_info": {
   "codemirror_mode": {
    "name": "ipython",
    "version": 3
   },
   "file_extension": ".py",
   "mimetype": "text/x-python",
   "name": "python",
   "nbconvert_exporter": "python",
   "pygments_lexer": "ipython3",
   "version": "3.9.6"
  }
 },
 "nbformat": 4,
 "nbformat_minor": 2
}
