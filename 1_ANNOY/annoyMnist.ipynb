{
 "cells": [
  {
   "cell_type": "code",
   "execution_count": 22,
   "metadata": {},
   "outputs": [],
   "source": [
    "from annoy import AnnoyIndex\n",
    "exec(open(\"../database.py\").read())\n",
    "exec(open(\"../helperFunctions.py\").read())\n",
    "import numpy as np\n",
    "from keras.datasets import mnist\n",
    "from time import perf_counter\n",
    "from ast import literal_eval"
   ]
  },
  {
   "cell_type": "code",
   "execution_count": 23,
   "metadata": {},
   "outputs": [],
   "source": [
    "datasetImages, datasetLabels = readMnist()"
   ]
  },
  {
   "cell_type": "markdown",
   "metadata": {},
   "source": [
    "***Create Annoy Index***"
   ]
  },
  {
   "cell_type": "code",
   "execution_count": 28,
   "metadata": {},
   "outputs": [
    {
     "name": "stdout",
     "output_type": "stream",
     "text": [
      "Took 6.997 seconds\n"
     ]
    }
   ],
   "source": [
    "def createIndex(indexMethod, datasetImages):\n",
    "    f = datasetImages.shape[1] # Length of item vector that will be indexed\n",
    "    t = indexMethod(f, 'euclidean')\n",
    "    time_start = perf_counter()\n",
    "    for i in range(datasetImages.shape[0]):\n",
    "        t.add_item(i, datasetImages[i])\n",
    "    t.build(10) # 10 trees\n",
    "    time_end = perf_counter()\n",
    "    totalTime = (time_end - time_start)\n",
    "    print(f'Took {totalTime:.3f} seconds')\n",
    "    return (t, totalTime)\n",
    "(indexedStruct, time) = createIndex(AnnoyIndex, datasetImages)"
   ]
  },
  {
   "cell_type": "code",
   "execution_count": 29,
   "metadata": {},
   "outputs": [],
   "source": [
    "# (min, max) = createIndexNumerous(createIndex, AnnoyIndex, datasetImages, 10)\n",
    "# print('min : ', min, '\\n','max : ', max,)"
   ]
  },
  {
   "cell_type": "code",
   "execution_count": 30,
   "metadata": {},
   "outputs": [
    {
     "data": {
      "text/plain": [
       "True"
      ]
     },
     "execution_count": 30,
     "metadata": {},
     "output_type": "execute_result"
    }
   ],
   "source": [
    "indexedStruct.save('first.ann')"
   ]
  },
  {
   "cell_type": "markdown",
   "metadata": {},
   "source": [
    "***Basic operations on annoy index***"
   ]
  },
  {
   "cell_type": "code",
   "execution_count": 31,
   "metadata": {},
   "outputs": [
    {
     "data": {
      "text/plain": [
       "True"
      ]
     },
     "execution_count": 31,
     "metadata": {},
     "output_type": "execute_result"
    }
   ],
   "source": [
    "u = AnnoyIndex(datasetImages.shape[1], 'euclidean')\n",
    "u.load('first.ann') # super fast, will just mmap the file"
   ]
  },
  {
   "cell_type": "code",
   "execution_count": 32,
   "metadata": {},
   "outputs": [
    {
     "name": "stdout",
     "output_type": "stream",
     "text": [
      "Took 1.594 seconds\n"
     ]
    },
    {
     "data": {
      "text/plain": [
       "1.594"
      ]
     },
     "execution_count": 32,
     "metadata": {},
     "output_type": "execute_result"
    }
   ],
   "source": [
    "indexes = []\n",
    "distances = []\n",
    "def measureTime(par, indexes, distances):\n",
    "    totalTime = 0\n",
    "    for i in range(par) : \n",
    "        time_start = perf_counter()\n",
    "        (index, distance) = u.get_nns_by_item(i, 100, include_distances=True)\n",
    "        time_end = perf_counter()\n",
    "        totalTime += (time_end - time_start)\n",
    "        indexes.append(index)\n",
    "        distances.append(distance)\n",
    "    # report the duration\n",
    "    print(f'Took {totalTime:.3f} seconds')\n",
    "    return np.round(totalTime, 3)\n",
    "measureTime(1000, indexes, distances)"
   ]
  },
  {
   "cell_type": "code",
   "execution_count": 33,
   "metadata": {},
   "outputs": [],
   "source": [
    "# (min, max) = measureTimeNumerous(measureTime, 10)\n",
    "# print('min : ', min, '\\n','max : ', max,)"
   ]
  },
  {
   "cell_type": "code",
   "execution_count": 34,
   "metadata": {},
   "outputs": [],
   "source": [
    "indexes = np.array(indexes)\n",
    "distances = np.round(np.array(distances).astype(float), 4)"
   ]
  },
  {
   "cell_type": "code",
   "execution_count": 35,
   "metadata": {},
   "outputs": [
    {
     "name": "stdout",
     "output_type": "stream",
     "text": [
      "indexes :  (1000, 100) \n",
      " distances :  (1000, 100)\n"
     ]
    }
   ],
   "source": [
    "print('indexes : ', indexes.shape, '\\n', 'distances : ', distances.shape,)"
   ]
  },
  {
   "cell_type": "code",
   "execution_count": 36,
   "metadata": {},
   "outputs": [],
   "source": [
    "(trueIndexes, trueDistances) = readDB()"
   ]
  },
  {
   "cell_type": "code",
   "execution_count": 38,
   "metadata": {},
   "outputs": [
    {
     "name": "stdout",
     "output_type": "stream",
     "text": [
      "0 || 0\n",
      "0.0 || 0.0\n",
      "30483 || 32248\n",
      "1596.7095 || 1561.4724\n",
      "63470 || 8728\n",
      "1600.8738 || 1591.6014\n",
      "65325 || 18932\n",
      "1603.479 || 1594.7191\n",
      "24149 || 30483\n",
      "1604.4469 || 1596.7095\n",
      "52295 || 63470\n",
      "1605.7092 || 1600.8738\n",
      "26251 || 65325\n",
      "1609.6943 || 1603.479\n",
      "50173 || 24149\n",
      "1613.7047 || 1604.4469\n",
      "63952 || 42338\n",
      "1627.4609 || 1604.8876\n",
      "67351 || 52295\n",
      "1650.3839 || 1605.7092\n"
     ]
    }
   ],
   "source": [
    "compareFirstTen(indexes, distances, trueIndexes, trueDistances)"
   ]
  },
  {
   "cell_type": "code",
   "execution_count": 39,
   "metadata": {},
   "outputs": [
    {
     "name": "stdout",
     "output_type": "stream",
     "text": [
      "0.1957\n",
      "0.4841\n",
      "0.9896\n"
     ]
    }
   ],
   "source": [
    "calculateRecallAverage(indexes, distances, trueIndexes, trueDistances)\n",
    "calculateRecallAverage(indexes, distances, trueIndexes, trueDistances, 1.01)\n",
    "calculateRecallAverage(indexes, distances, trueIndexes, trueDistances, 1.1)"
   ]
  },
  {
   "cell_type": "code",
   "execution_count": 40,
   "metadata": {},
   "outputs": [
    {
     "name": "stdout",
     "output_type": "stream",
     "text": [
      "[    0 30483 63470 65325 24149 52295 26251 50173 63952 67351 24330 53428\n",
      " 18123 62832 10536 20034 52057 33825 22477 64902 19825  1634 27378 15378\n",
      " 34474 46824 60857 69428 29021 24107 69298 39031  1978 21976 36697 25675\n",
      " 11396 52540 44263 65632 63754  5210 59212 22963  6516   832 35838 21210\n",
      " 52559 62558 65021 46698 50187 67393  4622 50301 66548 23225 50071 45567\n",
      " 43031 26313  2395 11936 66177 29023 68741 67484 62586 66823 68924 25557\n",
      " 67435 67388 29649 21543  3005 14543 15415 40432 22542 33607 26383  9652\n",
      " 21563 67304  4443 60645 18949 54131  2037 48541 25720 36695 32001 60491\n",
      " 55453 60674 15482   771]\n"
     ]
    }
   ],
   "source": [
    "print(indexes[0]) # will find the 100 nearest neighbors"
   ]
  },
  {
   "cell_type": "code",
   "execution_count": 41,
   "metadata": {},
   "outputs": [
    {
     "name": "stdout",
     "output_type": "stream",
     "text": [
      "index :  0 \n",
      "distance :  0.0\n",
      "index :  30483 \n",
      "distance :  1596.7095\n",
      "index :  63470 \n",
      "distance :  1600.8738\n",
      "index :  65325 \n",
      "distance :  1603.479\n",
      "index :  24149 \n",
      "distance :  1604.4469\n",
      "index :  52295 \n",
      "distance :  1605.7092\n",
      "index :  26251 \n",
      "distance :  1609.6943\n",
      "index :  50173 \n",
      "distance :  1613.7047\n",
      "index :  63952 \n",
      "distance :  1627.4609\n",
      "index :  67351 \n",
      "distance :  1650.3839\n"
     ]
    },
    {
     "data": {
      "image/png": "[encoded data removed]",
      "text/plain": [
       "<Figure size 2880x288 with 10 Axes>"
      ]
     },
     "metadata": {
      "needs_background": "light"
     },
     "output_type": "display_data"
    }
   ],
   "source": [
    "draw_mnist(indexes, distances, datasetImages)"
   ]
  }
 ],
 "metadata": {
  "kernelspec": {
   "display_name": "Python 3",
   "language": "python",
   "name": "python3"
  },
  "language_info": {
   "codemirror_mode": {
    "name": "ipython",
    "version": 3
   },
   "file_extension": ".py",
   "mimetype": "text/x-python",
   "name": "python",
   "nbconvert_exporter": "python",
   "pygments_lexer": "ipython3",
   "version": "3.9.6"
  }
 },
 "nbformat": 4,
 "nbformat_minor": 2
}
