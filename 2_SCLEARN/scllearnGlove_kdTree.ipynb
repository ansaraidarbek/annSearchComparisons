{
 "cells": [
  {
   "cell_type": "code",
   "execution_count": 1,
   "metadata": {},
   "outputs": [],
   "source": [
    "from sklearn.neighbors import NearestNeighbors\n",
    "exec(open(\"../database.py\").read())\n",
    "exec(open(\"../helperFunctions.py\").read())\n",
    "import numpy as np\n",
    "from keras.datasets import mnist\n",
    "from time import perf_counter\n",
    "from ast import literal_eval"
   ]
  },
  {
   "cell_type": "code",
   "execution_count": 2,
   "metadata": {},
   "outputs": [
    {
     "name": "stderr",
     "output_type": "stream",
     "text": [
      "<string>:57: DeprecationWarning: `product` is deprecated as of NumPy 1.25.0, and will be removed in NumPy 2.0. Please use `prod` instead.\n"
     ]
    },
    {
     "name": "stdout",
     "output_type": "stream",
     "text": [
      "trainDataset :  (1183514, 100)\n",
      "testDataset :  (10000, 100)\n"
     ]
    },
    {
     "name": "stderr",
     "output_type": "stream",
     "text": [
      "<string>:58: DeprecationWarning: `product` is deprecated as of NumPy 1.25.0, and will be removed in NumPy 2.0. Please use `prod` instead.\n",
      "<string>:59: DeprecationWarning: `product` is deprecated as of NumPy 1.25.0, and will be removed in NumPy 2.0. Please use `prod` instead.\n"
     ]
    }
   ],
   "source": [
    "name = 'glove-100-angular'\n",
    "nameFull = name +'-true-labels.xlsx'\n",
    "datasetTrainImages, datasetTestImages, _ = get_ann_benchmark_data(name)"
   ]
  },
  {
   "cell_type": "markdown",
   "metadata": {},
   "source": [
    "***Create sclearn ann***"
   ]
  },
  {
   "cell_type": "code",
   "execution_count": 3,
   "metadata": {},
   "outputs": [
    {
     "name": "stdout",
     "output_type": "stream",
     "text": [
      "Took 105.174 seconds\n"
     ]
    }
   ],
   "source": [
    "def createIndex(indexMethod, datasetImages):\n",
    "    time_start = perf_counter()\n",
    "    stopIndex = indexMethod(algorithm='kd_tree', metric='euclidean').fit(datasetImages)\n",
    "    time_end = perf_counter()\n",
    "    totalTime = (time_end - time_start)\n",
    "    print(f'Took {totalTime:.3f} seconds')\n",
    "    return (stopIndex, totalTime)\n",
    "(indexedStruct, time) = createIndex(NearestNeighbors, datasetTrainImages)"
   ]
  },
  {
   "cell_type": "code",
   "execution_count": 4,
   "metadata": {},
   "outputs": [],
   "source": [
    "# (min, max) = createIndexNumerous(createIndex, AnnoyIndex, datasetImages, 10)\n",
    "# print('min : ', min, '\\n','max : ', max,)"
   ]
  },
  {
   "cell_type": "code",
   "execution_count": 5,
   "metadata": {},
   "outputs": [
    {
     "name": "stdout",
     "output_type": "stream",
     "text": [
      "Took 553.279 seconds\n"
     ]
    },
    {
     "data": {
      "text/plain": [
       "553.279"
      ]
     },
     "execution_count": 5,
     "metadata": {},
     "output_type": "execute_result"
    }
   ],
   "source": [
    "indexes = []\n",
    "distances = []\n",
    "def measureTime(par, indexes, distances, datasetImages):\n",
    "    totalTime = 0\n",
    "    k = 100\n",
    "    for i in range(par) : \n",
    "        xq = datasetImages[i:i+1].astype('float32') # Use the first image as the query vector\n",
    "        time_start = perf_counter()\n",
    "        distance, index = indexedStruct.kneighbors(X = xq, n_neighbors= k )\n",
    "        time_end = perf_counter()\n",
    "        totalTime += (time_end - time_start)\n",
    "        indexes.append(index[0])\n",
    "        distances.append(distance[0])\n",
    "    # report the duration\n",
    "    print(f'Took {totalTime:.3f} seconds')\n",
    "    return np.round(totalTime, 3)\n",
    "measureTime(1000, indexes, distances, datasetTestImages)"
   ]
  },
  {
   "cell_type": "code",
   "execution_count": 6,
   "metadata": {},
   "outputs": [],
   "source": [
    "# (min, max) = measureTimeNumerous(measureTime, 10)\n",
    "# print('min : ', min, '\\n','max : ', max,)"
   ]
  },
  {
   "cell_type": "code",
   "execution_count": 7,
   "metadata": {},
   "outputs": [],
   "source": [
    "indexes = np.array(indexes)\n",
    "distances = np.round(np.array(distances).astype(float), 4)"
   ]
  },
  {
   "cell_type": "code",
   "execution_count": 8,
   "metadata": {},
   "outputs": [
    {
     "name": "stdout",
     "output_type": "stream",
     "text": [
      "indexes :  (1000, 100)\n",
      "distances :  (1000, 100)\n"
     ]
    }
   ],
   "source": [
    "print('indexes : ', indexes.shape)\n",
    "print('distances : ', distances.shape)"
   ]
  },
  {
   "cell_type": "code",
   "execution_count": 9,
   "metadata": {},
   "outputs": [
    {
     "name": "stdout",
     "output_type": "stream",
     "text": [
      "trueIndexes :  (1000, 100)\n",
      "trueDistances :  (1000, 100)\n"
     ]
    }
   ],
   "source": [
    "path = '../datasets/'+nameFull\n",
    "(trueIndexes, trueDistances) = readDB(path)"
   ]
  },
  {
   "cell_type": "code",
   "execution_count": 10,
   "metadata": {},
   "outputs": [
    {
     "name": "stdout",
     "output_type": "stream",
     "text": [
      "660281 || 660281\n",
      "3.8792 || 3.8792\n",
      "93438 || 93438\n",
      "3.8838 || 3.8838\n",
      "1133489 || 1133489\n",
      "3.9021 || 3.9021\n",
      "97478 || 97478\n",
      "3.9037 || 3.9037\n",
      "995275 || 995275\n",
      "3.9294 || 3.9294\n",
      "207076 || 207076\n",
      "3.9378 || 3.9378\n",
      "989330 || 989330\n",
      "3.9523 || 3.9523\n",
      "846101 || 846101\n",
      "3.955 || 3.955\n",
      "242797 || 242797\n",
      "3.9568 || 3.9568\n",
      "402216 || 402216\n",
      "3.9697 || 3.9697\n",
      "671078 || 671078\n",
      "3.9716 || 3.9716\n",
      "926741 || 926741\n",
      "3.978 || 3.978\n",
      "256447 || 256447\n",
      "3.9857 || 3.9857\n",
      "914908 || 914908\n",
      "3.9933 || 3.9933\n",
      "229951 || 229951\n",
      "3.9934 || 3.9934\n",
      "956338 || 956338\n",
      "4.0067 || 4.0067\n",
      "859959 || 859959\n",
      "4.009 || 4.009\n",
      "56568 || 56568\n",
      "4.013 || 4.013\n",
      "647843 || 647843\n",
      "4.0318 || 4.0318\n",
      "987056 || 987056\n",
      "4.035 || 4.035\n",
      "900915 || 900915\n",
      "4.0351 || 4.0351\n",
      "963392 || 963392\n",
      "4.0436 || 4.0436\n",
      "100544 || 100544\n",
      "4.0537 || 4.0537\n",
      "861914 || 861914\n",
      "4.0619 || 4.0619\n",
      "1025986 || 1025986\n",
      "4.064 || 4.064\n",
      "80231 || 80231\n",
      "4.0686 || 4.0686\n",
      "134899 || 134899\n",
      "4.073 || 4.073\n",
      "294110 || 294110\n",
      "4.0761 || 4.0761\n",
      "716135 || 716135\n",
      "4.0762 || 4.0762\n",
      "452141 || 452141\n",
      "4.0779 || 4.0779\n",
      "264602 || 264602\n",
      "4.0781 || 4.0781\n",
      "499677 || 499677\n",
      "4.0818 || 4.0818\n",
      "834699 || 834699\n",
      "4.0824 || 4.0824\n",
      "265226 || 265226\n",
      "4.084 || 4.084\n",
      "17932 || 17932\n",
      "4.0849 || 4.0849\n",
      "528570 || 528570\n",
      "4.085 || 4.085\n",
      "392021 || 392021\n",
      "4.0869 || 4.0869\n",
      "482291 || 482291\n",
      "4.0886 || 4.0886\n",
      "660541 || 660541\n",
      "4.0956 || 4.0956\n",
      "368655 || 368655\n",
      "4.097 || 4.097\n",
      "583340 || 583340\n",
      "4.1 || 4.1\n",
      "908319 || 908319\n",
      "4.1015 || 4.1015\n",
      "1014707 || 1014707\n",
      "4.1027 || 4.1027\n",
      "51821 || 51821\n",
      "4.1103 || 4.1103\n",
      "817757 || 817757\n",
      "4.1122 || 4.1122\n",
      "939324 || 939324\n",
      "4.1145 || 4.1145\n",
      "147983 || 147983\n",
      "4.1193 || 4.1193\n",
      "530481 || 530481\n",
      "4.12 || 4.12\n",
      "1136921 || 1136921\n",
      "4.1241 || 4.1241\n",
      "979282 || 979282\n",
      "4.1261 || 4.1261\n",
      "96651 || 96651\n",
      "4.1294 || 4.1294\n",
      "778500 || 778500\n",
      "4.1297 || 4.1297\n",
      "430077 || 430077\n",
      "4.1313 || 4.1313\n",
      "645035 || 645035\n",
      "4.1317 || 4.1317\n",
      "924263 || 924263\n",
      "4.1321 || 4.1321\n",
      "1125999 || 1125999\n",
      "4.1334 || 4.1334\n",
      "689945 || 689945\n",
      "4.1351 || 4.1351\n",
      "292551 || 292551\n",
      "4.1386 || 4.1386\n",
      "876802 || 876802\n",
      "4.1394 || 4.1394\n",
      "796611 || 796611\n",
      "4.1403 || 4.1403\n",
      "809929 || 809929\n",
      "4.1409 || 4.1409\n",
      "1034304 || 1034304\n",
      "4.1424 || 4.1424\n",
      "94664 || 94664\n",
      "4.144 || 4.144\n",
      "599119 || 599119\n",
      "4.1447 || 4.1447\n",
      "639351 || 639351\n",
      "4.1452 || 4.1452\n",
      "870693 || 870693\n",
      "4.1466 || 4.1466\n",
      "904716 || 904716\n",
      "4.1469 || 4.1469\n",
      "455463 || 455463\n",
      "4.1477 || 4.1477\n",
      "209031 || 209031\n",
      "4.1492 || 4.1492\n",
      "100206 || 100206\n",
      "4.1515 || 4.1515\n",
      "718564 || 718564\n",
      "4.1536 || 4.1536\n",
      "402905 || 402905\n",
      "4.155 || 4.155\n",
      "186281 || 186281\n",
      "4.1576 || 4.1576\n",
      "1134185 || 1134185\n",
      "4.1586 || 4.1586\n",
      "1150727 || 1150727\n",
      "4.1596 || 4.1596\n",
      "896732 || 896732\n",
      "4.1606 || 4.1606\n",
      "135950 || 135950\n",
      "4.1652 || 4.1652\n",
      "82685 || 82685\n",
      "4.1679 || 4.1679\n",
      "867359 || 867359\n",
      "4.1688 || 4.1688\n",
      "783290 || 783290\n",
      "4.1697 || 4.1697\n",
      "445936 || 445936\n",
      "4.1701 || 4.1701\n",
      "21236 || 21236\n",
      "4.1703 || 4.1703\n",
      "273527 || 273527\n",
      "4.1704 || 4.1704\n",
      "1169856 || 1169856\n",
      "4.1706 || 4.1706\n",
      "988080 || 988080\n",
      "4.1727 || 4.1727\n",
      "680202 || 680202\n",
      "4.173 || 4.173\n",
      "444778 || 444778\n",
      "4.1737 || 4.1737\n",
      "491578 || 491578\n",
      "4.1738 || 4.1738\n",
      "1116758 || 1116758\n",
      "4.1744 || 4.1744\n",
      "1127655 || 1127655\n",
      "4.1745 || 4.1745\n"
     ]
    }
   ],
   "source": [
    "compareElems(90, indexes, distances, trueIndexes, trueDistances)"
   ]
  },
  {
   "cell_type": "code",
   "execution_count": 11,
   "metadata": {},
   "outputs": [
    {
     "name": "stdout",
     "output_type": "stream",
     "text": [
      "0.9984\n",
      "1.0000\n",
      "1.0000\n"
     ]
    }
   ],
   "source": [
    "calculateRecallAverage(indexes, distances, trueIndexes, trueDistances)\n",
    "calculateRecallAverage(indexes, distances, trueIndexes, trueDistances, 1.01)\n",
    "calculateRecallAverage(indexes, distances, trueIndexes, trueDistances, 1.1)"
   ]
  },
  {
   "cell_type": "code",
   "execution_count": 12,
   "metadata": {},
   "outputs": [
    {
     "name": "stdout",
     "output_type": "stream",
     "text": [
      "[ 660281   93438 1133489   97478  995275  207076  989330  846101  242797\n",
      "  402216  671078  926741  256447  914908  229951  956338  859959   56568\n",
      "  647843  987056  900915  963392  100544  861914 1025986   80231  134899\n",
      "  294110  716135  452141  264602  499677  834699  265226   17932  528570\n",
      "  392021  482291  660541  368655  583340  908319 1014707   51821  817757\n",
      "  939324  147983  530481 1136921  979282   96651  778500  430077  645035\n",
      "  924263 1125999  689945  292551  876802  796611  809929 1034304   94664\n",
      "  599119  639351  870693  904716  455463  209031  100206  718564  402905\n",
      "  186281 1134185 1150727  896732  135950   82685  867359  783290  445936\n",
      "   21236  273527 1169856  988080  680202  444778  491578 1116758 1127655\n",
      "  427738  486364  733580  816741  699013  380601 1051872  521115  703678\n",
      "  416553]\n"
     ]
    }
   ],
   "source": [
    "print(indexes[0]) # will find the 100 nearest neighbors"
   ]
  },
  {
   "cell_type": "code",
   "execution_count": 13,
   "metadata": {},
   "outputs": [],
   "source": [
    "# draw_mnist(indexes, distances, datasetTrainImages)"
   ]
  }
 ],
 "metadata": {
  "kernelspec": {
   "display_name": "Python 3",
   "language": "python",
   "name": "python3"
  },
  "language_info": {
   "codemirror_mode": {
    "name": "ipython",
    "version": 3
   },
   "file_extension": ".py",
   "mimetype": "text/x-python",
   "name": "python",
   "nbconvert_exporter": "python",
   "pygments_lexer": "ipython3",
   "version": "3.9.6"
  }
 },
 "nbformat": 4,
 "nbformat_minor": 2
}
