{
 "cells": [
  {
   "cell_type": "code",
   "execution_count": 27,
   "metadata": {},
   "outputs": [],
   "source": [
    "import mrpt\n",
    "exec(open(\"../database.py\").read())\n",
    "exec(open(\"../helperFunctions.py\").read())\n",
    "import numpy as np\n",
    "from keras.datasets import mnist\n",
    "from time import perf_counter\n",
    "from ast import literal_eval"
   ]
  },
  {
   "cell_type": "code",
   "execution_count": 28,
   "metadata": {},
   "outputs": [
    {
     "name": "stdout",
     "output_type": "stream",
     "text": [
      "trainDataset :  (9990000, 96)\n",
      "testDataset :  (10000, 96)\n"
     ]
    }
   ],
   "source": [
    "name = 'deepImage-96'\n",
    "runs = 1\n",
    "metric = 'euclidean'\n",
    "queries = 1000\n",
    "nameFull = name + '-' + metric + '-true-labels.xlsx'\n",
    "datasetTrainImages, datasetTestImages, _ = get_ann_benchmark_data(name)"
   ]
  },
  {
   "cell_type": "markdown",
   "metadata": {},
   "source": [
    "***Create mrpt ann***"
   ]
  },
  {
   "cell_type": "code",
   "execution_count": 29,
   "metadata": {},
   "outputs": [],
   "source": [
    "def createIndex(indexMethod, datasetImages):\n",
    "    time_start = perf_counter()\n",
    "    index = indexMethod(datasetImages)\n",
    "    index.build_autotune_sample(0.8, 100)\n",
    "    time_end = perf_counter()\n",
    "    totalTime = (time_end - time_start)\n",
    "    return (index, totalTime)"
   ]
  },
  {
   "cell_type": "code",
   "execution_count": 30,
   "metadata": {},
   "outputs": [
    {
     "ename": "",
     "evalue": "",
     "output_type": "error",
     "traceback": [
      "\u001b[1;31mThe Kernel crashed while executing code in the current cell or a previous cell. \n",
      "\u001b[1;31mPlease review the code in the cell(s) to identify a possible cause of the failure. \n",
      "\u001b[1;31mClick <a href='https://aka.ms/vscodeJupyterKernelCrash'>here</a> for more info. \n",
      "\u001b[1;31mView Jupyter <a href='command:jupyter.viewOutput'>log</a> for further details."
     ]
    }
   ],
   "source": [
    "(minBuildTime, maxBuildTime, indexedStruct) = createIndexNumerous(createIndex, mrpt.MRPTIndex, datasetTrainImages, runs)\n",
    "print('minBuildTime : ', minBuildTime)\n",
    "print('maxBuildTime : ', maxBuildTime)"
   ]
  },
  {
   "cell_type": "code",
   "execution_count": null,
   "metadata": {},
   "outputs": [],
   "source": [
    "def measureTime(par, indexes, distances, datasetImages):\n",
    "    totalTime = 0\n",
    "    k = 100\n",
    "    for i in range(par) : \n",
    "        xq = datasetImages[i:i+1].astype('float32') # Use the first image as the query vector\n",
    "        time_start = perf_counter()\n",
    "        index, distance = indexedStruct.ann(xq, return_distances=True)\n",
    "        time_end = perf_counter()\n",
    "        totalTime += (time_end - time_start)\n",
    "        indexes.append(index[0])\n",
    "        distances.append(distance[0])\n",
    "    return np.round(totalTime, 3)"
   ]
  },
  {
   "cell_type": "code",
   "execution_count": null,
   "metadata": {},
   "outputs": [
    {
     "name": "stdout",
     "output_type": "stream",
     "text": [
      "search  1  done\n",
      "minSearchTime :  0.242\n",
      "maxSearchTime :  0.242\n"
     ]
    }
   ],
   "source": [
    "(minSearchTime, maxSearchTime, indexes, distances) = measureTimeNumerous(measureTime, runs, queries, datasetTestImages)\n",
    "print('minSearchTime : ', minSearchTime)\n",
    "print('maxSearchTime : ', maxSearchTime)"
   ]
  },
  {
   "cell_type": "code",
   "execution_count": null,
   "metadata": {},
   "outputs": [],
   "source": [
    "indexes = np.array(indexes)\n",
    "distances = np.round(np.array(distances).astype(float), 4)"
   ]
  },
  {
   "cell_type": "code",
   "execution_count": null,
   "metadata": {},
   "outputs": [
    {
     "name": "stdout",
     "output_type": "stream",
     "text": [
      "indexes :  (1000, 100)\n",
      "distances :  (1000, 100)\n"
     ]
    }
   ],
   "source": [
    "print('indexes : ', indexes.shape)\n",
    "print('distances : ', distances.shape)"
   ]
  },
  {
   "cell_type": "code",
   "execution_count": null,
   "metadata": {},
   "outputs": [
    {
     "name": "stdout",
     "output_type": "stream",
     "text": [
      "trueIndexes :  (1000, 100)\n",
      "trueDistances :  (1000, 100)\n"
     ]
    }
   ],
   "source": [
    "path = '../datasets/'+nameFull\n",
    "(trueIndexes, trueDistances) = readDB(path)"
   ]
  },
  {
   "cell_type": "code",
   "execution_count": null,
   "metadata": {},
   "outputs": [
    {
     "name": "stdout",
     "output_type": "stream",
     "text": [
      "53843 || 53843\n",
      "676.584 || 676.584\n",
      "38620 || 38620\n",
      "793.9868 || 793.9868\n",
      "16186 || 16186\n",
      "862.6766 || 862.6766\n",
      "27059 || 27059\n",
      "864.5039 || 864.5039\n",
      "47003 || 47003\n",
      "894.7 || 894.7\n",
      "14563 || 14563\n",
      "909.7043 || 909.7043\n",
      "44566 || 44566\n",
      "917.6323 || 917.6323\n",
      "15260 || 15260\n",
      "921.6241 || 921.6241\n",
      "40368 || 40368\n",
      "922.147 || 922.147\n",
      "36395 || 36395\n",
      "943.4972 || 943.4972\n"
     ]
    }
   ],
   "source": [
    "amount = 10\n",
    "compareElems(amount, indexes, distances, trueIndexes, trueDistances)"
   ]
  },
  {
   "cell_type": "code",
   "execution_count": null,
   "metadata": {},
   "outputs": [
    {
     "name": "stdout",
     "output_type": "stream",
     "text": [
      "Recall@1: 0.3766\n",
      "Recall@1.01: 0.626\n",
      "Recall@1.1: 0.9716\n",
      "97\n",
      "norm Recall is 0.7753\n"
     ]
    },
    {
     "data": {
      "text/plain": [
       "0.7753"
      ]
     },
     "execution_count": 26,
     "metadata": {},
     "output_type": "execute_result"
    }
   ],
   "source": [
    "calculateRecallAverage(indexes, distances, trueIndexes, trueDistances)\n",
    "calculateRecallAverage(indexes, distances, trueIndexes, trueDistances, 1.01)\n",
    "calculateRecallAverage(indexes, distances, trueIndexes, trueDistances, 1.1)\n",
    "calculateNormRecall(indexes, trueIndexes)"
   ]
  }
 ],
 "metadata": {
  "kernelspec": {
   "display_name": "Python 3",
   "language": "python",
   "name": "python3"
  },
  "language_info": {
   "codemirror_mode": {
    "name": "ipython",
    "version": 3
   },
   "file_extension": ".py",
   "mimetype": "text/x-python",
   "name": "python",
   "nbconvert_exporter": "python",
   "pygments_lexer": "ipython3",
   "version": "3.8.10"
  }
 },
 "nbformat": 4,
 "nbformat_minor": 2
}
