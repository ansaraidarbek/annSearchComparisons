{
 "cells": [
  {
   "cell_type": "code",
   "execution_count": 1,
   "metadata": {},
   "outputs": [],
   "source": [
    "import numpy as np\n",
    "import faiss\n",
    "import matplotlib.pyplot as plt\n",
    "\n",
    "from sklearn.datasets import load_digits"
   ]
  },
  {
   "cell_type": "code",
   "execution_count": 2,
   "metadata": {},
   "outputs": [
    {
     "name": "stdout",
     "output_type": "stream",
     "text": [
      "Image Data Shape (1797, 64)\n"
     ]
    }
   ],
   "source": [
    "digits = load_digits()\n",
    "print(\"Image Data Shape\" , digits.data.shape)\n",
    "def draw_mnist(arr):\n",
    "    plt.figure(figsize=(len(arr)*4,4))\n",
    "    for index, (image) in enumerate(zip(arr)):\n",
    "        plt.subplot(1, len(arr), index + 1)\n",
    "        plt.imshow(np.reshape(image, (8,8)), cmap=plt.cm.gray)"
   ]
  },
  {
   "cell_type": "code",
   "execution_count": 3,
   "metadata": {},
   "outputs": [
    {
     "name": "stdout",
     "output_type": "stream",
     "text": [
      "xb.shape :  (1797, 64) \n",
      "xq.shape :  (1, 64)\n"
     ]
    }
   ],
   "source": [
    "# mnist indexing\n",
    "d = 64                           # dimension\n",
    "nb = 100                      # database size\n",
    "nq = 10                     # nb of queries\n",
    "\n",
    "xb = digits.data.astype('float32') \n",
    "xq = digits.data[1:2].astype('float32') # Use the first image as the query vector\n",
    "\n",
    "print('xb.shape : ', xb.shape, '\\nxq.shape : ', xq.shape)"
   ]
  },
  {
   "cell_type": "code",
   "execution_count": 4,
   "metadata": {},
   "outputs": [
    {
     "ename": "TypeError",
     "evalue": "Wrong number or type of arguments for overloaded function 'new_IndexHNSWFlat'.\n  Possible C/C++ prototypes are:\n    faiss::IndexHNSWFlat::IndexHNSWFlat()\n    faiss::IndexHNSWFlat::IndexHNSWFlat(int,int,faiss::MetricType)\n    faiss::IndexHNSWFlat::IndexHNSWFlat(int,int)\n",
     "output_type": "error",
     "traceback": [
      "\u001b[1;31m---------------------------------------------------------------------------\u001b[0m",
      "\u001b[1;31mTypeError\u001b[0m                                 Traceback (most recent call last)",
      "Input \u001b[1;32mIn [4]\u001b[0m, in \u001b[0;36m<cell line: 1>\u001b[1;34m()\u001b[0m\n\u001b[1;32m----> 1\u001b[0m index \u001b[38;5;241m=\u001b[39m \u001b[43mfaiss\u001b[49m\u001b[38;5;241;43m.\u001b[39;49m\u001b[43mIndexHNSWFlat\u001b[49m\u001b[43m(\u001b[49m\u001b[43md\u001b[49m\u001b[43m)\u001b[49m   \u001b[38;5;66;03m# build the index\u001b[39;00m\n\u001b[0;32m      2\u001b[0m \u001b[38;5;28mprint\u001b[39m(\u001b[38;5;124m'\u001b[39m\u001b[38;5;124mindex.is_trained : \u001b[39m\u001b[38;5;124m'\u001b[39m, index\u001b[38;5;241m.\u001b[39mis_trained)\n\u001b[0;32m      4\u001b[0m index\u001b[38;5;241m.\u001b[39madd(xb)                  \u001b[38;5;66;03m# add vectors to the index\u001b[39;00m\n",
      "File \u001b[1;32mc:\\Users\\Acer\\AppData\\Local\\Programs\\Python\\Python39\\lib\\site-packages\\faiss\\swigfaiss.py:6171\u001b[0m, in \u001b[0;36mIndexHNSWFlat.__init__\u001b[1;34m(self, *args)\u001b[0m\n\u001b[0;32m   6170\u001b[0m \u001b[38;5;28;01mdef\u001b[39;00m \u001b[38;5;21m__init__\u001b[39m(\u001b[38;5;28mself\u001b[39m, \u001b[38;5;241m*\u001b[39margs):\n\u001b[1;32m-> 6171\u001b[0m     _swigfaiss\u001b[38;5;241m.\u001b[39mIndexHNSWFlat_swiginit(\u001b[38;5;28mself\u001b[39m, \u001b[43m_swigfaiss\u001b[49m\u001b[38;5;241;43m.\u001b[39;49m\u001b[43mnew_IndexHNSWFlat\u001b[49m\u001b[43m(\u001b[49m\u001b[38;5;241;43m*\u001b[39;49m\u001b[43margs\u001b[49m\u001b[43m)\u001b[49m)\n",
      "\u001b[1;31mTypeError\u001b[0m: Wrong number or type of arguments for overloaded function 'new_IndexHNSWFlat'.\n  Possible C/C++ prototypes are:\n    faiss::IndexHNSWFlat::IndexHNSWFlat()\n    faiss::IndexHNSWFlat::IndexHNSWFlat(int,int,faiss::MetricType)\n    faiss::IndexHNSWFlat::IndexHNSWFlat(int,int)\n"
     ]
    }
   ],
   "source": [
    "index = faiss.IndexHNSWFlat(d)   # build the index\n",
    "print('index.is_trained : ', index.is_trained)\n",
    "\n",
    "index.add(xb)                  # add vectors to the index\n",
    "print('index.ntotal : ', index.ntotal)"
   ]
  },
  {
   "cell_type": "code",
   "execution_count": null,
   "metadata": {},
   "outputs": [
    {
     "name": "stdout",
     "output_type": "stream",
     "text": [
      "I[:5] :  [[   1   93 1120 1112 1050 1546  466 1634 1076  349]]\n",
      "D[:5] :  [[  0. 203. 377. 379. 387. 452. 453. 457. 462. 479.]]\n"
     ]
    }
   ],
   "source": [
    "k = 10                          # we want to see top k nearest neighbors (the first result will always be the query vector)\n",
    "D, I = index.search(xq, k)     # actual search\n",
    "print('I[:5] : ', I[:k])                   # neighbors of the 5 first queries\n",
    "print('D[:5] : ', D[:k])                   # distances of the 5 first queries"
   ]
  },
  {
   "cell_type": "code",
   "execution_count": null,
   "metadata": {},
   "outputs": [
    {
     "name": "stdout",
     "output_type": "stream",
     "text": [
      "index :  1 \n",
      "distance :  0.0 \n",
      "arr :  [ 0.  0.  0. 12. 13.  5.  0.  0.  0.  0.  0. 11. 16.  9.  0.  0.  0.  0.\n",
      "  3. 15. 16.  6.  0.  0.  0.  7. 15. 16. 16.  2.  0.  0.  0.  0.  1. 16.\n",
      " 16.  3.  0.  0.  0.  0.  1. 16. 16.  6.  0.  0.  0.  0.  1. 16. 16.  6.\n",
      "  0.  0.  0.  0.  0. 11. 16. 10.  0.  0.]\n",
      "index :  93 \n",
      "distance :  203.0 \n",
      "arr :  [ 0.  0.  0. 11. 16.  5.  0.  0.  0.  0.  0. 10. 16.  5.  0.  0.  0.  0.\n",
      "  4. 16. 16.  5.  0.  0.  0. 11. 16. 16. 16.  3.  0.  0.  0.  5.  8. 14.\n",
      " 16.  2.  0.  0.  0.  0.  0. 14. 16.  2.  0.  0.  0.  0.  0. 11. 16.  2.\n",
      "  0.  0.  0.  0.  0.  8. 16.  8.  0.  0.]\n",
      "index :  1120 \n",
      "distance :  377.0 \n",
      "arr :  [ 0.  0.  1. 11. 14.  5.  0.  0.  0.  0.  0. 15. 16. 11.  0.  0.  0.  0.\n",
      "  5. 16. 16.  8.  0.  0.  0.  0.  5. 16. 16.  5.  0.  0.  0.  0.  4. 16.\n",
      " 16.  3.  0.  0.  0.  0.  9. 16. 16.  2.  0.  0.  0.  0.  8. 16. 14.  0.\n",
      "  0.  0.  0.  0.  2. 13. 16.  9.  0.  0.]\n",
      "index :  1112 \n",
      "distance :  379.0 \n",
      "arr :  [ 0.  0.  3. 15. 12.  2.  0.  0.  0.  0.  1. 16. 16.  6.  0.  0.  0.  0.\n",
      "  4. 16. 16.  2.  0.  0.  0.  0.  3. 16. 16.  6.  0.  0.  0.  0.  4. 16.\n",
      " 16.  0.  0.  0.  0.  0.  1. 15. 16.  6.  0.  0.  0.  0.  4. 16. 16.  4.\n",
      "  0.  0.  0.  0.  4. 16. 16.  6.  0.  0.]\n",
      "index :  1050 \n",
      "distance :  387.0 \n",
      "arr :  [ 0.  0.  3. 13. 10.  1.  0.  0.  0.  0.  3. 16. 16.  4.  0.  0.  0.  0.\n",
      "  1. 16. 16.  2.  0.  0.  0.  0.  6. 16. 16.  1.  0.  0.  0.  0.  4. 16.\n",
      " 16.  1.  0.  0.  0.  0.  4. 16. 16.  3.  0.  0.  0.  0.  7. 16. 16.  0.\n",
      "  0.  0.  0.  0.  2. 14. 16.  5.  0.  0.]\n",
      "index :  1546 \n",
      "distance :  452.0 \n",
      "arr :  [ 0.  0.  0. 14. 10.  0.  0.  0.  0.  0.  3. 16. 16.  3.  0.  0.  0.  0.\n",
      "  7. 16. 16.  7.  0.  0.  0.  0. 12. 16. 16.  5.  0.  0.  0.  0.  4. 15.\n",
      " 16.  6.  0.  0.  0.  0.  0. 13. 16.  0.  0.  0.  0.  0.  0. 14. 12.  0.\n",
      "  0.  0.  0.  0.  0. 10. 10.  0.  0.  0.]\n",
      "index :  466 \n",
      "distance :  453.0 \n",
      "arr :  [ 0.  0.  0.  5. 16.  9.  0.  0.  0.  0.  1. 13. 16.  6.  0.  0.  0.  0.\n",
      " 13. 16. 16.  4.  0.  0.  0.  5. 15. 16. 16.  5.  0.  0.  0.  0.  0. 10.\n",
      " 16.  7.  0.  0.  0.  0.  0.  9. 16.  8.  0.  0.  0.  0.  0.  9. 16. 13.\n",
      "  0.  0.  0.  0.  0.  5. 14.  9.  0.  0.]\n",
      "index :  1634 \n",
      "distance :  457.0 \n",
      "arr :  [ 0.  0.  0. 16. 11.  0.  0.  0.  0.  0.  2. 16. 16.  2.  0.  0.  0.  0.\n",
      "  3. 16. 16.  6.  0.  0.  0.  0.  3. 16. 15.  2.  0.  0.  0.  0.  2. 16.\n",
      " 16.  2.  0.  0.  0.  0.  4. 16. 15.  0.  0.  0.  0.  0.  1. 16. 15.  1.\n",
      "  0.  0.  0.  0.  0. 12. 16.  2.  0.  0.]\n",
      "index :  1076 \n",
      "distance :  462.0 \n",
      "arr :  [ 0.  0.  2. 16. 10.  0.  0.  0.  0.  0.  4. 16. 16.  5.  0.  0.  0.  0.\n",
      "  8. 16. 16.  3.  0.  0.  0.  0.  9. 16. 16.  3.  0.  0.  0.  0.  8. 16.\n",
      " 16.  3.  0.  0.  0.  0.  8. 16. 16.  1.  0.  0.  0.  0.  5. 16. 14.  0.\n",
      "  0.  0.  0.  0.  1. 12. 16.  3.  0.  0.]\n",
      "index :  349 \n",
      "distance :  479.0 \n",
      "arr :  [ 0.  0.  1. 14.  7.  0.  0.  0.  0.  0.  6. 16. 16.  1.  0.  0.  0.  0.\n",
      "  7. 16. 15.  0.  0.  0.  0.  0.  6. 16. 15.  0.  0.  0.  0.  0.  6. 16.\n",
      " 15.  0.  0.  0.  0.  0.  4. 16. 16.  1.  0.  0.  0.  0.  4. 16. 16.  6.\n",
      "  0.  0.  0.  0.  1. 15. 16.  8.  0.  0.]\n",
      "arr.shape :  (10, 64)\n"
     ]
    }
   ],
   "source": [
    "arr = np.empty([0,64])\n",
    "i = 0\n",
    "for i in range(k):\n",
    "    print('index : ', I[0,i], '\\ndistance : ', D[0,i], '\\narr : ', xb[I[0,i]])\n",
    "    arr = np.vstack((arr, xb[I[0,i]]))\n",
    "print('arr.shape : ', arr.shape)"
   ]
  },
  {
   "cell_type": "code",
   "execution_count": null,
   "metadata": {},
   "outputs": [
    {
     "data": {
      "image/png": "[encoded data removed]",
      "text/plain": [
       "<Figure size 2880x288 with 10 Axes>"
      ]
     },
     "metadata": {
      "needs_background": "light"
     },
     "output_type": "display_data"
    }
   ],
   "source": [
    "draw_mnist(arr)"
   ]
  }
 ],
 "metadata": {
  "kernelspec": {
   "display_name": "Python 3",
   "language": "python",
   "name": "python3"
  },
  "language_info": {
   "codemirror_mode": {
    "name": "ipython",
    "version": 3
   },
   "file_extension": ".py",
   "mimetype": "text/x-python",
   "name": "python",
   "nbconvert_exporter": "python",
   "pygments_lexer": "ipython3",
   "version": "3.9.6"
  }
 },
 "nbformat": 4,
 "nbformat_minor": 2
}
