{
 "cells": [
  {
   "cell_type": "code",
   "execution_count": 1,
   "metadata": {},
   "outputs": [],
   "source": [
    "import faiss\n",
    "exec(open(\"../database.py\").read())\n",
    "exec(open(\"../helperFunctions.py\").read())\n",
    "import numpy as np\n",
    "from keras.datasets import mnist\n",
    "from time import perf_counter\n",
    "from ast import literal_eval"
   ]
  },
  {
   "cell_type": "code",
   "execution_count": 2,
   "metadata": {},
   "outputs": [
    {
     "name": "stdout",
     "output_type": "stream",
     "text": [
      "d:\\Учеба\\Назарбаев Университет\\Masters\\raAndThesis\\PavelBraslavski\\annSearchComparisons/datasets/mnist-784.hdf5\n"
     ]
    },
    {
     "name": "stderr",
     "output_type": "stream",
     "text": [
      "<string>:91: DeprecationWarning: `product` is deprecated as of NumPy 1.25.0, and will be removed in NumPy 2.0. Please use `prod` instead.\n"
     ]
    },
    {
     "name": "stdout",
     "output_type": "stream",
     "text": [
      "trainDataset :  (60000, 784)\n"
     ]
    },
    {
     "name": "stderr",
     "output_type": "stream",
     "text": [
      "<string>:92: DeprecationWarning: `product` is deprecated as of NumPy 1.25.0, and will be removed in NumPy 2.0. Please use `prod` instead.\n"
     ]
    },
    {
     "name": "stdout",
     "output_type": "stream",
     "text": [
      "testDataset :  (10000, 784)\n"
     ]
    },
    {
     "name": "stderr",
     "output_type": "stream",
     "text": [
      "<string>:93: DeprecationWarning: `product` is deprecated as of NumPy 1.25.0, and will be removed in NumPy 2.0. Please use `prod` instead.\n"
     ]
    }
   ],
   "source": [
    "name = 'mnist-784'\n",
    "runs = 1\n",
    "metric = 'euclidean'\n",
    "queries = 1000\n",
    "nameFull = name + '-' + metric + '-true-labels.xlsx'\n",
    "datasetTrainImages, datasetTestImages, _ = get_ann_benchmark_data(name)"
   ]
  },
  {
   "cell_type": "markdown",
   "metadata": {},
   "source": [
    "***Create faiss***"
   ]
  },
  {
   "cell_type": "code",
   "execution_count": 3,
   "metadata": {},
   "outputs": [],
   "source": [
    "def createIndex(indexMethod, datasetImages):\n",
    "    d = datasetImages.shape[1] # dimension\n",
    "    M = 16\n",
    "    time_start = perf_counter()\n",
    "    index = indexMethod(d, M)\n",
    "    index.add(datasetImages) \n",
    "    time_end = perf_counter()\n",
    "    totalTime = (time_end - time_start)\n",
    "    print(f'Took {totalTime:.3f} seconds')\n",
    "    return (index, totalTime)"
   ]
  },
  {
   "cell_type": "code",
   "execution_count": 4,
   "metadata": {},
   "outputs": [
    {
     "name": "stdout",
     "output_type": "stream",
     "text": [
      "Took 0.071 seconds\n",
      "minBuildTime :  0.071\n",
      "maxBuildTime :  0.071\n"
     ]
    }
   ],
   "source": [
    "(minBuildTime, maxBuildTime, indexedStruct) = createIndexNumerous(createIndex, faiss.IndexLSH, datasetTrainImages, runs)\n",
    "print('minBuildTime : ', minBuildTime)\n",
    "print('maxBuildTime : ', maxBuildTime)"
   ]
  },
  {
   "cell_type": "code",
   "execution_count": 7,
   "metadata": {},
   "outputs": [],
   "source": [
    "indexes = []\n",
    "distances = []\n",
    "def measureTime(par, indexes, distances, datasetImages):\n",
    "    k=100\n",
    "    totalTime = 0\n",
    "    for i in range(par) : \n",
    "        xq = datasetImages[i:i+1].astype('float32') # Use the first image as the query vector\n",
    "        time_start = perf_counter()\n",
    "        distance, index = indexedStruct.search(xq, k) \n",
    "        time_end = perf_counter()\n",
    "        totalTime += (time_end - time_start)\n",
    "        distances.append(np.sqrt(distance[0]))\n",
    "        indexes.append(index[0])\n",
    "    return np.round(totalTime, 3)"
   ]
  },
  {
   "cell_type": "code",
   "execution_count": 8,
   "metadata": {},
   "outputs": [
    {
     "name": "stdout",
     "output_type": "stream",
     "text": [
      "minSearchTime :  0.61\n",
      "maxSearchTime :  0.61\n"
     ]
    }
   ],
   "source": [
    "(minSearchTime, maxSearchTime, indexes, distances) = measureTimeNumerous(measureTime, runs, queries, datasetTestImages)\n",
    "print('minSearchTime : ', minSearchTime)\n",
    "print('maxSearchTime : ', maxSearchTime)"
   ]
  },
  {
   "cell_type": "code",
   "execution_count": 9,
   "metadata": {},
   "outputs": [],
   "source": [
    "indexes = np.array(indexes)\n",
    "distances = np.round(np.array(distances).astype(float), 4)"
   ]
  },
  {
   "cell_type": "code",
   "execution_count": 10,
   "metadata": {},
   "outputs": [
    {
     "name": "stdout",
     "output_type": "stream",
     "text": [
      "indexes :  (1000, 100)\n",
      "distances :  (1000, 100)\n"
     ]
    }
   ],
   "source": [
    "print('indexes : ', indexes.shape)\n",
    "print('distances : ', distances.shape)"
   ]
  },
  {
   "cell_type": "code",
   "execution_count": 11,
   "metadata": {},
   "outputs": [
    {
     "name": "stdout",
     "output_type": "stream",
     "text": [
      "trueIndexes :  (1000, 100)\n",
      "trueDistances :  (1000, 100)\n"
     ]
    }
   ],
   "source": [
    "path = '../datasets/'+nameFull\n",
    "(trueIndexes, trueDistances) = readDB(path)"
   ]
  },
  {
   "cell_type": "code",
   "execution_count": 12,
   "metadata": {},
   "outputs": [
    {
     "name": "stdout",
     "output_type": "stream",
     "text": [
      "21658 || 53843\n",
      "0.0 || 676.584\n",
      "928 || 38620\n",
      "1.0 || 793.9868\n",
      "1332 || 16186\n",
      "1.0 || 862.6766\n",
      "3298 || 27059\n",
      "1.0 || 864.5039\n",
      "3309 || 47003\n",
      "1.0 || 894.7\n",
      "4130 || 14563\n",
      "1.0 || 909.7043\n",
      "6915 || 44566\n",
      "1.0 || 917.6323\n",
      "8198 || 15260\n",
      "1.0 || 921.6241\n",
      "9454 || 40368\n",
      "1.0 || 922.147\n",
      "12281 || 36395\n",
      "1.0 || 943.4972\n"
     ]
    }
   ],
   "source": [
    "amount = 10\n",
    "compareElems(amount, indexes, distances, trueIndexes, trueDistances)"
   ]
  },
  {
   "cell_type": "code",
   "execution_count": 14,
   "metadata": {},
   "outputs": [
    {
     "name": "stdout",
     "output_type": "stream",
     "text": [
      "index :  21658 \n",
      "distance :  0.0\n",
      "index :  928 \n",
      "distance :  1.0\n",
      "index :  1332 \n",
      "distance :  1.0\n",
      "index :  3298 \n",
      "distance :  1.0\n",
      "index :  3309 \n",
      "distance :  1.0\n",
      "index :  4130 \n",
      "distance :  1.0\n",
      "index :  6915 \n",
      "distance :  1.0\n",
      "index :  8198 \n",
      "distance :  1.0\n",
      "index :  9454 \n",
      "distance :  1.0\n",
      "index :  12281 \n",
      "distance :  1.0\n"
     ]
    },
    {
     "data": {
      "image/png": "[encoded data removed]",
      "text/plain": [
       "<Figure size 2880x288 with 10 Axes>"
      ]
     },
     "metadata": {
      "needs_background": "light"
     },
     "output_type": "display_data"
    }
   ],
   "source": [
    "draw_mnist(indexes, distances, datasetTrainImages)"
   ]
  },
  {
   "cell_type": "code",
   "execution_count": 13,
   "metadata": {},
   "outputs": [
    {
     "name": "stdout",
     "output_type": "stream",
     "text": [
      "Recall@1: 1.0000\n",
      "Recall@1.01: 1.0000\n",
      "Recall@1.1: 1.0000\n"
     ]
    },
    {
     "data": {
      "text/plain": [
       "1.0"
      ]
     },
     "execution_count": 13,
     "metadata": {},
     "output_type": "execute_result"
    }
   ],
   "source": [
    "calculateRecallAverage(indexes, distances, trueIndexes, trueDistances)\n",
    "calculateRecallAverage(indexes, distances, trueIndexes, trueDistances, 1.01)\n",
    "calculateRecallAverage(indexes, distances, trueIndexes, trueDistances, 1.1)"
   ]
  }
 ],
 "metadata": {
  "kernelspec": {
   "display_name": "Python 3",
   "language": "python",
   "name": "python3"
  },
  "language_info": {
   "codemirror_mode": {
    "name": "ipython",
    "version": 3
   },
   "file_extension": ".py",
   "mimetype": "text/x-python",
   "name": "python",
   "nbconvert_exporter": "python",
   "pygments_lexer": "ipython3",
   "version": "3.9.6"
  }
 },
 "nbformat": 4,
 "nbformat_minor": 2
}
