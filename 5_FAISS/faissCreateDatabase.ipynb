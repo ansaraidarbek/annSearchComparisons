{
 "cells": [
  {
   "cell_type": "code",
   "execution_count": 2,
   "metadata": {},
   "outputs": [],
   "source": [
    "import numpy as np\n",
    "import faiss\n",
    "import matplotlib.pyplot as plt\n",
    "import pandas as pd\n",
    "from keras.datasets import mnist\n",
    "import math\n",
    "from time import perf_counter"
   ]
  },
  {
   "cell_type": "markdown",
   "metadata": {},
   "source": [
    "***Prepare dataset***"
   ]
  },
  {
   "cell_type": "code",
   "execution_count": 3,
   "metadata": {},
   "outputs": [],
   "source": [
    "(train_X, train_y), (test_X, test_y) = mnist.load_data()"
   ]
  },
  {
   "cell_type": "code",
   "execution_count": 4,
   "metadata": {},
   "outputs": [
    {
     "data": {
      "text/plain": [
       "(60000, 28, 28)"
      ]
     },
     "execution_count": 4,
     "metadata": {},
     "output_type": "execute_result"
    }
   ],
   "source": [
    "train_X.shape"
   ]
  },
  {
   "cell_type": "code",
   "execution_count": 5,
   "metadata": {},
   "outputs": [],
   "source": [
    "datasetImages = np.concatenate((train_X, test_X), axis=0)\n",
    "datasetLabels = np.concatenate((train_y, test_y), axis=0)\n",
    "datasetImages = datasetImages.reshape(datasetImages.shape[0], datasetImages.shape[1] * datasetImages.shape[2])"
   ]
  },
  {
   "cell_type": "code",
   "execution_count": 6,
   "metadata": {},
   "outputs": [
    {
     "data": {
      "text/plain": [
       "(70000, 784)"
      ]
     },
     "execution_count": 6,
     "metadata": {},
     "output_type": "execute_result"
    }
   ],
   "source": [
    "datasetImages.shape"
   ]
  },
  {
   "cell_type": "code",
   "execution_count": 7,
   "metadata": {},
   "outputs": [
    {
     "data": {
      "text/plain": [
       "(70000,)"
      ]
     },
     "execution_count": 7,
     "metadata": {},
     "output_type": "execute_result"
    }
   ],
   "source": [
    "datasetLabels.shape"
   ]
  },
  {
   "cell_type": "markdown",
   "metadata": {},
   "source": [
    "***Create faiss***"
   ]
  },
  {
   "cell_type": "code",
   "execution_count": 8,
   "metadata": {},
   "outputs": [
    {
     "name": "stdout",
     "output_type": "stream",
     "text": [
      "784\n",
      "xb.shape :  (70000, 784) \n",
      "xq.shape :  (1, 784)\n"
     ]
    }
   ],
   "source": [
    "d = datasetImages.shape[1] # dimension\n",
    "print(d)\n",
    "\n",
    "datasetImages = datasetImages.astype('float32') \n",
    "query = datasetImages[0:1] # Use the first image as the query vector\n",
    "print('xb.shape : ', datasetImages.shape, '\\nxq.shape : ', query.shape)"
   ]
  },
  {
   "cell_type": "code",
   "execution_count": 9,
   "metadata": {},
   "outputs": [
    {
     "name": "stdout",
     "output_type": "stream",
     "text": [
      "index.is_trained :  True\n",
      "index.ntotal :  70000\n"
     ]
    }
   ],
   "source": [
    "index = faiss.IndexFlatL2(d)   # take basic index\n",
    "print('index.is_trained : ', index.is_trained)\n",
    "\n",
    "index.add(datasetImages) # add vectors to the index\n",
    "print('index.ntotal : ', index.ntotal)"
   ]
  },
  {
   "cell_type": "code",
   "execution_count": 10,
   "metadata": {},
   "outputs": [
    {
     "name": "stdout",
     "output_type": "stream",
     "text": [
      "73.59191899999087\n"
     ]
    }
   ],
   "source": [
    "D = []\n",
    "I = []\n",
    "def createTrueLabels(par, D, I):\n",
    "    k = 100\n",
    "    totalTime = 0\n",
    "    for i in range(par) : \n",
    "        xq = datasetImages[i:i+1].astype('float32') # Use the first image as the query vector\n",
    "        time_start = perf_counter()\n",
    "        x, y = index.search(xq, k)\n",
    "        time_end = perf_counter()\n",
    "        totalTime += (time_end - time_start)\n",
    "        D.append(np.sqrt(x[0]))\n",
    "        I.append(y[0])\n",
    "    print(totalTime)\n",
    "    \n",
    "createTrueLabels(1000, D, I)"
   ]
  },
  {
   "cell_type": "markdown",
   "metadata": {},
   "source": [
    "***Check if results consistent***"
   ]
  },
  {
   "cell_type": "code",
   "execution_count": 43,
   "metadata": {},
   "outputs": [],
   "source": [
    "firstD = np.copy(D)\n",
    "firstI = np.copy(I)"
   ]
  },
  {
   "cell_type": "code",
   "execution_count": 44,
   "metadata": {},
   "outputs": [],
   "source": [
    "for i in range(len(I)) :\n",
    "    for j in range(len(I[i])):\n",
    "        if (I[i][j] != firstI[i][j]):\n",
    "            print(\"Not equal\")\n",
    "            print(I[i][j], firstI[i][j])\n",
    "            print(i, j)\n",
    "            break\n",
    "    break"
   ]
  },
  {
   "cell_type": "code",
   "execution_count": 45,
   "metadata": {},
   "outputs": [
    {
     "name": "stdout",
     "output_type": "stream",
     "text": [
      "[    0 32248  8728 18932 30483 63470 65325 24149 42338 52295]\n",
      "[    0 32248  8728 18932 30483 63470 65325 24149 42338 52295]\n"
     ]
    }
   ],
   "source": [
    "print(I[0][:10])\n",
    "print(firstI[0][:10])"
   ]
  },
  {
   "cell_type": "code",
   "execution_count": 46,
   "metadata": {},
   "outputs": [
    {
     "name": "stdout",
     "output_type": "stream",
     "text": [
      "1000 100\n"
     ]
    }
   ],
   "source": [
    "print(len(I), len(I[0]))"
   ]
  },
  {
   "cell_type": "code",
   "execution_count": 47,
   "metadata": {},
   "outputs": [
    {
     "name": "stdout",
     "output_type": "stream",
     "text": [
      "index :  0 \n",
      "distance :  0.0\n",
      "index :  32248 \n",
      "distance :  1561.4724\n",
      "index :  8728 \n",
      "distance :  1591.6014\n",
      "index :  18932 \n",
      "distance :  1594.7191\n",
      "index :  30483 \n",
      "distance :  1596.7095\n",
      "index :  63470 \n",
      "distance :  1600.8738\n",
      "index :  65325 \n",
      "distance :  1603.479\n",
      "index :  24149 \n",
      "distance :  1604.4469\n",
      "index :  42338 \n",
      "distance :  1604.8876\n",
      "index :  52295 \n",
      "distance :  1605.7092\n"
     ]
    },
    {
     "data": {
      "image/png": "[encoded data removed]",
      "text/plain": [
       "<Figure size 2880x288 with 10 Axes>"
      ]
     },
     "metadata": {
      "needs_background": "light"
     },
     "output_type": "display_data"
    }
   ],
   "source": [
    "def draw_mnist():\n",
    "    arr = np.empty([0,784])\n",
    "    for i in range(10):\n",
    "        print('index : ', I[0][i], '\\ndistance : ', D[0][i])\n",
    "        arr = np.vstack((arr, datasetImages[I[0][i]]))\n",
    "    plt.figure(figsize=(len(arr)*4,4))\n",
    "    for index, (image) in enumerate(zip(arr)):\n",
    "        plt.subplot(1, len(arr), index + 1)\n",
    "        plt.imshow(np.reshape(image, (28,28)), cmap=plt.cm.gray)\n",
    "draw_mnist()"
   ]
  },
  {
   "cell_type": "markdown",
   "metadata": {},
   "source": [
    "***ExportDatabase into excel***"
   ]
  },
  {
   "cell_type": "code",
   "execution_count": 48,
   "metadata": {},
   "outputs": [],
   "source": [
    "indexes = np.array(I)\n",
    "distances = np.array(D)"
   ]
  },
  {
   "cell_type": "code",
   "execution_count": 49,
   "metadata": {},
   "outputs": [
    {
     "data": {
      "text/plain": [
       "(1000, 100)"
      ]
     },
     "execution_count": 49,
     "metadata": {},
     "output_type": "execute_result"
    }
   ],
   "source": [
    "indexes.shape"
   ]
  },
  {
   "cell_type": "code",
   "execution_count": 50,
   "metadata": {},
   "outputs": [
    {
     "data": {
      "text/plain": [
       "(1000, 100)"
      ]
     },
     "execution_count": 50,
     "metadata": {},
     "output_type": "execute_result"
    }
   ],
   "source": [
    "distances.shape"
   ]
  },
  {
   "cell_type": "code",
   "execution_count": 51,
   "metadata": {},
   "outputs": [],
   "source": [
    "df = pd.DataFrame(pd.Series(list(indexes)), columns=['Index'])\n",
    "df[\"Distances\"] = pd.Series(list(distances))"
   ]
  },
  {
   "cell_type": "code",
   "execution_count": 52,
   "metadata": {},
   "outputs": [
    {
     "data": {
      "text/plain": [
       "<bound method NDFrame.head of                                                  Index  \\\n",
       "0    [0, 32248, 8728, 18932, 30483, 63470, 65325, 2...   \n",
       "1    [1, 639, 51121, 67601, 59187, 31059, 2581, 323...   \n",
       "2    [2, 64458, 54197, 46128, 4410, 25670, 26652, 2...   \n",
       "3    [3, 23, 8725, 35507, 51305, 54875, 11249, 5827...   \n",
       "4    [4, 10208, 36402, 1396, 11190, 39932, 37754, 2...   \n",
       "..                                                 ...   \n",
       "995  [995, 10759, 14972, 13867, 39799, 68931, 44091...   \n",
       "996  [996, 46536, 4072, 65396, 3520, 34686, 45934, ...   \n",
       "997  [997, 69739, 69791, 13853, 40091, 44313, 47167...   \n",
       "998  [998, 61797, 24748, 43952, 64714, 31680, 50, 1...   \n",
       "999  [999, 32205, 43839, 32143, 977, 47037, 30115, ...   \n",
       "\n",
       "                                             Distances  \n",
       "0    [0.0, 1561.4724, 1591.6014, 1594.7191, 1596.70...  \n",
       "1    [0.0, 1020.64734, 1100.5294, 1114.2374, 1125.4...  \n",
       "2    [0.0, 1358.4657, 1377.6306, 1541.1272, 1553.82...  \n",
       "3    [0.0, 419.58313, 433.07043, 448.07254, 455.095...  \n",
       "4    [0.0, 1112.903, 1143.01, 1143.7487, 1156.78, 1...  \n",
       "..                                                 ...  \n",
       "995  [0.0, 1323.0045, 1488.5325, 1488.6686, 1539.47...  \n",
       "996  [0.0, 765.41034, 829.61676, 904.40424, 906.508...  \n",
       "997  [0.0, 742.3624, 931.225, 947.991, 1051.9624, 1...  \n",
       "998  [0.0, 1214.2734, 1220.1914, 1224.2852, 1275.15...  \n",
       "999  [0.0, 894.4378, 911.1235, 948.46405, 953.89886...  \n",
       "\n",
       "[1000 rows x 2 columns]>"
      ]
     },
     "execution_count": 52,
     "metadata": {},
     "output_type": "execute_result"
    }
   ],
   "source": [
    "df.head"
   ]
  },
  {
   "cell_type": "code",
   "execution_count": 53,
   "metadata": {},
   "outputs": [
    {
     "data": {
      "text/plain": [
       "array([    2, 64458, 54197, 46128,  4410, 25670, 26652, 23878, 62338,\n",
       "       20836, 51202, 37634, 43302, 24296, 45353, 10960, 10832, 60117,\n",
       "       51288, 61963, 50416, 11408, 14788, 52532, 50846, 51860,  6184,\n",
       "       56970, 27824, 62498, 27882, 21096, 47750, 48418, 42550, 23090,\n",
       "       43130, 69267, 16593,  4102, 39386, 11424, 45191,  4616, 62613,\n",
       "       20932, 63875, 33551, 31106, 60398, 21822, 53426, 40496, 12530,\n",
       "       52752, 29884, 30604, 31036, 21186, 65782, 38973, 13252, 10870,\n",
       "       37541, 53192, 25826, 21888, 20040,   682,  4758, 64475, 27370,\n",
       "       44535, 32862, 25100, 28464, 25706, 40600,  1630,   314,  9392,\n",
       "       17690, 18617, 19564, 14274, 53768, 49256, 28610,  7166, 41680,\n",
       "       63332, 14592,  2548, 23174, 53622,  8278, 16850, 12440, 15604,\n",
       "       62645], dtype=int64)"
      ]
     },
     "execution_count": 53,
     "metadata": {},
     "output_type": "execute_result"
    }
   ],
   "source": [
    "df['Index'][2]"
   ]
  },
  {
   "cell_type": "code",
   "execution_count": 57,
   "metadata": {},
   "outputs": [
    {
     "data": {
      "text/plain": [
       "array([   0.    , 1358.4657, 1377.6306, 1541.1272, 1553.8256, 1586.1932,\n",
       "       1597.8661, 1602.7214, 1620.4617, 1627.6028, 1630.0197, 1666.9766,\n",
       "       1669.4718, 1670.6448, 1676.9648, 1687.7177, 1688.2538, 1709.0553,\n",
       "       1712.5426, 1720.4764, 1721.9764, 1729.259 , 1729.382 , 1733.4971,\n",
       "       1733.6461, 1734.3523, 1736.8713, 1737.0409, 1737.1238, 1747.822 ,\n",
       "       1753.3551, 1753.6003, 1756.1019, 1758.1448, 1760.262 , 1761.5911,\n",
       "       1767.4241, 1774.7234, 1777.3787, 1779.5201, 1783.9375, 1784.2859,\n",
       "       1785.3135, 1786.1624, 1787.7556, 1789.6586, 1796.2828, 1797.6512,\n",
       "       1798.0618, 1802.1626, 1803.5579, 1803.5703, 1811.773 , 1813.3414,\n",
       "       1816.7427, 1819.875 , 1821.497 , 1826.9083, 1829.4015, 1835.5372,\n",
       "       1835.7905, 1837.8743, 1841.0709, 1844.8298, 1845.12  , 1845.5254,\n",
       "       1848.986 , 1849.3625, 1850.4923, 1850.8439, 1851.5885, 1855.7559,\n",
       "       1857.1411, 1858.654 , 1859.0067, 1859.547 , 1859.5515, 1861.2208,\n",
       "       1864.2706, 1864.9268, 1865.3064, 1865.8462, 1866.3137, 1866.7609,\n",
       "       1868.7659, 1877.3218, 1879.6758, 1881.9293, 1882.3536, 1882.4258,\n",
       "       1882.4628, 1884.6393, 1884.8822, 1885.4878, 1885.6675, 1885.9011,\n",
       "       1886.274 , 1887.2404, 1888.641 , 1889.1418], dtype=float32)"
      ]
     },
     "execution_count": 57,
     "metadata": {},
     "output_type": "execute_result"
    }
   ],
   "source": [
    "df['Distances'][2]"
   ]
  },
  {
   "cell_type": "code",
   "execution_count": 54,
   "metadata": {},
   "outputs": [],
   "source": [
    "df.to_csv('mnistTrueLabels.csv', index=False) "
   ]
  },
  {
   "cell_type": "code",
   "execution_count": 55,
   "metadata": {},
   "outputs": [],
   "source": [
    "df.to_excel(\"mnistTrueLabels.xlsx\",\n",
    "             sheet_name='Sheet_name_1')"
   ]
  }
 ],
 "metadata": {
  "kernelspec": {
   "display_name": "Python 3",
   "language": "python",
   "name": "python3"
  },
  "language_info": {
   "codemirror_mode": {
    "name": "ipython",
    "version": 3
   },
   "file_extension": ".py",
   "mimetype": "text/x-python",
   "name": "python",
   "nbconvert_exporter": "python",
   "pygments_lexer": "ipython3",
   "version": "3.9.6"
  }
 },
 "nbformat": 4,
 "nbformat_minor": 2
}
