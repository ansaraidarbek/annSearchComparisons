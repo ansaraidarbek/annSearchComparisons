{
 "cells": [
  {
   "cell_type": "code",
   "execution_count": 1,
   "metadata": {},
   "outputs": [],
   "source": [
    "import numpy as np\n",
    "import faiss\n",
    "import matplotlib.pyplot as plt\n",
    "exec(open(\"../database.py\").read())\n",
    "exec(open(\"../helperFunctions.py\").read())\n",
    "import pandas as pd\n",
    "from keras.datasets import mnist\n",
    "import math\n",
    "from time import perf_counter"
   ]
  },
  {
   "cell_type": "markdown",
   "metadata": {},
   "source": [
    "***Prepare dataset***"
   ]
  },
  {
   "cell_type": "code",
   "execution_count": 2,
   "metadata": {},
   "outputs": [
    {
     "name": "stdout",
     "output_type": "stream",
     "text": [
      "Dataset glove-100-angular is not cached; downloading now ...\n"
     ]
    },
    {
     "name": "stderr",
     "output_type": "stream",
     "text": [
      "<string>:57: DeprecationWarning: `product` is deprecated as of NumPy 1.25.0, and will be removed in NumPy 2.0. Please use `prod` instead.\n"
     ]
    },
    {
     "name": "stdout",
     "output_type": "stream",
     "text": [
      "trainDataset :  (1183514, 100)\n",
      "testDataset :  (10000, 100)\n"
     ]
    },
    {
     "name": "stderr",
     "output_type": "stream",
     "text": [
      "<string>:58: DeprecationWarning: `product` is deprecated as of NumPy 1.25.0, and will be removed in NumPy 2.0. Please use `prod` instead.\n",
      "<string>:59: DeprecationWarning: `product` is deprecated as of NumPy 1.25.0, and will be removed in NumPy 2.0. Please use `prod` instead.\n"
     ]
    }
   ],
   "source": [
    "name = 'glove-100-angular'\n",
    "datasetTrainImages, datasetTestImages, _ = get_ann_benchmark_data(name)"
   ]
  },
  {
   "cell_type": "markdown",
   "metadata": {},
   "source": [
    "***Create faiss***"
   ]
  },
  {
   "cell_type": "code",
   "execution_count": 3,
   "metadata": {},
   "outputs": [
    {
     "name": "stdout",
     "output_type": "stream",
     "text": [
      "index.is_trained :  True\n",
      "index.ntotal :  1183514\n"
     ]
    }
   ],
   "source": [
    "index = faiss.IndexFlatL2(datasetTrainImages.shape[1])   # take basic index\n",
    "print('index.is_trained : ', index.is_trained)\n",
    "\n",
    "index.add(datasetTrainImages) # add vectors to the index\n",
    "print('index.ntotal : ', index.ntotal)"
   ]
  },
  {
   "cell_type": "code",
   "execution_count": 4,
   "metadata": {},
   "outputs": [
    {
     "name": "stdout",
     "output_type": "stream",
     "text": [
      "122.95035610000025\n"
     ]
    }
   ],
   "source": [
    "D = []\n",
    "I = []\n",
    "def createTrueLabels(par, D, I, datasetTestImages):\n",
    "    k = 100\n",
    "    totalTime = 0\n",
    "    for i in range(par) : \n",
    "        xq = datasetTestImages[i:i+1] # Use the first image as the query vector\n",
    "        time_start = perf_counter()\n",
    "        x, y = index.search(xq, k)\n",
    "        time_end = perf_counter()\n",
    "        totalTime += (time_end - time_start)\n",
    "        D.append(np.sqrt(x[0]))\n",
    "        I.append(y[0])\n",
    "    print(totalTime)\n",
    "    \n",
    "createTrueLabels(1000, D, I, datasetTestImages)"
   ]
  },
  {
   "cell_type": "markdown",
   "metadata": {},
   "source": [
    "***Check if results consistent***"
   ]
  },
  {
   "cell_type": "code",
   "execution_count": 5,
   "metadata": {},
   "outputs": [],
   "source": [
    "# firstD = np.copy(D)\n",
    "# firstI = np.copy(I)"
   ]
  },
  {
   "cell_type": "code",
   "execution_count": 6,
   "metadata": {},
   "outputs": [],
   "source": [
    "# for i in range(len(I)) :\n",
    "#     for j in range(len(I[i])):\n",
    "#         if (I[i][j] != firstI[i][j]):\n",
    "#             print(\"Not equal\")\n",
    "#             print(I[i][j], firstI[i][j])\n",
    "#             print(i, j)\n",
    "#             break\n",
    "#     break"
   ]
  },
  {
   "cell_type": "code",
   "execution_count": 7,
   "metadata": {},
   "outputs": [],
   "source": [
    "# print(I[0][:10])\n",
    "# print(firstI[0][:10])"
   ]
  },
  {
   "cell_type": "code",
   "execution_count": 8,
   "metadata": {},
   "outputs": [
    {
     "name": "stdout",
     "output_type": "stream",
     "text": [
      "1000 100\n"
     ]
    }
   ],
   "source": [
    "print(len(I), len(I[0]))"
   ]
  },
  {
   "cell_type": "markdown",
   "metadata": {},
   "source": [
    "***ExportDatabase into excel***"
   ]
  },
  {
   "cell_type": "code",
   "execution_count": 9,
   "metadata": {},
   "outputs": [],
   "source": [
    "indexes = np.array(I)\n",
    "distances = np.array(D)"
   ]
  },
  {
   "cell_type": "code",
   "execution_count": 10,
   "metadata": {},
   "outputs": [],
   "source": [
    "# draw_mnist(indexes, distances, datasetTrainImages)"
   ]
  },
  {
   "cell_type": "code",
   "execution_count": 11,
   "metadata": {},
   "outputs": [
    {
     "name": "stdout",
     "output_type": "stream",
     "text": [
      "indexes :  (1000, 100)\n",
      "distances :  (1000, 100)\n",
      "(1000, 2)\n",
      "<bound method NDFrame.head of                                                Indexes  \\\n",
      "0    [660281, 93438, 1133489, 97478, 995275, 207076...   \n",
      "1    [144313, 875925, 507188, 903728, 57715, 663762...   \n",
      "2    [323299, 1046944, 531832, 62703, 859701, 30965...   \n",
      "3    [1161354, 326662, 760347, 444556, 276040, 3778...   \n",
      "4    [558150, 844934, 20619, 310414, 1177325, 62457...   \n",
      "..                                                 ...   \n",
      "995  [1113985, 478299, 875105, 566011, 207207, 1140...   \n",
      "996  [1111921, 510236, 27504, 235514, 1033889, 7161...   \n",
      "997  [860941, 1159318, 387071, 899496, 1026811, 520...   \n",
      "998  [1158744, 954090, 437575, 690395, 808460, 1114...   \n",
      "999  [1014404, 481656, 772030, 483618, 80326, 10630...   \n",
      "\n",
      "                                             Distances  \n",
      "0    [3.8792, 3.8838, 3.9021, 3.9037, 3.9294, 3.937...  \n",
      "1    [4.0565, 4.0683, 4.0936, 4.1073, 4.1335, 4.168...  \n",
      "2    [4.71, 4.8205, 4.8481, 4.9136, 4.9567, 4.9842,...  \n",
      "3    [6.1814, 6.2242, 6.2581, 6.2619, 6.2684, 6.320...  \n",
      "4    [5.6144, 5.683, 5.6907, 5.6953, 5.7361, 5.745,...  \n",
      "..                                                 ...  \n",
      "995  [5.2369, 5.2581, 5.2858, 5.3133, 5.3157, 5.317...  \n",
      "996  [4.4717, 4.643, 4.6858, 4.7073, 4.7186, 4.7421...  \n",
      "997  [2.7465, 2.8968, 2.9354, 2.9741, 3.0316, 3.114...  \n",
      "998  [2.1165, 3.3046, 3.3908, 3.4401, 3.6117, 3.675...  \n",
      "999  [4.8377, 4.8993, 4.9318, 4.9427, 4.9443, 4.945...  \n",
      "\n",
      "[1000 rows x 2 columns]>\n"
     ]
    }
   ],
   "source": [
    "naming = name + '-true-labels.xlsx'\n",
    "exportDB(indexes, distances, naming, 1)"
   ]
  }
 ],
 "metadata": {
  "kernelspec": {
   "display_name": "Python 3",
   "language": "python",
   "name": "python3"
  },
  "language_info": {
   "codemirror_mode": {
    "name": "ipython",
    "version": 3
   },
   "file_extension": ".py",
   "mimetype": "text/x-python",
   "name": "python",
   "nbconvert_exporter": "python",
   "pygments_lexer": "ipython3",
   "version": "3.9.6"
  }
 },
 "nbformat": 4,
 "nbformat_minor": 2
}
