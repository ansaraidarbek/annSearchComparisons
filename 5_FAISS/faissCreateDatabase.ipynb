{
 "cells": [
  {
   "cell_type": "code",
   "execution_count": 27,
   "metadata": {},
   "outputs": [],
   "source": [
    "import numpy as np\n",
    "import faiss\n",
    "import matplotlib.pyplot as plt\n",
    "exec(open(\"../database.py\").read())\n",
    "exec(open(\"../helperFunctions.py\").read())\n",
    "import pandas as pd\n",
    "from keras.datasets import mnist\n",
    "import math\n",
    "from time import perf_counter"
   ]
  },
  {
   "cell_type": "markdown",
   "metadata": {},
   "source": [
    "***Prepare dataset***"
   ]
  },
  {
   "cell_type": "code",
   "execution_count": 28,
   "metadata": {},
   "outputs": [
    {
     "name": "stdout",
     "output_type": "stream",
     "text": [
      "Dataset gist-960-euclidean is not cached; downloading now ...\n"
     ]
    },
    {
     "name": "stderr",
     "output_type": "stream",
     "text": [
      "<string>:57: DeprecationWarning: `product` is deprecated as of NumPy 1.25.0, and will be removed in NumPy 2.0. Please use `prod` instead.\n"
     ]
    },
    {
     "name": "stdout",
     "output_type": "stream",
     "text": [
      "trainDataset :  (1000000, 960)\n",
      "testDataset :  (1000, 960)\n"
     ]
    },
    {
     "name": "stderr",
     "output_type": "stream",
     "text": [
      "<string>:58: DeprecationWarning: `product` is deprecated as of NumPy 1.25.0, and will be removed in NumPy 2.0. Please use `prod` instead.\n",
      "<string>:59: DeprecationWarning: `product` is deprecated as of NumPy 1.25.0, and will be removed in NumPy 2.0. Please use `prod` instead.\n"
     ]
    }
   ],
   "source": [
    "name = 'gist-960-euclidean'\n",
    "datasetTrainImages, datasetTestImages, _ = get_ann_benchmark_data(name)"
   ]
  },
  {
   "cell_type": "code",
   "execution_count": 29,
   "metadata": {},
   "outputs": [
    {
     "data": {
      "text/plain": [
       "array([[0.0117, 0.0115, 0.0087, ..., 0.0124, 0.0603, 0.0866],\n",
       "       [0.0395, 0.0384, 0.0593, ..., 0.0386, 0.0403, 0.0222],\n",
       "       [0.0152, 0.0244, 0.0535, ..., 0.0047, 0.007 , 0.0078],\n",
       "       ...,\n",
       "       [0.0396, 0.0456, 0.02  , ..., 0.0509, 0.0568, 0.0785],\n",
       "       [0.0499, 0.0529, 0.055 , ..., 0.0433, 0.0339, 0.0639],\n",
       "       [0.0254, 0.0231, 0.0288, ..., 0.0371, 0.015 , 0.017 ]],\n",
       "      dtype=float32)"
      ]
     },
     "execution_count": 29,
     "metadata": {},
     "output_type": "execute_result"
    }
   ],
   "source": [
    "datasetTestImages"
   ]
  },
  {
   "cell_type": "markdown",
   "metadata": {},
   "source": [
    "***Create faiss***"
   ]
  },
  {
   "cell_type": "code",
   "execution_count": 30,
   "metadata": {},
   "outputs": [
    {
     "name": "stdout",
     "output_type": "stream",
     "text": [
      "index.is_trained :  True\n",
      "index.ntotal :  1000000\n"
     ]
    }
   ],
   "source": [
    "index = faiss.IndexFlatL2(datasetTrainImages.shape[1])   # take basic index\n",
    "print('index.is_trained : ', index.is_trained)\n",
    "\n",
    "index.add(datasetTrainImages) # add vectors to the index\n",
    "print('index.ntotal : ', index.ntotal)"
   ]
  },
  {
   "cell_type": "code",
   "execution_count": 31,
   "metadata": {},
   "outputs": [],
   "source": [
    "D = []\n",
    "I = []\n",
    "def createTrueLabels(par, D, I, datasetTestImages):\n",
    "    k = 100\n",
    "    totalTime = 0\n",
    "    for i in range(par) : \n",
    "        xq = datasetTestImages[i:i+1] # Use the first image as the query vector\n",
    "        time_start = perf_counter()\n",
    "        x, y = index.search(xq, k)\n",
    "        time_end = perf_counter()\n",
    "        totalTime += (time_end - time_start)\n",
    "        D.append(np.sqrt(x[0]))\n",
    "        I.append(y[0])\n",
    "    print(totalTime)\n",
    "    \n",
    "createTrueLabels(1000, D, I, datasetTestImages)"
   ]
  },
  {
   "cell_type": "markdown",
   "metadata": {},
   "source": [
    "***Check if results consistent***"
   ]
  },
  {
   "cell_type": "code",
   "execution_count": null,
   "metadata": {},
   "outputs": [],
   "source": [
    "# firstD = np.copy(D)\n",
    "# firstI = np.copy(I)"
   ]
  },
  {
   "cell_type": "code",
   "execution_count": null,
   "metadata": {},
   "outputs": [],
   "source": [
    "# for i in range(len(I)) :\n",
    "#     for j in range(len(I[i])):\n",
    "#         if (I[i][j] != firstI[i][j]):\n",
    "#             print(\"Not equal\")\n",
    "#             print(I[i][j], firstI[i][j])\n",
    "#             print(i, j)\n",
    "#             break\n",
    "#     break"
   ]
  },
  {
   "cell_type": "code",
   "execution_count": null,
   "metadata": {},
   "outputs": [],
   "source": [
    "# print(I[0][:10])\n",
    "# print(firstI[0][:10])"
   ]
  },
  {
   "cell_type": "code",
   "execution_count": null,
   "metadata": {},
   "outputs": [
    {
     "name": "stdout",
     "output_type": "stream",
     "text": [
      "1000 100\n"
     ]
    }
   ],
   "source": [
    "print(len(I), len(I[0]))"
   ]
  },
  {
   "cell_type": "markdown",
   "metadata": {},
   "source": [
    "***ExportDatabase into excel***"
   ]
  },
  {
   "cell_type": "code",
   "execution_count": null,
   "metadata": {},
   "outputs": [],
   "source": [
    "indexes = np.array(I)\n",
    "distances = np.array(D)"
   ]
  },
  {
   "cell_type": "code",
   "execution_count": null,
   "metadata": {},
   "outputs": [],
   "source": [
    "# draw_mnist(indexes, distances, datasetTrainImages)"
   ]
  },
  {
   "cell_type": "code",
   "execution_count": null,
   "metadata": {},
   "outputs": [
    {
     "name": "stdout",
     "output_type": "stream",
     "text": [
      "indexes :  (1000, 100)\n",
      "distances :  (1000, 100)\n",
      "(1000, 2)\n",
      "<bound method NDFrame.head of                                                Indexes  \\\n",
      "0    [18094, 53939, 18352, 52468, 15081, 29768, 213...   \n",
      "1    [8572, 31348, 3884, 9533, 36846, 24556, 28082,...   \n",
      "2    [285, 38143, 3421, 39889, 9708, 34763, 59938, ...   \n",
      "3    [8903, 53024, 10359, 43266, 45767, 36567, 4371...   \n",
      "4    [21043, 12634, 42157, 52774, 35790, 57696, 111...   \n",
      "..                                                 ...   \n",
      "995  [41654, 11994, 5241, 33109, 35115, 33690, 1384...   \n",
      "996  [38378, 19113, 1945, 55820, 8711, 57565, 30013...   \n",
      "997  [2462, 52739, 41222, 50319, 51646, 23742, 5899...   \n",
      "998  [59812, 45497, 20966, 23632, 22343, 17090, 271...   \n",
      "999  [49609, 44225, 51327, 58621, 14038, 47098, 585...   \n",
      "\n",
      "                                             Distances  \n",
      "0    [482.2966, 681.9905, 708.4991, 729.6321, 762.0...  \n",
      "1    [1308.002, 1329.3134, 1382.7317, 1387.0912, 13...  \n",
      "2    [466.0322, 538.5378, 555.8795, 599.7641, 600.9...  \n",
      "3    [621.7299, 663.5375, 669.1958, 669.6088, 674.1...  \n",
      "4    [943.0588, 974.2587, 998.6075, 1054.4994, 1059...  \n",
      "..                                                 ...  \n",
      "995  [903.4395, 927.9553, 941.4702, 942.0637, 948.7...  \n",
      "996  [940.2446, 948.61, 1013.1999, 1023.6703, 1031....  \n",
      "997  [1213.1368, 1232.4613, 1348.6353, 1349.1027, 1...  \n",
      "998  [750.739, 754.3898, 755.7129, 757.9631, 763.07...  \n",
      "999  [972.7142, 1039.1011, 1045.0354, 1052.2167, 10...  \n",
      "\n",
      "[1000 rows x 2 columns]>\n"
     ]
    }
   ],
   "source": [
    "naming = name + '-true-labels.xlsx'\n",
    "exportDB(indexes, distances, naming, 1)"
   ]
  }
 ],
 "metadata": {
  "kernelspec": {
   "display_name": "Python 3",
   "language": "python",
   "name": "python3"
  },
  "language_info": {
   "codemirror_mode": {
    "name": "ipython",
    "version": 3
   },
   "file_extension": ".py",
   "mimetype": "text/x-python",
   "name": "python",
   "nbconvert_exporter": "python",
   "pygments_lexer": "ipython3",
   "version": "3.9.6"
  }
 },
 "nbformat": 4,
 "nbformat_minor": 2
}
