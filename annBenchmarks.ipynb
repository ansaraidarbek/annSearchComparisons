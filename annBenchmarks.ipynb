{
 "cells": [
  {
   "cell_type": "markdown",
   "metadata": {},
   "source": [
    "NearPy"
   ]
  },
  {
   "cell_type": "code",
   "execution_count": 1,
   "metadata": {},
   "outputs": [],
   "source": [
    "import numpy\n",
    "\n",
    "from nearpy import Engine\n",
    "from nearpy.hashes import RandomBinaryProjections\n",
    "\n",
    "# Dimension of our vector space\n",
    "dimension = 500\n",
    "\n",
    "# Create a random binary hash with 10 bits\n",
    "rbp = RandomBinaryProjections('rbp', 10)\n",
    "\n",
    "# Create engine with pipeline configuration\n",
    "engine = Engine(dimension, lshashes=[rbp])\n",
    "\n",
    "# Index 1000000 random vectors (set their data to a unique string)\n",
    "for index in range(100000):\n",
    "    v = numpy.random.randn(dimension)\n",
    "    engine.store_vector(v, 'data_%d' % index)\n",
    "\n",
    "# Create random query vector\n",
    "query = numpy.random.randn(dimension)\n",
    "\n",
    "# Get nearest neighbours\n",
    "N = engine.neighbours(query)"
   ]
  },
  {
   "cell_type": "code",
   "execution_count": 5,
   "metadata": {},
   "outputs": [
    {
     "data": {
      "text/plain": [
       "(500,)"
      ]
     },
     "execution_count": 5,
     "metadata": {},
     "output_type": "execute_result"
    }
   ],
   "source": [
    "s = numpy.array(query)\n",
    "s.shape"
   ]
  },
  {
   "cell_type": "markdown",
   "metadata": {},
   "source": [
    "Annoy"
   ]
  },
  {
   "cell_type": "code",
   "execution_count": 1,
   "metadata": {},
   "outputs": [
    {
     "name": "stdout",
     "output_type": "stream",
     "text": [
      "[0, 299, 783, 138, 134, 701, 263, 542, 706, 265, 947, 152, 857, 866, 619, 401, 842, 810, 404, 852, 200, 245, 724, 418, 296, 889, 443, 289, 478, 10, 117, 21, 393, 435, 928, 73, 313, 184, 174, 667, 338, 620, 862, 513, 747, 583, 462, 8, 288, 142, 6, 756, 499, 55, 909, 762, 307, 388, 982, 98, 133, 422, 409, 412, 329, 640, 37, 846, 123, 243, 548, 171, 833, 369, 790, 179, 259, 344, 165, 869, 792, 323, 405, 748, 904, 588, 399, 932, 755, 919, 631, 428, 643, 339, 408, 912, 684, 148, 670, 940, 127, 486, 204, 427, 436, 955, 613, 485, 994, 582, 562, 837, 564, 353, 230, 557, 26, 11, 809, 332, 34, 784, 229, 429, 646, 598, 29, 466, 954, 985, 13, 203, 512, 558, 99, 167, 733, 41, 45, 205, 592, 849, 357, 227, 207, 50, 717, 854, 695, 610, 545, 781, 704, 293, 908, 51, 261, 459, 506, 630, 71, 451, 941, 32, 552, 578, 268, 725, 820, 282, 47, 929, 398, 633, 563, 699, 885, 278, 2, 693, 146, 894, 479, 708, 503, 944, 441, 795, 709, 872, 219, 48, 108, 825, 199, 779, 120, 718, 745, 816, 333, 137, 304, 413, 49, 106, 739, 212, 888, 109, 573, 593, 221, 54, 113, 802, 346, 434, 734, 744, 597, 358, 389, 571, 135, 490, 155, 922, 960, 264, 804, 196, 993, 729, 655, 242, 191, 136, 271, 33, 686, 520, 727, 732, 971, 903, 322, 703, 181, 425, 68, 529, 330, 119, 991, 415, 681, 671, 577, 635, 125, 760, 896, 403, 510, 521, 806, 266, 950, 391, 235, 281, 128, 679, 624, 652, 223, 75, 917, 565, 63, 28, 968, 530, 385, 5, 835, 121, 906, 467, 898, 253, 496, 27, 532, 273, 987, 326, 612, 535, 764, 394, 438, 432, 112, 62, 983, 778, 713, 419, 363, 320, 953, 931, 875, 53, 832, 967, 845, 799, 287, 878, 453, 497, 509, 12, 368, 923, 796, 702, 88, 769, 14, 609, 986, 246, 547, 178, 536, 996, 81, 927, 897, 860, 819, 700, 82, 211, 518, 251, 765, 177, 516, 215, 18, 892, 445, 331, 162, 198, 65, 731, 607, 694, 22, 773, 314, 384, 737, 933, 859, 144, 76, 465, 594, 742, 164, 407, 260, 154, 989, 192, 925, 439, 360, 306, 915, 893, 194, 546, 84, 504, 173, 359, 741, 625, 225, 827, 300, 160, 305, 943, 786, 310, 218, 349, 751, 938, 990, 31, 213, 176, 141, 999, 366, 822, 237, 663, 507, 480, 249, 169, 528, 629, 482, 920, 972, 572, 226, 623, 247, 501, 945, 980, 761, 39, 678, 523, 814, 801, 902, 494, 749, 58, 880, 381, 776, 35, 450, 966, 813, 255, 905, 168, 149, 90, 856, 965, 397, 824, 362, 665, 269, 107, 354, 189, 95, 637, 42, 7, 139, 38, 887, 431, 206, 666, 309, 124, 343, 382, 500, 798, 788, 83, 900, 622, 324, 606, 867, 952, 351, 303, 262, 621, 877, 378, 659, 782, 839, 604, 279, 533, 636, 642, 716, 232, 285, 383, 811, 910, 417, 566, 374, 997, 318, 914, 979, 256, 534, 252, 830, 110, 458, 302, 476, 308, 808, 30, 100, 40, 15, 874, 481, 477, 185, 772, 956, 365, 228, 615, 575, 526, 187, 423, 336, 948, 297, 190, 664, 855, 698, 175, 460, 147, 628, 130, 24, 984, 77, 863, 654, 840, 91, 59, 327, 722, 531, 126, 97, 345, 87, 283, 454, 272, 257, 312, 648, 352, 884, 836, 386, 319, 567, 574, 390, 834, 850, 316, 754, 774, 554, 74, 151, 216, 406, 696, 711, 371, 402, 4, 668, 337, 883, 768, 544, 457, 800, 236, 286, 682, 861, 712, 949, 188, 220, 491, 473, 524, 634, 17, 538, 410, 591, 421, 728, 600, 641, 793, 150, 508, 182, 96, 44, 662, 475, 653, 105, 16, 94, 186, 543, 468, 870, 828, 159, 60, 723, 876, 586, 275, 464, 865, 444, 763, 274, 676, 131, 446, 974, 656, 853, 372, 868, 161, 599, 472, 657, 916, 794, 456, 791, 969, 934, 687, 726, 757, 379, 502, 957, 373, 553, 317, 132, 584, 78, 217, 730, 341, 411, 879, 70, 241, 153, 471, 361, 92, 25, 67, 511, 669, 484, 9, 19, 605, 61, 267, 595, 736, 209, 924, 89, 596, 156, 163, 52, 570, 440, 611, 937, 555, 416, 298, 116, 122, 311, 992, 348, 962, 495, 442, 420, 292, 705, 295, 720, 197, 515, 414, 208, 911, 377, 238, 517, 674, 335, 975, 290, 111, 661, 580, 392, 470, 102, 240, 36, 276, 424, 202, 452, 766, 647, 250, 632, 172, 935, 46, 970, 461, 549, 118, 540, 847, 976, 579, 224, 396, 1, 998, 677, 785, 907, 710, 183, 626, 715, 115, 689, 85, 568, 601, 222, 690, 560, 895, 433, 673, 340, 80, 871, 821, 602, 921, 380, 158, 918, 616, 988, 551, 234, 537, 315, 926, 239, 901, 650, 590, 556, 807, 858, 342, 618, 469, 672, 514, 356, 143, 69, 645, 758, 587, 387, 738, 522, 430, 86, 829, 817, 248, 493, 939, 740, 294, 488, 328, 691, 688, 437, 301, 589, 743, 519, 195, 603, 72, 981, 254, 963, 818, 231, 57, 284, 843, 844, 873, 848, 539, 498, 395, 660, 576, 559, 697, 20, 771, 658, 489, 841, 823, 541, 864, 145, 492, 777, 881, 797, 617, 750, 675, 193, 527, 639, 233, 977, 752, 166, 350, 64, 210, 886, 325, 780, 321, 585, 803, 735, 157, 685, 277, 370, 280, 770, 882, 426, 101, 581, 930, 129, 614, 474, 961, 170, 680, 899, 651, 201, 56, 759, 3, 767, 505, 103, 805, 775, 851, 376, 936, 826, 913, 449, 561, 958, 707, 487, 367, 375, 214, 114, 951, 753, 683, 23, 721, 569, 244, 180, 746, 93, 973, 525, 400, 649, 355, 448, 270, 946, 140, 483, 787, 890, 291, 334, 714, 347, 66, 719, 550, 463, 104, 891, 644, 995, 838, 627, 79, 815, 959, 964, 455, 258, 942, 812, 831, 608, 789, 447, 638, 364, 978, 43, 692]\n"
     ]
    }
   ],
   "source": [
    "from annoy import AnnoyIndex\n",
    "import random\n",
    "\n",
    "f = 40  # Length of item vector that will be indexed\n",
    "\n",
    "t = AnnoyIndex(f, 'angular')\n",
    "for i in range(1000):\n",
    "    v = [random.gauss(0, 1) for z in range(f)]\n",
    "    t.add_item(i, v)\n",
    "\n",
    "t.build(10) # 10 trees\n",
    "t.save('test.ann')\n",
    "\n",
    "# ...\n",
    "\n",
    "u = AnnoyIndex(f, 'angular')\n",
    "u.load('test.ann') # super fast, will just mmap the file\n",
    "print(u.get_nns_by_item(0, 1000)) # will find the 1000 nearest neighbors"
   ]
  },
  {
   "cell_type": "code",
   "execution_count": 6,
   "metadata": {},
   "outputs": [
    {
     "ename": "ModuleNotFoundError",
     "evalue": "No module named 'util'",
     "output_type": "error",
     "traceback": [
      "\u001b[1;31m---------------------------------------------------------------------------\u001b[0m",
      "\u001b[1;31mModuleNotFoundError\u001b[0m                       Traceback (most recent call last)",
      "Input \u001b[1;32mIn [6]\u001b[0m, in \u001b[0;36m<cell line: 7>\u001b[1;34m()\u001b[0m\n\u001b[0;32m      5\u001b[0m \u001b[38;5;28;01mimport\u001b[39;00m \u001b[38;5;21;01mPIL\u001b[39;00m\u001b[38;5;21;01m.\u001b[39;00m\u001b[38;5;21;01mImage\u001b[39;00m\u001b[38;5;241m,\u001b[39m \u001b[38;5;21;01mPIL\u001b[39;00m\u001b[38;5;21;01m.\u001b[39;00m\u001b[38;5;21;01mImageOps\u001b[39;00m\n\u001b[0;32m      6\u001b[0m \u001b[38;5;28;01mimport\u001b[39;00m \u001b[38;5;21;01mnumpy\u001b[39;00m\n\u001b[1;32m----> 7\u001b[0m \u001b[38;5;28;01mimport\u001b[39;00m \u001b[38;5;21;01mutil\u001b[39;00m\n\u001b[0;32m      9\u001b[0m annoy_fn \u001b[38;5;241m=\u001b[39m \u001b[38;5;124m'\u001b[39m\u001b[38;5;124mmnist.annoy\u001b[39m\u001b[38;5;124m'\u001b[39m\n\u001b[0;32m     10\u001b[0m data_fn \u001b[38;5;241m=\u001b[39m \u001b[38;5;124m'\u001b[39m\u001b[38;5;124mmnist.pkl.gz\u001b[39m\u001b[38;5;124m'\u001b[39m\n",
      "\u001b[1;31mModuleNotFoundError\u001b[0m: No module named 'util'"
     ]
    }
   ],
   "source": [
    "import os\n",
    "from urllib.request import urlretrieve\n",
    "import annoy\n",
    "import random\n",
    "import PIL.Image, PIL.ImageOps\n",
    "import numpy\n",
    "import util\n",
    "\n",
    "annoy_fn = 'mnist.annoy'\n",
    "data_fn = 'mnist.pkl.gz'\n",
    "\n",
    "if not os.path.exists(annoy_fn):\n",
    "    if not os.path.exists(data_fn):\n",
    "        print ('downloading')\n",
    "        urlretrieve('http://deeplearning.net/data/mnist/mnist.pkl.gz', data_fn)\n",
    "\n",
    "    a = annoy.AnnoyIndex(784, 'euclidean')\n",
    "    for i, pic in util.get_vectors(data_fn):\n",
    "        a.add_item(i, pic)\n",
    "\n",
    "    print ('building')\n",
    "    a.build(10)\n",
    "    a.save(annoy_fn)\n",
    "\n",
    "a = annoy.AnnoyIndex(784, 'euclidean')\n",
    "a.load(annoy_fn)\n",
    "\n",
    "pics = 5\n",
    "nns = 10\n",
    "img_size = 100\n",
    "margin = 16\n",
    "\n",
    "main_image = PIL.Image.new('RGB', (img_size * nns + margin, img_size * pics), 'white')\n",
    "\n",
    "for pic in range(pics):\n",
    "    i = random.randint(0, a.get_n_items() - 1)\n",
    "    for index, j in enumerate(a.get_nns_by_item(i, 10, 1000)):\n",
    "        v = a.get_item_vector(j)\n",
    "        w = (numpy.array(v)*255).astype(numpy.uint8).reshape(28, 28)\n",
    "        image = PIL.Image.fromarray(w)\n",
    "        image = PIL.ImageOps.fit(image, (img_size, img_size)) # , PIL.Image.ANTIALIAS)\n",
    "        if index == 0:\n",
    "            image.save('seed.jpg')\n",
    "        \n",
    "        main_image.paste(image, (index * img_size + margin * int(index > 0), pic * img_size))\n",
    "\n",
    "main_image.save('mnist_strips.jpg')"
   ]
  },
  {
   "cell_type": "markdown",
   "metadata": {},
   "source": [
    "HNSW"
   ]
  },
  {
   "cell_type": "code",
   "execution_count": 2,
   "metadata": {},
   "outputs": [
    {
     "name": "stdout",
     "output_type": "stream",
     "text": [
      "Parameters passed to constructor:  space=l2, dim=128\n",
      "Index construction: M=16, ef_construction=200\n",
      "Index size is 10000 and index capacity is 10000\n",
      "Search speed/quality trade-off parameter: ef=50\n"
     ]
    }
   ],
   "source": [
    "import hnswlib\n",
    "import numpy as np\n",
    "import pickle\n",
    "\n",
    "dim = 128\n",
    "num_elements = 10000\n",
    "\n",
    "# Generating sample data\n",
    "data = np.float32(np.random.random((num_elements, dim)))\n",
    "ids = np.arange(num_elements)\n",
    "\n",
    "# Declaring index\n",
    "p = hnswlib.Index(space = 'l2', dim = dim) # possible options are l2, cosine or ip\n",
    "\n",
    "# Initializing index - the maximum number of elements should be known beforehand\n",
    "p.init_index(max_elements = num_elements, ef_construction = 200, M = 16)\n",
    "\n",
    "# Element insertion (can be called several times):\n",
    "p.add_items(data, ids)\n",
    "\n",
    "# Controlling the recall by setting ef:\n",
    "p.set_ef(50) # ef should always be > k\n",
    "\n",
    "# Query dataset, k - number of the closest elements (returns 2 numpy arrays)\n",
    "labels, distances = p.knn_query(data, k = 1)\n",
    "\n",
    "# Index objects support pickling\n",
    "# WARNING: serialization via pickle.dumps(p) or p.__getstate__() is NOT thread-safe with p.add_items method!\n",
    "# Note: ef parameter is included in serialization; random number generator is initialized with random_seed on Index load\n",
    "p_copy = pickle.loads(pickle.dumps(p)) # creates a copy of index p using pickle round-trip\n",
    "\n",
    "### Index parameters are exposed as class properties:\n",
    "print(f\"Parameters passed to constructor:  space={p_copy.space}, dim={p_copy.dim}\") \n",
    "print(f\"Index construction: M={p_copy.M}, ef_construction={p_copy.ef_construction}\")\n",
    "print(f\"Index size is {p_copy.element_count} and index capacity is {p_copy.max_elements}\")\n",
    "print(f\"Search speed/quality trade-off parameter: ef={p_copy.ef}\")"
   ]
  },
  {
   "cell_type": "markdown",
   "metadata": {},
   "source": [
    "datasketch"
   ]
  },
  {
   "cell_type": "code",
   "execution_count": 1,
   "metadata": {},
   "outputs": [
    {
     "name": "stdout",
     "output_type": "stream",
     "text": [
      "Approximate neighbours with Jaccard similarity > 0.5 ['m3', 'm2']\n"
     ]
    }
   ],
   "source": [
    "from datasketch import MinHash, MinHashLSH\n",
    "\n",
    "set1 = set(['minhash', 'is', 'a', 'probabilistic', 'data', 'structure', 'for',\n",
    "            'estimating', 'the', 'similarity', 'between', 'datasets'])\n",
    "set2 = set(['minhash', 'is', 'a', 'probability', 'data', 'structure', 'for',\n",
    "            'estimating', 'the', 'similarity', 'between', 'documents'])\n",
    "set3 = set(['minhash', 'is', 'probability', 'data', 'structure', 'for',\n",
    "            'estimating', 'the', 'similarity', 'between', 'documents'])\n",
    "\n",
    "m1 = MinHash(num_perm=128)\n",
    "m2 = MinHash(num_perm=128)\n",
    "m3 = MinHash(num_perm=128)\n",
    "for d in set1:\n",
    "    m1.update(d.encode('utf8'))\n",
    "for d in set2:\n",
    "    m2.update(d.encode('utf8'))\n",
    "for d in set3:\n",
    "    m3.update(d.encode('utf8'))\n",
    "\n",
    "# Create LSH index\n",
    "lsh = MinHashLSH(threshold=0.5, num_perm=128)\n",
    "lsh.insert(\"m2\", m2)\n",
    "lsh.insert(\"m3\", m3)\n",
    "result = lsh.query(m1)\n",
    "print(\"Approximate neighbours with Jaccard similarity > 0.5\", result)"
   ]
  },
  {
   "cell_type": "code",
   "execution_count": 1,
   "metadata": {},
   "outputs": [
    {
     "data": {
      "text/plain": [
       "'c:\\\\Users\\\\Acer\\\\AppData\\\\Local\\\\Programs\\\\Python\\\\Python39;c:\\\\Users\\\\Acer\\\\AppData\\\\Roaming\\\\Python\\\\Python39\\\\Scripts;C:\\\\Users\\\\Acer\\\\anaconda3;C:\\\\Users\\\\Acer\\\\anaconda3\\\\Library\\\\mingw-w64\\\\bin;C:\\\\Users\\\\Acer\\\\anaconda3\\\\Library\\\\usr\\\\bin;C:\\\\Users\\\\Acer\\\\anaconda3\\\\Library\\\\bin;C:\\\\Users\\\\Acer\\\\anaconda3\\\\Scripts;C:\\\\Users\\\\Acer\\\\anaconda3\\\\bin;C:\\\\Users\\\\Acer\\\\anaconda3\\\\condabin;C:\\\\Users\\\\Acer\\\\anaconda3;C:\\\\Users\\\\Acer\\\\anaconda3\\\\Library\\\\mingw-w64\\\\bin;C:\\\\Users\\\\Acer\\\\anaconda3\\\\Library\\\\usr\\\\bin;C:\\\\Users\\\\Acer\\\\anaconda3\\\\Library\\\\bin;C:\\\\Users\\\\Acer\\\\anaconda3\\\\Scripts;C:\\\\Users\\\\Acer\\\\anaconda3;C:\\\\Users\\\\Acer\\\\anaconda3\\\\Library\\\\mingw-w64\\\\bin;C:\\\\Users\\\\Acer\\\\anaconda3\\\\Library\\\\usr\\\\bin;C:\\\\Users\\\\Acer\\\\anaconda3\\\\Library\\\\bin;C:\\\\Users\\\\Acer\\\\anaconda3\\\\Scripts;C:\\\\Users\\\\Acer\\\\anaconda3\\\\bin;C:\\\\Windows;C:\\\\Windows\\\\system32;C:\\\\Windows\\\\system32\\\\Wbem;C:\\\\Users\\\\Acer\\\\anaconda3;C:\\\\Users\\\\Acer\\\\anaconda3\\\\Library\\\\mingw-w64\\\\bin;C:\\\\Users\\\\Acer\\\\anaconda3\\\\Library\\\\usr\\\\bin;C:\\\\Users\\\\Acer\\\\anaconda3\\\\Library\\\\bin;C:\\\\Users\\\\Acer\\\\anaconda3\\\\Scripts;C:\\\\Users\\\\Acer\\\\anaconda3\\\\bin;C:\\\\Users\\\\Acer\\\\anaconda3\\\\condabin;C:\\\\Users\\\\Acer\\\\anaconda3;C:\\\\Users\\\\Acer\\\\anaconda3\\\\Library\\\\mingw-w64\\\\bin;C:\\\\Users\\\\Acer\\\\anaconda3\\\\Library\\\\usr\\\\bin;C:\\\\Users\\\\Acer\\\\anaconda3\\\\Library\\\\bin;C:\\\\Users\\\\Acer\\\\anaconda3\\\\Scripts;C:\\\\Users\\\\Acer\\\\anaconda3;C:\\\\Users\\\\Acer\\\\anaconda3\\\\Library\\\\mingw-w64\\\\bin;C:\\\\Users\\\\Acer\\\\anaconda3\\\\Library\\\\usr\\\\bin;C:\\\\Users\\\\Acer\\\\anaconda3\\\\Library\\\\bin;C:\\\\Users\\\\Acer\\\\anaconda3\\\\Scripts;C:\\\\Users\\\\Acer\\\\anaconda3\\\\bin;C:\\\\Windows;C:\\\\Windows\\\\system32;C:\\\\Windows\\\\system32\\\\Wbem'"
      ]
     },
     "execution_count": 1,
     "metadata": {},
     "output_type": "execute_result"
    }
   ],
   "source": [
    "import os \n",
    "os.getenv('PATH')"
   ]
  },
  {
   "cell_type": "markdown",
   "metadata": {},
   "source": [
    "Faiss"
   ]
  },
  {
   "cell_type": "code",
   "execution_count": 1,
   "metadata": {},
   "outputs": [],
   "source": [
    "import numpy as np\n",
    "import faiss\n",
    "import matplotlib.pyplot as plt\n",
    "\n",
    "from sklearn.datasets import load_digits"
   ]
  },
  {
   "cell_type": "code",
   "execution_count": 2,
   "metadata": {},
   "outputs": [
    {
     "name": "stdout",
     "output_type": "stream",
     "text": [
      "Image Data Shape (1797, 64)\n"
     ]
    }
   ],
   "source": [
    "digits = load_digits()\n",
    "print(\"Image Data Shape\" , digits.data.shape)\n",
    "def draw_mnist(arr):\n",
    "    plt.figure(figsize=(len(arr)*4,4))\n",
    "    for index, (image) in enumerate(zip(arr)):\n",
    "        plt.subplot(1, len(arr), index + 1)\n",
    "        plt.imshow(np.reshape(image, (8,8)), cmap=plt.cm.gray)"
   ]
  },
  {
   "cell_type": "code",
   "execution_count": 3,
   "metadata": {},
   "outputs": [
    {
     "name": "stdout",
     "output_type": "stream",
     "text": [
      "xb.shape :  (1797, 64) \n",
      "xq.shape :  (1, 64)\n"
     ]
    }
   ],
   "source": [
    "# mnist indexing\n",
    "d = 64                           # dimension\n",
    "nb = 100                      # database size\n",
    "nq = 10                     # nb of queries\n",
    "\n",
    "xb = digits.data.astype('float32') \n",
    "xq = digits.data[0:1].astype('float32') # Use the first image as the query vector\n",
    "\n",
    "print('xb.shape : ', xb.shape, '\\nxq.shape : ', xq.shape)"
   ]
  },
  {
   "cell_type": "code",
   "execution_count": 4,
   "metadata": {},
   "outputs": [
    {
     "name": "stdout",
     "output_type": "stream",
     "text": [
      "index.is_trained :  True\n",
      "index.ntotal :  1797\n"
     ]
    }
   ],
   "source": [
    "index = faiss.IndexFlatL2(d)   # build the index\n",
    "print('index.is_trained : ', index.is_trained)\n",
    "\n",
    "index.add(xb)                  # add vectors to the index\n",
    "print('index.ntotal : ', index.ntotal)"
   ]
  },
  {
   "cell_type": "code",
   "execution_count": 5,
   "metadata": {},
   "outputs": [
    {
     "name": "stdout",
     "output_type": "stream",
     "text": [
      "I[:5] :  [[   0  877 1365 1541 1167 1029  464  957 1697  855]]\n",
      "D[:5] :  [[  0. 120. 164. 172. 176. 178. 181. 238. 245. 252.]]\n"
     ]
    }
   ],
   "source": [
    "k = 10                          # we want to see top k nearest neighbors (the first result will always be the query vector)\n",
    "D, I = index.search(xq, k)     # actual search\n",
    "print('I[:5] : ', I[:k])                   # neighbors of the 5 first queries\n",
    "print('D[:5] : ', D[:k])                   # distances of the 5 first queries"
   ]
  },
  {
   "cell_type": "code",
   "execution_count": 6,
   "metadata": {},
   "outputs": [
    {
     "name": "stdout",
     "output_type": "stream",
     "text": [
      "index :  0 \n",
      "distance :  0.0 \n",
      "arr :  [ 0.  0.  5. 13.  9.  1.  0.  0.  0.  0. 13. 15. 10. 15.  5.  0.  0.  3.\n",
      " 15.  2.  0. 11.  8.  0.  0.  4. 12.  0.  0.  8.  8.  0.  0.  5.  8.  0.\n",
      "  0.  9.  8.  0.  0.  4. 11.  0.  1. 12.  7.  0.  0.  2. 14.  5. 10. 12.\n",
      "  0.  0.  0.  0.  6. 13. 10.  0.  0.  0.]\n",
      "index :  877 \n",
      "distance :  120.0 \n",
      "arr :  [ 0.  0.  7. 13.  8.  4.  0.  0.  0.  1. 15. 11.  9. 15.  2.  0.  0.  4.\n",
      " 16.  6.  0.  8.  7.  0.  0.  4. 10.  0.  0.  7.  8.  0.  0.  4. 10.  0.\n",
      "  0.  8.  8.  0.  0.  5. 12.  0.  0. 12.  5.  0.  0.  3. 15.  5.  9. 14.\n",
      "  2.  0.  0.  0.  8. 14. 12.  3.  0.  0.]\n",
      "index :  1365 \n",
      "distance :  164.0 \n",
      "arr :  [ 0.  0.  5. 13. 11.  1.  0.  0.  0.  3. 16. 11.  8. 12.  0.  0.  0.  5.\n",
      " 16.  0.  0. 13.  3.  0.  0.  5. 13.  0.  0.  6.  7.  0.  0.  7. 10.  0.\n",
      "  0.  8.  7.  0.  0.  4. 13.  0.  1. 14.  5.  0.  0.  1. 15.  5. 12. 10.\n",
      "  0.  0.  0.  0.  7. 16. 10.  1.  0.  0.]\n",
      "index :  1541 \n",
      "distance :  172.0 \n",
      "arr :  [ 0.  0.  5. 12.  9.  1.  0.  0.  0.  0. 14. 14. 13. 13.  0.  0.  0.  3.\n",
      " 12.  1.  1. 13.  4.  0.  0.  7.  8.  0.  0.  6.  8.  0.  0.  8.  8.  0.\n",
      "  0.  5.  8.  0.  0.  5. 10.  0.  0. 11.  4.  0.  0.  1. 15.  9. 11. 13.\n",
      "  0.  0.  0.  0.  7. 15. 12.  2.  0.  0.]\n",
      "index :  1167 \n",
      "distance :  176.0 \n",
      "arr :  [ 0.  0.  3. 14.  9.  3.  0.  0.  0.  0. 11. 13.  8. 14.  2.  0.  0.  2.\n",
      " 16.  3.  0.  9.  4.  0.  0.  5. 12.  0.  0.  4.  8.  0.  0.  8.  8.  0.\n",
      "  0.  7.  8.  0.  0.  5. 11.  0.  2. 15.  3.  0.  0.  0. 14.  5. 13.  7.\n",
      "  0.  0.  0.  0.  5. 14.  5.  0.  0.  0.]\n",
      "index :  1029 \n",
      "distance :  178.0 \n",
      "arr :  [ 0.  0.  3. 12. 12.  2.  0.  0.  0.  0. 11. 10.  7. 14.  2.  0.  0.  0.\n",
      " 11.  1.  0.  8.  4.  0.  0.  2. 14.  2.  0.  5.  7.  0.  0.  8.  9.  0.\n",
      "  0.  6.  8.  0.  0.  3. 13.  0.  0. 12.  7.  0.  0.  0. 15.  6. 11. 12.\n",
      "  0.  0.  0.  0.  4. 15. 11.  1.  0.  0.]\n",
      "index :  464 \n",
      "distance :  181.0 \n",
      "arr :  [ 0.  0.  4. 15. 12.  1.  0.  0.  0.  0. 12. 11. 13. 13.  1.  0.  0.  3.\n",
      " 12.  0.  0. 14.  6.  0.  0.  8. 12.  0.  0. 11.  8.  0.  0.  8. 12.  0.\n",
      "  0.  8.  8.  0.  0.  6. 13.  0.  0. 11.  7.  0.  0.  4. 16.  7. 10. 15.\n",
      "  2.  0.  0.  0.  7. 13. 12.  2.  0.  0.]\n",
      "index :  957 \n",
      "distance :  238.0 \n",
      "arr :  [ 0.  0.  3. 12.  9.  0.  0.  0.  0.  0. 12. 12. 11. 13.  0.  0.  0.  2.\n",
      " 15.  2.  0. 12.  5.  0.  0.  4.  8.  0.  0.  6.  8.  0.  0.  8.  7.  0.\n",
      "  0.  4.  8.  0.  0.  7.  7.  0.  0.  9.  7.  0.  0.  3. 13.  4.  7. 16.\n",
      "  2.  0.  0.  0.  6. 16. 15.  5.  0.  0.]\n",
      "index :  1697 \n",
      "distance :  245.0 \n",
      "arr :  [ 0.  0.  7. 12. 13.  2.  0.  0.  0.  0. 14. 13.  8. 13.  0.  0.  0.  3.\n",
      " 16.  1.  0. 11.  2.  0.  0.  4. 14.  0.  0.  5.  8.  0.  0.  5.  8.  0.\n",
      "  0.  5.  8.  0.  0.  4. 16.  0.  2. 14.  7.  0.  0.  2. 16. 10. 14. 15.\n",
      "  1.  0.  0.  0.  6. 14. 14.  4.  0.  0.]\n",
      "index :  855 \n",
      "distance :  252.0 \n",
      "arr :  [ 0.  0.  9.  9.  4.  0.  0.  0.  0.  0. 15. 15. 14. 12.  0.  0.  0.  3.\n",
      " 10.  1.  0. 12.  5.  0.  0.  5.  8.  0.  0.  8.  6.  0.  0.  8.  8.  0.\n",
      "  0.  8.  8.  0.  0.  5.  8.  0.  0. 10.  6.  0.  0.  4. 13.  4.  6. 13.\n",
      "  0.  0.  0.  0.  6. 16. 14.  3.  0.  0.]\n",
      "arr.shape :  (10, 64)\n"
     ]
    }
   ],
   "source": [
    "arr = np.empty([0,64])\n",
    "i = 0\n",
    "for i in range(k):\n",
    "    print('index : ', I[0,i], '\\ndistance : ', D[0,i], '\\narr : ', xb[I[0,i]])\n",
    "    arr = np.vstack((arr, xb[I[0,i]]))\n",
    "print('arr.shape : ', arr.shape)"
   ]
  },
  {
   "cell_type": "code",
   "execution_count": 7,
   "metadata": {},
   "outputs": [
    {
     "data": {
      "image/png": "[encoded data removed]",
      "text/plain": [
       "<Figure size 2880x288 with 10 Axes>"
      ]
     },
     "metadata": {
      "needs_background": "light"
     },
     "output_type": "display_data"
    }
   ],
   "source": [
    "draw_mnist(arr)"
   ]
  }
 ],
 "metadata": {
  "kernelspec": {
   "display_name": "Python 3",
   "language": "python",
   "name": "python3"
  },
  "language_info": {
   "codemirror_mode": {
    "name": "ipython",
    "version": 3
   },
   "file_extension": ".py",
   "mimetype": "text/x-python",
   "name": "python",
   "nbconvert_exporter": "python",
   "pygments_lexer": "ipython3",
   "version": "3.9.6"
  }
 },
 "nbformat": 4,
 "nbformat_minor": 2
}
