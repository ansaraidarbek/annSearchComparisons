{
 "cells": [
  {
   "cell_type": "code",
   "execution_count": 3,
   "metadata": {},
   "outputs": [],
   "source": [
    "from rpforest import RPForest\n",
    "exec(open(\"../database.py\").read())\n",
    "exec(open(\"../helperFunctions.py\").read())\n",
    "import numpy as np\n",
    "import matplotlib.pyplot as plt\n",
    "from keras.datasets import mnist\n",
    "from time import perf_counter\n",
    "import pandas as pd\n",
    "from ast import literal_eval"
   ]
  },
  {
   "cell_type": "code",
   "execution_count": 4,
   "metadata": {},
   "outputs": [
    {
     "name": "stdout",
     "output_type": "stream",
     "text": [
      "datasetImages :  (70000, 784)\n",
      "datasetLabels :  (70000,)\n"
     ]
    }
   ],
   "source": [
    "datasetImages, datasetLabels = readMnist()"
   ]
  },
  {
   "cell_type": "markdown",
   "metadata": {},
   "source": [
    "***Create RPForest Index***"
   ]
  },
  {
   "cell_type": "code",
   "execution_count": 7,
   "metadata": {},
   "outputs": [
    {
     "name": "stdout",
     "output_type": "stream",
     "text": [
      "Took 21.604 seconds\n"
     ]
    }
   ],
   "source": [
    "def createIndex(indexMethod, datasetImages):\n",
    "    time_start = perf_counter()\n",
    "    xb = datasetImages.astype('float64') \n",
    "    index = indexMethod(leaf_size=50, no_trees=10)\n",
    "    index.fit(xb)\n",
    "    time_end = perf_counter()\n",
    "    totalTime = (time_end - time_start)\n",
    "    print(f'Took {totalTime:.3f} seconds')\n",
    "    return (index, totalTime)\n",
    "(indexedStruct, time) = createIndex(RPForest, datasetImages)"
   ]
  },
  {
   "cell_type": "code",
   "execution_count": 8,
   "metadata": {},
   "outputs": [
    {
     "name": "stdout",
     "output_type": "stream",
     "text": [
      "<rpforest.rpforest.RPForest object at 0x000002DA923E8E50>\n"
     ]
    }
   ],
   "source": [
    "print(indexedStruct)"
   ]
  },
  {
   "cell_type": "code",
   "execution_count": null,
   "metadata": {},
   "outputs": [],
   "source": [
    "# (min, max) = createIndexNumerous(createIndex, NearestNeighbors, datasetImages, 10)\n",
    "# print('min : ', min, '\\n','max : ', max,)"
   ]
  },
  {
   "cell_type": "code",
   "execution_count": 33,
   "metadata": {},
   "outputs": [
    {
     "name": "stdout",
     "output_type": "stream",
     "text": [
      "Took 0.000 seconds\n"
     ]
    }
   ],
   "source": [
    "indexes = []\n",
    "distances = []\n",
    "def measureTime(par, indexes, distances):\n",
    "    totalTime = 0\n",
    "    for i in range(par) : \n",
    "        xq = datasetImages[i:i+1].astype('float64') # Use the first image as the query vector\n",
    "        query = xq.reshape(784,)\n",
    "        time_start = perf_counter()\n",
    "        index = indexedStruct.get_candidates(query, 100)\n",
    "        time_end = perf_counter()\n",
    "        totalTime += (time_end - time_start)\n",
    "        indexes.append(index)\n",
    "        # distances.append(np.sqrt(distance[0]))\n",
    "        break\n",
    "    # report the duration\n",
    "    print(f'Took {totalTime:.3f} seconds')\n",
    "measureTime(1000, indexes, distances)"
   ]
  },
  {
   "cell_type": "code",
   "execution_count": 34,
   "metadata": {},
   "outputs": [
    {
     "name": "stdout",
     "output_type": "stream",
     "text": [
      "1 331 [array([    0, 57405,   204,   327,   522,   705,   962,  1095,  1100,\n",
      "        1564,  1677,  1959,  1997,  2180,  2747,  2844,  3094,  3374,\n",
      "        3550,  4033,  4248,  4299,  4938,  6198,  6592,  6824,  7212,\n",
      "        7367,  7642,  7880,  8242,  8290,  8904,  9300,  9470,  9568,\n",
      "        9611,  9638,  9652,  9759, 10053, 10401, 10451, 10740, 10743,\n",
      "       10830, 10940, 11725, 11741, 11813, 12099, 12252, 12606, 12616,\n",
      "       12635, 12794, 12963, 13004, 13214, 13570, 13605, 13800, 13849,\n",
      "       14206, 14544, 14747, 14880, 15178, 15322, 15339, 16145, 16550,\n",
      "       16803, 16831, 16861, 16988, 17258, 17376, 18105, 18234, 18358,\n",
      "       18404, 19773, 19798, 20538, 21097, 21199, 21252, 21538, 21595,\n",
      "       21654, 21678, 22087, 22182, 22208, 22534, 22904, 22918, 23622,\n",
      "       23654, 24162, 24569, 24652, 24730, 25483, 25601, 25720, 25762,\n",
      "       26399, 26637, 26804, 27224, 27423, 27699, 27784, 28111, 28119,\n",
      "       28214, 28263, 28663, 28813, 29412, 29708, 30011, 30177, 30251,\n",
      "       30668, 30781, 30799, 30911, 30961, 31043, 31724, 32562, 32753,\n",
      "       33151, 33327, 33562, 33647, 33697, 33808, 34893, 35008, 35501,\n",
      "       36087, 36095, 36242, 36623, 36910, 37006, 37098, 37117, 37232,\n",
      "       37336, 37548, 37726, 37944, 37971, 37979, 38059, 38294, 38504,\n",
      "       38507, 38771, 38773, 38810, 38841, 39043, 39188, 39327, 39389,\n",
      "       39593, 39705, 40057, 40183, 40541, 40629, 40640, 40665, 40831,\n",
      "       41240, 41566, 41858, 41957, 41958, 42005, 42140, 42922, 43018,\n",
      "       43328, 43383, 43620, 43816, 44555, 44724, 44892, 44941, 45088,\n",
      "       45249, 45260, 45320, 45520, 45849, 45886, 46024, 46149, 46283,\n",
      "       46327, 46443, 46453, 46625, 46649, 47441, 47476, 47538, 47567,\n",
      "       47572, 48370, 48510, 48541, 48630, 48965, 48989, 49042, 49116,\n",
      "       49129, 49321, 49456, 49704, 49884, 50040, 50131, 50277, 50484,\n",
      "       50771, 50775, 50857, 50904, 51183, 51269, 51352, 51626, 51737,\n",
      "       51845, 52454, 52540, 52545, 53021, 53036, 53075, 53414, 53508,\n",
      "       54037, 54265, 54407, 54564, 54764, 55020, 55061, 55164, 55211,\n",
      "       55269, 55286, 55331, 55393, 55402, 55550, 56063, 56085, 56294,\n",
      "       56322, 56812, 56834, 56925, 56959, 57418, 57592, 58099, 58461,\n",
      "       58793, 59305, 59574, 59663, 60023, 60456, 60465, 60674, 60683,\n",
      "       61135, 61239, 61587, 61701, 61833, 61870, 61986, 62237, 62479,\n",
      "       62525, 62581, 62952, 63237, 63470, 63537, 63807, 64083, 64336,\n",
      "       64440, 64942, 64984, 65020, 65285, 65573, 65804, 66139, 66548,\n",
      "       67217, 67221, 67403, 67430, 67432, 67654, 67673, 68130, 68601,\n",
      "       69229, 69398, 69427, 69681, 69695, 69814, 69853])]\n"
     ]
    }
   ],
   "source": [
    "print(len(indexes), len(indexes[0]), indexes)"
   ]
  },
  {
   "cell_type": "code",
   "execution_count": null,
   "metadata": {},
   "outputs": [],
   "source": [
    "# (min, max) = measureTimeNumerous(measureTime, 10)\n",
    "# print('min : ', min, '\\n', 'max : ', max,)"
   ]
  },
  {
   "cell_type": "code",
   "execution_count": null,
   "metadata": {},
   "outputs": [],
   "source": [
    "indexes = np.array(indexes)\n",
    "distances = np.round(np.array(distances).astype(float), 4)"
   ]
  },
  {
   "cell_type": "code",
   "execution_count": null,
   "metadata": {},
   "outputs": [],
   "source": [
    "print('indexes : ', indexes.shape,'\\n', 'distances : ', distances.shape,)"
   ]
  },
  {
   "cell_type": "code",
   "execution_count": null,
   "metadata": {},
   "outputs": [],
   "source": [
    "(trueIndexes, trueDistances) = readDB()"
   ]
  },
  {
   "cell_type": "code",
   "execution_count": null,
   "metadata": {},
   "outputs": [],
   "source": [
    "compareFirstTen(indexes, distances, trueIndexes, trueDistances)"
   ]
  }
 ],
 "metadata": {
  "kernelspec": {
   "display_name": "Python 3",
   "language": "python",
   "name": "python3"
  },
  "language_info": {
   "codemirror_mode": {
    "name": "ipython",
    "version": 3
   },
   "file_extension": ".py",
   "mimetype": "text/x-python",
   "name": "python",
   "nbconvert_exporter": "python",
   "pygments_lexer": "ipython3",
   "version": "3.9.6"
  }
 },
 "nbformat": 4,
 "nbformat_minor": 2
}
