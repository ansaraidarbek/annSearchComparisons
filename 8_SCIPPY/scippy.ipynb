{
 "cells": [
  {
   "cell_type": "code",
   "execution_count": 1,
   "metadata": {},
   "outputs": [],
   "source": [
    "from scipy import spatial\n",
    "exec(open(\"../database.py\").read())\n",
    "exec(open(\"../helperFunctions.py\").read())\n",
    "import numpy as np\n",
    "from keras.datasets import mnist\n",
    "from time import perf_counter\n",
    "from ast import literal_eval"
   ]
  },
  {
   "cell_type": "code",
   "execution_count": 2,
   "metadata": {},
   "outputs": [
    {
     "name": "stdout",
     "output_type": "stream",
     "text": [
      "datasetImages :  (70000, 784)\n",
      "datasetLabels :  (70000,)\n"
     ]
    }
   ],
   "source": [
    "name = 'mnist-784-euclidean'\n",
    "nameFull = name +'-true-labels.xlsx'\n",
    "datasetTrainImages, datasetTestImages, _ = get_ann_benchmark_data(name)"
   ]
  },
  {
   "cell_type": "markdown",
   "metadata": {},
   "source": [
    "***Create scippy***"
   ]
  },
  {
   "cell_type": "code",
   "execution_count": 4,
   "metadata": {},
   "outputs": [
    {
     "name": "stdout",
     "output_type": "stream",
     "text": [
      "Took 4.350 seconds\n"
     ]
    }
   ],
   "source": [
    "def createIndex(indexMethod, datasetImages):\n",
    "    time_start = perf_counter()\n",
    "    index = indexMethod(datasetImages)\n",
    "    time_end = perf_counter()\n",
    "    totalTime = (time_end - time_start)\n",
    "    print(f'Building time {totalTime:.3f}')\n",
    "    return (index, totalTime)\n",
    "(indexedStruct, time) = createIndex(spatial.KDTree, datasetTrainImages)"
   ]
  },
  {
   "cell_type": "code",
   "execution_count": 5,
   "metadata": {},
   "outputs": [
    {
     "name": "stdout",
     "output_type": "stream",
     "text": [
      "<scipy.spatial._kdtree.KDTree object at 0x0000011C09D78EC0>\n"
     ]
    }
   ],
   "source": [
    "print(indexedStruct)"
   ]
  },
  {
   "cell_type": "code",
   "execution_count": 6,
   "metadata": {},
   "outputs": [],
   "source": [
    "# (min, max) = createIndexNumerous(createIndex, NearestNeighbors, datasetImages, 10)\n",
    "# print('min : ', min, '\\n','max : ', max,)"
   ]
  },
  {
   "cell_type": "code",
   "execution_count": 15,
   "metadata": {},
   "outputs": [
    {
     "name": "stdout",
     "output_type": "stream",
     "text": [
      "Took 89.570 seconds\n"
     ]
    }
   ],
   "source": [
    "indexes = []\n",
    "distances = []\n",
    "def measureTime(par, indexes, distances, datasetImages):\n",
    "    totalTime = 0\n",
    "    for i in range(par) : \n",
    "        xq = datasetImages[i:i+1].astype('float32') # Use the first image as the query vector\n",
    "        time_start = perf_counter()\n",
    "        distance, index = indexedStruct.query(xq, k=100, p=2, workers=1)\n",
    "        time_end = perf_counter()\n",
    "        totalTime += (time_end - time_start)\n",
    "        indexes.append(index[0])\n",
    "        distances.append(distance[0])\n",
    "        # distances.append(np.sqrt(distance[0]))\n",
    "        # indexes.append(index[0])\n",
    "    # report the duration\n",
    "    print(f'Searching time {totalTime:.3f}')\n",
    "measureTime(1000, indexes, distances, datasetTestImages)"
   ]
  },
  {
   "cell_type": "code",
   "execution_count": null,
   "metadata": {},
   "outputs": [],
   "source": [
    "indexes = np.array(indexes)\n",
    "distances = np.round(np.array(distances).astype(float), 4)"
   ]
  },
  {
   "cell_type": "code",
   "execution_count": null,
   "metadata": {},
   "outputs": [],
   "source": [
    "print('indexes : ', indexes.shape)\n",
    "print('distances : ', distances.shape)"
   ]
  },
  {
   "cell_type": "code",
   "execution_count": null,
   "metadata": {},
   "outputs": [],
   "source": [
    "path = '../datasets/'+nameFull\n",
    "(trueIndexes, trueDistances) = readDB(path)"
   ]
  },
  {
   "cell_type": "code",
   "execution_count": null,
   "metadata": {},
   "outputs": [],
   "source": [
    "compareFirstTen(indexes, distances, trueIndexes, trueDistances)"
   ]
  },
  {
   "cell_type": "code",
   "execution_count": null,
   "metadata": {},
   "outputs": [],
   "source": [
    "calculateRecallAverage(indexes, distances, trueIndexes, trueDistances)\n",
    "calculateRecallAverage(indexes, distances, trueIndexes, trueDistances, 1.01)\n",
    "calculateRecallAverage(indexes, distances, trueIndexes, trueDistances, 1.1)"
   ]
  }
 ],
 "metadata": {
  "kernelspec": {
   "display_name": "Python 3",
   "language": "python",
   "name": "python3"
  },
  "language_info": {
   "codemirror_mode": {
    "name": "ipython",
    "version": 3
   },
   "file_extension": ".py",
   "mimetype": "text/x-python",
   "name": "python",
   "nbconvert_exporter": "python",
   "pygments_lexer": "ipython3",
   "version": "3.9.6"
  }
 },
 "nbformat": 4,
 "nbformat_minor": 2
}
