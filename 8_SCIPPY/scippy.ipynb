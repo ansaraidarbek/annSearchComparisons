{
 "cells": [
  {
   "cell_type": "code",
   "execution_count": 1,
   "metadata": {},
   "outputs": [],
   "source": [
    "from scipy import spatial\n",
    "exec(open(\"../database.py\").read())\n",
    "exec(open(\"../helperFunctions.py\").read())\n",
    "import numpy as np\n",
    "from keras.datasets import mnist\n",
    "from time import perf_counter\n",
    "from ast import literal_eval"
   ]
  },
  {
   "cell_type": "code",
   "execution_count": 2,
   "metadata": {},
   "outputs": [
    {
     "name": "stdout",
     "output_type": "stream",
     "text": [
      "datasetImages :  (70000, 784)\n",
      "datasetLabels :  (70000,)\n"
     ]
    }
   ],
   "source": [
    "datasetImages, datasetLabels = readMnist()"
   ]
  },
  {
   "cell_type": "markdown",
   "metadata": {},
   "source": [
    "***Create scippy***"
   ]
  },
  {
   "cell_type": "code",
   "execution_count": 4,
   "metadata": {},
   "outputs": [
    {
     "name": "stdout",
     "output_type": "stream",
     "text": [
      "Took 4.350 seconds\n"
     ]
    }
   ],
   "source": [
    "def createIndex(indexMethod, datasetImages):\n",
    "    time_start = perf_counter()\n",
    "    index = indexMethod(datasetImages)\n",
    "    time_end = perf_counter()\n",
    "    totalTime = (time_end - time_start)\n",
    "    print(f'Took {totalTime:.3f} seconds')\n",
    "    return (index, totalTime)\n",
    "(indexedStruct, time) = createIndex(spatial.KDTree, datasetImages)"
   ]
  },
  {
   "cell_type": "code",
   "execution_count": 5,
   "metadata": {},
   "outputs": [
    {
     "name": "stdout",
     "output_type": "stream",
     "text": [
      "<scipy.spatial._kdtree.KDTree object at 0x0000011C09D78EC0>\n"
     ]
    }
   ],
   "source": [
    "print(indexedStruct)"
   ]
  },
  {
   "cell_type": "code",
   "execution_count": 6,
   "metadata": {},
   "outputs": [],
   "source": [
    "# (min, max) = createIndexNumerous(createIndex, NearestNeighbors, datasetImages, 10)\n",
    "# print('min : ', min, '\\n','max : ', max,)"
   ]
  },
  {
   "cell_type": "code",
   "execution_count": 15,
   "metadata": {},
   "outputs": [
    {
     "name": "stdout",
     "output_type": "stream",
     "text": [
      "Took 89.570 seconds\n"
     ]
    }
   ],
   "source": [
    "indexes = []\n",
    "distances = []\n",
    "def measureTime(par, indexes, distances):\n",
    "    totalTime = 0\n",
    "    for i in range(par) : \n",
    "        xq = datasetImages[i:i+1].astype('float32') # Use the first image as the query vector\n",
    "        time_start = perf_counter()\n",
    "        distance, index = indexedStruct.query(xq, k=100, p=2, workers=1)\n",
    "        time_end = perf_counter()\n",
    "        totalTime += (time_end - time_start)\n",
    "        indexes.append(index[0])\n",
    "        distances.append(distance[0])\n",
    "        if (i==500):\n",
    "            break\n",
    "        # distances.append(np.sqrt(distance[0]))\n",
    "        # indexes.append(index[0])\n",
    "    # report the duration\n",
    "    print(f'Took {totalTime:.3f} seconds')\n",
    "measureTime(1000, indexes, distances)"
   ]
  },
  {
   "cell_type": "code",
   "execution_count": 12,
   "metadata": {},
   "outputs": [
    {
     "name": "stdout",
     "output_type": "stream",
     "text": [
      "1 100 [   0.         1561.47238208 1591.60139482 1594.71909752 1596.70942879\n",
      " 1600.87382388 1603.47903011 1604.44694521 1604.887535   1605.70918911\n",
      " 1609.69438093 1613.70474375 1625.64910113 1627.46090583 1649.36321045\n",
      " 1650.38389473 1654.01451021 1655.39602513 1663.17317198 1665.24953085\n",
      " 1669.6802089  1682.51121839 1683.95724411 1684.53346657 1689.80975261\n",
      " 1690.23578237 1691.7414105  1694.24703039 1694.31047922 1694.96725632\n",
      " 1699.63378408 1702.09488572 1702.4834801  1708.57864905 1713.7741975\n",
      " 1713.99212367 1715.16879636 1717.30078903 1719.11547023 1724.27607998\n",
      " 1724.84926878 1725.9724795  1731.84872319 1732.56947913 1737.14996474\n",
      " 1742.34755431 1742.47812038 1743.41073761 1744.54865223 1745.20457254\n",
      " 1745.72936047 1745.94157978 1747.22007772 1749.36902911 1751.44597405\n",
      " 1751.90068212 1752.59978318 1755.53723971 1757.92861061 1758.2843911\n",
      " 1760.28378394 1762.06923814 1764.17884581 1765.96828964 1767.94541771\n",
      " 1768.31445167 1770.37453664 1773.35219288 1776.27193864 1776.56832123\n",
      " 1777.16487699 1778.9376043  1779.55584346 1780.9727679  1782.31001793\n",
      " 1782.45196289 1784.66159257 1785.53101345 1786.04535217 1786.4767001\n",
      " 1786.74872324 1786.81252514 1787.08365781 1787.45489454 1787.52958017\n",
      " 1787.60230476 1788.5214564  1788.99748463 1790.72499285 1790.79479561\n",
      " 1790.95840264 1791.49267372 1792.19781274 1792.26839508 1792.77968529\n",
      " 1792.92972534 1793.06441602 1793.384231   1793.87820099 1794.84094003]\n"
     ]
    }
   ],
   "source": [
    "print(len(distances), len(distances[0]), distances[0])"
   ]
  }
 ],
 "metadata": {
  "kernelspec": {
   "display_name": "Python 3",
   "language": "python",
   "name": "python3"
  },
  "language_info": {
   "codemirror_mode": {
    "name": "ipython",
    "version": 3
   },
   "file_extension": ".py",
   "mimetype": "text/x-python",
   "name": "python",
   "nbconvert_exporter": "python",
   "pygments_lexer": "ipython3",
   "version": "3.9.6"
  }
 },
 "nbformat": 4,
 "nbformat_minor": 2
}
