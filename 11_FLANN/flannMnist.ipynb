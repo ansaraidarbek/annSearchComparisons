{
 "cells": [
  {
   "cell_type": "code",
   "execution_count": 383,
   "metadata": {},
   "outputs": [],
   "source": [
    "import pyflann\n",
    "exec(open(\"../database.py\").read())\n",
    "exec(open(\"../helperFunctions.py\").read())\n",
    "import numpy as np\n",
    "import timeit\n",
    "from ast import literal_eval"
   ]
  },
  {
   "cell_type": "code",
   "execution_count": 384,
   "metadata": {},
   "outputs": [
    {
     "name": "stdout",
     "output_type": "stream",
     "text": [
      "('trainDataset : ', (60000, 784))\n",
      "('testDataset : ', (10000, 784))\n"
     ]
    }
   ],
   "source": [
    "name = 'mnist-784'\n",
    "runs = 1\n",
    "metric = 'euclidean'\n",
    "queries = 1000\n",
    "nameFull = name + '-' + metric + '-true-labels.xlsx'\n",
    "datasetTrainImages, datasetTestImages, _ = get_ann_benchmark_data(name)"
   ]
  },
  {
   "cell_type": "markdown",
   "metadata": {},
   "source": [
    "***Create FLANN Index***"
   ]
  },
  {
   "cell_type": "code",
   "execution_count": 385,
   "metadata": {},
   "outputs": [],
   "source": [
    "def createIndex(indexMethod, datasetImages):\n",
    "    index = indexMethod.FLANN()  \n",
    "    num_trees = 2048   \n",
    "    time_start = timeit.default_timer()\n",
    "    index.build_index(datasetImages, algorithm='kdtree', trees=num_trees)\n",
    "    time_end = timeit.default_timer()\n",
    "    totalTime = (time_end - time_start)\n",
    "    return (index, totalTime)"
   ]
  },
  {
   "cell_type": "code",
   "execution_count": 386,
   "metadata": {},
   "outputs": [
    {
     "name": "stdout",
     "output_type": "stream",
     "text": [
      "('index ', 1, ' created')\n",
      "('minBuildTime : ', 827.044)\n",
      "('maxBuildTime : ', 827.044)\n"
     ]
    }
   ],
   "source": [
    "(minBuildTime, maxBuildTime, indexedStruct) = createIndexNumerous(createIndex, pyflann, datasetTrainImages, runs)\n",
    "print('minBuildTime : ', minBuildTime)\n",
    "print('maxBuildTime : ', maxBuildTime)"
   ]
  },
  {
   "cell_type": "code",
   "execution_count": 387,
   "metadata": {},
   "outputs": [],
   "source": [
    "def measureTime(par, indexes, distances, datasetImages):\n",
    "    totalTime = 0\n",
    "    for i in range(par) : \n",
    "        xq = datasetImages[i:i+1].astype('float32') # Use the first image as the query vector\n",
    "        # xq = xq.flatten().tolist()\n",
    "        time_start = timeit.default_timer()\n",
    "        index, distance = indexedStruct.nn_index(xq, 100)\n",
    "        time_end = timeit.default_timer()\n",
    "        totalTime += (time_end - time_start)\n",
    "        indexes.append(index[0])\n",
    "        distances.append(np.sqrt(distance[0]))\n",
    "    return np.round(totalTime, 3)"
   ]
  },
  {
   "cell_type": "code",
   "execution_count": 388,
   "metadata": {},
   "outputs": [
    {
     "name": "stdout",
     "output_type": "stream",
     "text": [
      "('search ', 1, ' done')\n",
      "('minSearchTime : ', 2.252)\n",
      "('maxSearchTime : ', 2.252)\n"
     ]
    }
   ],
   "source": [
    "(minSearchTime, maxSearchTime, indexes, distances) = measureTimeNumerous(measureTime, runs, queries, datasetTestImages)\n",
    "print('minSearchTime : ', minSearchTime)\n",
    "print('maxSearchTime : ', maxSearchTime)"
   ]
  },
  {
   "cell_type": "code",
   "execution_count": 389,
   "metadata": {},
   "outputs": [],
   "source": [
    "indexes = np.array(indexes)\n",
    "distances = np.round(np.array(distances).astype(float), 4)"
   ]
  },
  {
   "cell_type": "code",
   "execution_count": 390,
   "metadata": {},
   "outputs": [
    {
     "name": "stdout",
     "output_type": "stream",
     "text": [
      "('indexes : ', (1000, 100))\n",
      "('distances : ', (1000, 100))\n"
     ]
    }
   ],
   "source": [
    "print('indexes : ', indexes.shape)\n",
    "print('distances : ', distances.shape)"
   ]
  },
  {
   "cell_type": "code",
   "execution_count": 391,
   "metadata": {},
   "outputs": [
    {
     "name": "stdout",
     "output_type": "stream",
     "text": [
      "('trueIndexes : ', (1000, 100))\n",
      "('trueDistances : ', (1000, 100))\n"
     ]
    }
   ],
   "source": [
    "path = '../datasets/'+nameFull\n",
    "(trueIndexes, trueDistances) = readDB(path)"
   ]
  },
  {
   "cell_type": "code",
   "execution_count": 392,
   "metadata": {},
   "outputs": [
    {
     "name": "stdout",
     "output_type": "stream",
     "text": [
      "53843 || 53843\n",
      "676.584 || 676.584\n",
      "38620 || 38620\n",
      "793.9868 || 793.9868\n",
      "16186 || 16186\n",
      "862.6766 || 862.6766\n",
      "27059 || 27059\n",
      "864.5039 || 864.5039\n",
      "47003 || 47003\n",
      "894.7 || 894.7\n",
      "14563 || 14563\n",
      "909.7043 || 909.7043\n",
      "44566 || 44566\n",
      "917.6323 || 917.6323\n",
      "15260 || 15260\n",
      "921.6241 || 921.6241\n",
      "40368 || 40368\n",
      "922.147 || 922.147\n",
      "36395 || 36395\n",
      "943.4972 || 943.4972\n",
      "14770 || 30502\n",
      "970.4216 || 954.8581\n",
      "17228 || 14770\n",
      "1005.5889 || 970.4216\n",
      "35919 || 17228\n",
      "1009.3607 || 1005.5889\n",
      "14505 || 35919\n",
      "1028.6029 || 1009.3607\n",
      "55668 || 27166\n",
      "1039.1915 || 1010.2643\n",
      "9724 || 21518\n",
      "1047.6316 || 1017.5667\n",
      "40710 || 52010\n",
      "1064.2528 || 1020.4876\n",
      "29762 || 38763\n",
      "1067.1205 || 1023.5209\n",
      "26957 || 14505\n",
      "1067.4825 || 1028.6029\n",
      "35937 || 48108\n",
      "1074.6162 || 1029.6101\n",
      "23149 || 9444\n",
      "1079.0852 || 1034.7782\n",
      "51420 || 55668\n",
      "1086.4801 || 1039.1915\n",
      "1673 || 9724\n",
      "1095.8595 || 1047.6316\n",
      "50255 || 57204\n",
      "1096.6759 || 1052.1445\n",
      "4130 || 17946\n",
      "1097.2963 || 1058.9651\n",
      "30988 || 41958\n",
      "1097.5536 || 1061.7175\n",
      "32980 || 40710\n",
      "1098.7784 || 1064.2528\n",
      "25972 || 29762\n",
      "1099.5431 || 1067.1205\n",
      "25705 || 26957\n",
      "1107.2548 || 1067.4825\n",
      "43917 || 24700\n",
      "1115.7585 || 1067.9681\n",
      "15856 || 54364\n",
      "1117.7723 || 1074.2328\n",
      "6475 || 35937\n",
      "1121.8516 || 1074.6162\n",
      "47117 || 41236\n",
      "1129.3679 || 1077.1119\n",
      "22546 || 23149\n",
      "1133.0017 || 1079.0852\n",
      "50147 || 31073\n",
      "1136.2892 || 1079.9009\n",
      "6525 || 51420\n",
      "1139.6034 || 1086.4801\n",
      "47015 || 1673\n",
      "1140.5494 || 1095.8595\n",
      "58507 || 50255\n",
      "1155.4985 || 1096.6759\n",
      "51916 || 4130\n",
      "1160.624 || 1097.2963\n",
      "15570 || 30988\n",
      "1166.6392 || 1097.5536\n",
      "46053 || 32980\n",
      "1183.145 || 1098.7784\n",
      "1789 || 25972\n",
      "1187.0433 || 1099.5431\n",
      "24907 || 38504\n",
      "1205.3307 || 1104.0842\n",
      "58526 || 25705\n",
      "1209.9091 || 1107.2548\n",
      "24228 || 29983\n",
      "1211.4524 || 1108.0221\n",
      "53839 || 59665\n",
      "1216.8468 || 1112.9811\n",
      "3283 || 43917\n",
      "1218.1265 || 1115.7585\n",
      "6435 || 15856\n",
      "1218.9791 || 1117.7723\n",
      "15062 || 39003\n",
      "1221.6055 || 1118.0551\n",
      "50115 || 6475\n",
      "1222.8451 || 1121.8516\n"
     ]
    }
   ],
   "source": [
    "amount = 50\n",
    "compareElems(amount, indexes, distances, trueIndexes, trueDistances)"
   ]
  },
  {
   "cell_type": "code",
   "execution_count": 393,
   "metadata": {},
   "outputs": [
    {
     "name": "stdout",
     "output_type": "stream",
     "text": [
      "Recall@1: 0.0799\n",
      "Recall@1.01: 0.1264\n",
      "Recall@1.1: 0.5277\n",
      "42\n",
      "norm Recall is 0.4129\n"
     ]
    },
    {
     "data": {
      "text/plain": [
       "0.4129"
      ]
     },
     "execution_count": 393,
     "metadata": {},
     "output_type": "execute_result"
    }
   ],
   "source": [
    "calculateRecallAverage(indexes, distances, trueIndexes, trueDistances)\n",
    "calculateRecallAverage(indexes, distances, trueIndexes, trueDistances, 1.01)\n",
    "calculateRecallAverage(indexes, distances, trueIndexes, trueDistances, 1.1)\n",
    "calculateNormRecall(indexes,trueIndexes)"
   ]
  },
  {
   "cell_type": "code",
   "execution_count": 394,
   "metadata": {},
   "outputs": [
    {
     "name": "stdout",
     "output_type": "stream",
     "text": [
      "[53843 38620 16186 27059 47003 14563 44566 15260 40368 36395 14770 17228\n",
      " 35919 14505 55668  9724 40710 29762 26957 35937 23149 51420  1673 50255\n",
      "  4130 30988 32980 25972 25705 43917 15856  6475 47117 22546 50147  6525\n",
      " 47015 58507 51916 15570 46053  1789 24907 58526 24228 53839  3283  6435\n",
      " 15062 50115 36964 48889 29482 58890  7092 13754 18757 39676 30912 37298\n",
      " 35130 18367  6579 58078 56542 23153 53962 43798 34344 58214 46686 42824\n",
      " 11329 58733 18691 10063 12031 45466 11786  2348 52750  3236 23207 49862\n",
      " 44175 46264 51560 45937  3059 48250 59088 27577 53779  9082 19416 39863\n",
      " 58583 18204   934 33609]\n"
     ]
    }
   ],
   "source": [
    "print(indexes[0]) # will find the 100 nearest neighbors"
   ]
  },
  {
   "cell_type": "code",
   "execution_count": 395,
   "metadata": {},
   "outputs": [
    {
     "name": "stdout",
     "output_type": "stream",
     "text": [
      "('index : ', 53843, '\\ndistance : ', 676.584)\n",
      "('index : ', 38620, '\\ndistance : ', 793.9868)\n",
      "('index : ', 16186, '\\ndistance : ', 862.6766)\n",
      "('index : ', 27059, '\\ndistance : ', 864.5039)\n",
      "('index : ', 47003, '\\ndistance : ', 894.7)\n",
      "('index : ', 14563, '\\ndistance : ', 909.7043)\n",
      "('index : ', 44566, '\\ndistance : ', 917.6323)\n",
      "('index : ', 15260, '\\ndistance : ', 921.6241)\n",
      "('index : ', 40368, '\\ndistance : ', 922.147)\n",
      "('index : ', 36395, '\\ndistance : ', 943.4972)\n"
     ]
    },
    {
     "data": {
      "image/png": "[encoded data removed]",
      "text/plain": [
       "<Figure size 2880x288 with 10 Axes>"
      ]
     },
     "metadata": {
      "needs_background": "light"
     },
     "output_type": "display_data"
    }
   ],
   "source": [
    "draw_mnist(indexes, distances, datasetTrainImages)"
   ]
  }
 ],
 "metadata": {
  "kernelspec": {
   "display_name": "Python 3",
   "language": "python",
   "name": "python3"
  },
  "language_info": {
   "codemirror_mode": {
    "name": "ipython",
    "version": 2
   },
   "file_extension": ".py",
   "mimetype": "text/x-python",
   "name": "python",
   "nbconvert_exporter": "python",
   "pygments_lexer": "ipython2",
   "version": "2.7.18"
  }
 },
 "nbformat": 4,
 "nbformat_minor": 2
}
