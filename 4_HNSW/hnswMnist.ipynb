{
 "cells": [
  {
   "cell_type": "code",
   "execution_count": 35,
   "metadata": {},
   "outputs": [],
   "source": [
    "import hnswlib\n",
    "exec(open(\"../database.py\").read())\n",
    "exec(open(\"../helperFunctions.py\").read())\n",
    "import numpy as np\n",
    "from keras.datasets import mnist\n",
    "from time import perf_counter\n",
    "from ast import literal_eval"
   ]
  },
  {
   "cell_type": "code",
   "execution_count": 36,
   "metadata": {},
   "outputs": [
    {
     "name": "stdout",
     "output_type": "stream",
     "text": [
      "datasetImages :  (70000, 784)\n",
      "datasetLabels :  (70000,)\n"
     ]
    }
   ],
   "source": [
    "datasetImages, datasetLabels = readMnist()"
   ]
  },
  {
   "cell_type": "markdown",
   "metadata": {},
   "source": [
    "***Create HNSW Index***"
   ]
  },
  {
   "cell_type": "code",
   "execution_count": 37,
   "metadata": {},
   "outputs": [
    {
     "name": "stdout",
     "output_type": "stream",
     "text": [
      "Took 25.589 seconds\n"
     ]
    }
   ],
   "source": [
    "def createIndex(indexMethod, datasetImages):\n",
    "    d = datasetImages.shape[1] \n",
    "    num_elements = datasetImages.shape[0] \n",
    "    time_start = perf_counter()\n",
    "    index = indexMethod(space = 'l2', dim = d)\n",
    "    index.init_index(max_elements = num_elements, ef_construction = 200, M = 16)\n",
    "    ids = np.arange(num_elements)\n",
    "    index.add_items(datasetImages, ids)\n",
    "    index.set_ef(120)\n",
    "    time_end = perf_counter()\n",
    "    totalTime = (time_end - time_start)\n",
    "    print(f'Took {totalTime:.3f} seconds')\n",
    "    return (index, totalTime)\n",
    "(indexedStruct, time) = createIndex(hnswlib.Index, datasetImages)"
   ]
  },
  {
   "cell_type": "code",
   "execution_count": 38,
   "metadata": {},
   "outputs": [
    {
     "name": "stdout",
     "output_type": "stream",
     "text": [
      "<hnswlib.Index(space='l2', dim=784)>\n"
     ]
    }
   ],
   "source": [
    "print(indexedStruct)"
   ]
  },
  {
   "cell_type": "code",
   "execution_count": null,
   "metadata": {},
   "outputs": [],
   "source": [
    "# (min, max) = createIndexNumerous(createIndex, NearestNeighbors, datasetImages, 10)\n",
    "# print('min : ', min, '\\n','max : ', max,)"
   ]
  },
  {
   "cell_type": "code",
   "execution_count": 39,
   "metadata": {},
   "outputs": [
    {
     "name": "stdout",
     "output_type": "stream",
     "text": [
      "Took 0.750 seconds\n"
     ]
    }
   ],
   "source": [
    "indexes = []\n",
    "distances = []\n",
    "def measureTime(par, indexes, distances):\n",
    "    totalTime = 0\n",
    "    for i in range(par) : \n",
    "        xq = datasetImages[i:i+1].astype('float32') # Use the first image as the query vector\n",
    "        time_start = perf_counter()\n",
    "        index, distance = indexedStruct.knn_query(xq, k = 100)\n",
    "        time_end = perf_counter()\n",
    "        totalTime += (time_end - time_start)\n",
    "        indexes.append(index[0])\n",
    "        distances.append(np.sqrt(distance[0]))\n",
    "    # report the duration\n",
    "    print(f'Took {totalTime:.3f} seconds')\n",
    "measureTime(1000, indexes, distances)"
   ]
  },
  {
   "cell_type": "code",
   "execution_count": 40,
   "metadata": {},
   "outputs": [],
   "source": [
    "# (min, max) = measureTimeNumerous(measureTime, 10)\n",
    "# print('min : ', min, '\\n', 'max : ', max,)"
   ]
  },
  {
   "cell_type": "code",
   "execution_count": 41,
   "metadata": {},
   "outputs": [],
   "source": [
    "indexes = np.array(indexes)\n",
    "distances = np.round(np.array(distances).astype(float), 4)"
   ]
  },
  {
   "cell_type": "code",
   "execution_count": 42,
   "metadata": {},
   "outputs": [
    {
     "name": "stdout",
     "output_type": "stream",
     "text": [
      "indexes :  (1000, 100) \n",
      " distances :  (1000, 100)\n"
     ]
    }
   ],
   "source": [
    "print('indexes : ', indexes.shape,'\\n', 'distances : ', distances.shape,)"
   ]
  },
  {
   "cell_type": "code",
   "execution_count": 43,
   "metadata": {},
   "outputs": [
    {
     "name": "stdout",
     "output_type": "stream",
     "text": [
      "trueIndexes :  (1000, 100)\n",
      "trueDistances :  (1000, 100)\n"
     ]
    }
   ],
   "source": [
    "(trueIndexes, trueDistances) = readDB()"
   ]
  },
  {
   "cell_type": "code",
   "execution_count": 44,
   "metadata": {},
   "outputs": [
    {
     "name": "stdout",
     "output_type": "stream",
     "text": [
      "0 || 0\n",
      "0.0 || 0.0\n",
      "32248 || 32248\n",
      "1561.4724 || 1561.4724\n",
      "8728 || 8728\n",
      "1591.6014 || 1591.6014\n",
      "18932 || 18932\n",
      "1594.7191 || 1594.7191\n",
      "30483 || 30483\n",
      "1596.7095 || 1596.7095\n",
      "63470 || 63470\n",
      "1600.8738 || 1600.8738\n",
      "65325 || 65325\n",
      "1603.479 || 1603.479\n",
      "24149 || 24149\n",
      "1604.4469 || 1604.4469\n",
      "42338 || 42338\n",
      "1604.8876 || 1604.8876\n",
      "52295 || 52295\n",
      "1605.7092 || 1605.7092\n"
     ]
    }
   ],
   "source": [
    "compareFirstTen(indexes, distances, trueIndexes, trueDistances)"
   ]
  },
  {
   "cell_type": "code",
   "execution_count": 45,
   "metadata": {},
   "outputs": [
    {
     "name": "stdout",
     "output_type": "stream",
     "text": [
      "0.9037\n",
      "1.0000\n",
      "1.0000\n"
     ]
    }
   ],
   "source": [
    "calculateRecallAverage(indexes, distances, trueIndexes, trueDistances)\n",
    "calculateRecallAverage(indexes, distances, trueIndexes, trueDistances, 1.01)\n",
    "calculateRecallAverage(indexes, distances, trueIndexes, trueDistances, 1.1)"
   ]
  }
 ],
 "metadata": {
  "kernelspec": {
   "display_name": "Python 3",
   "language": "python",
   "name": "python3"
  },
  "language_info": {
   "codemirror_mode": {
    "name": "ipython",
    "version": 3
   },
   "file_extension": ".py",
   "mimetype": "text/x-python",
   "name": "python",
   "nbconvert_exporter": "python",
   "pygments_lexer": "ipython3",
   "version": "3.9.6"
  }
 },
 "nbformat": 4,
 "nbformat_minor": 2
}
