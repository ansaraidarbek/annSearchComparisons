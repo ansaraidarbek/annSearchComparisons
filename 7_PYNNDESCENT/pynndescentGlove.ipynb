{
 "cells": [
  {
   "cell_type": "code",
   "execution_count": 1,
   "metadata": {},
   "outputs": [],
   "source": [
    "from pynndescent import NNDescent\n",
    "exec(open(\"../database.py\").read())\n",
    "exec(open(\"../helperFunctions.py\").read())\n",
    "import numpy as np\n",
    "from keras.datasets import mnist\n",
    "from time import perf_counter\n",
    "from ast import literal_eval"
   ]
  },
  {
   "cell_type": "code",
   "execution_count": 2,
   "metadata": {},
   "outputs": [
    {
     "name": "stderr",
     "output_type": "stream",
     "text": [
      "<string>:57: DeprecationWarning: `product` is deprecated as of NumPy 1.25.0, and will be removed in NumPy 2.0. Please use `prod` instead.\n"
     ]
    },
    {
     "name": "stdout",
     "output_type": "stream",
     "text": [
      "trainDataset :  (1183514, 100)\n",
      "testDataset :  (10000, 100)\n"
     ]
    },
    {
     "name": "stderr",
     "output_type": "stream",
     "text": [
      "<string>:58: DeprecationWarning: `product` is deprecated as of NumPy 1.25.0, and will be removed in NumPy 2.0. Please use `prod` instead.\n",
      "<string>:59: DeprecationWarning: `product` is deprecated as of NumPy 1.25.0, and will be removed in NumPy 2.0. Please use `prod` instead.\n"
     ]
    }
   ],
   "source": [
    "name = 'glove-100-angular'\n",
    "nameFull = name +'-true-labels.xlsx'\n",
    "datasetTrainImages, datasetTestImages, _ = get_ann_benchmark_data(name)"
   ]
  },
  {
   "cell_type": "markdown",
   "metadata": {},
   "source": [
    "***Create faiss***"
   ]
  },
  {
   "cell_type": "code",
   "execution_count": 10,
   "metadata": {},
   "outputs": [
    {
     "name": "stdout",
     "output_type": "stream",
     "text": [
      "Took 183.522 seconds\n"
     ]
    }
   ],
   "source": [
    "def createIndex(indexMethod, datasetImages):\n",
    "    time_start = perf_counter()\n",
    "    index = indexMethod(datasetImages, metric=\"euclidean\")\n",
    "    time_end = perf_counter()\n",
    "    totalTime = (time_end - time_start)\n",
    "    print(f'Took {totalTime:.3f} seconds')\n",
    "    return (index, totalTime)\n",
    "(indexedStruct, time) = createIndex(NNDescent, datasetTrainImages)"
   ]
  },
  {
   "cell_type": "code",
   "execution_count": 11,
   "metadata": {},
   "outputs": [],
   "source": [
    "# (min, max) = createIndexNumerous(createIndex, AnnoyIndex, datasetImages, 10)\n",
    "# print('min : ', min, '\\n','max : ', max,)"
   ]
  },
  {
   "cell_type": "code",
   "execution_count": 12,
   "metadata": {},
   "outputs": [
    {
     "name": "stdout",
     "output_type": "stream",
     "text": [
      "Took 120.816 seconds\n"
     ]
    }
   ],
   "source": [
    "indexes = []\n",
    "distances = []\n",
    "def measureTime(par, indexes, distances, datasetImages):\n",
    "    totalTime = 0\n",
    "    for i in range(par) : \n",
    "        xq = datasetImages[i:i+1].astype('float32') # Use the first image as the query vector\n",
    "        time_start = perf_counter()\n",
    "        index, distance = indexedStruct.query(xq, k=100)\n",
    "        time_end = perf_counter()\n",
    "        totalTime += (time_end - time_start)\n",
    "        indexes.append(index[0])\n",
    "        distances.append(distance[0])\n",
    "        # distances.append(np.sqrt(distance[0]))\n",
    "        # indexes.append(index[0])\n",
    "    # report the duration\n",
    "    print(f'Took {totalTime:.3f} seconds')\n",
    "measureTime(1000, indexes, distances, datasetTestImages)"
   ]
  },
  {
   "cell_type": "code",
   "execution_count": 13,
   "metadata": {},
   "outputs": [],
   "source": [
    "# (min, max) = measureTimeNumerous(measureTime, 10)\n",
    "# print('min : ', min, '\\n','max : ', max,)"
   ]
  },
  {
   "cell_type": "code",
   "execution_count": 14,
   "metadata": {},
   "outputs": [],
   "source": [
    "indexes = np.array(indexes)\n",
    "distances = np.round(np.array(distances).astype(float), 4)"
   ]
  },
  {
   "cell_type": "code",
   "execution_count": 15,
   "metadata": {},
   "outputs": [
    {
     "name": "stdout",
     "output_type": "stream",
     "text": [
      "indexes :  (1000, 100)\n",
      "distances :  (1000, 100)\n"
     ]
    }
   ],
   "source": [
    "print('indexes : ', indexes.shape)\n",
    "print('distances : ', distances.shape)"
   ]
  },
  {
   "cell_type": "code",
   "execution_count": 16,
   "metadata": {},
   "outputs": [
    {
     "name": "stdout",
     "output_type": "stream",
     "text": [
      "trueIndexes :  (1000, 100)\n",
      "trueDistances :  (1000, 100)\n"
     ]
    }
   ],
   "source": [
    "path = '../datasets/'+nameFull\n",
    "(trueIndexes, trueDistances) = readDB(path)"
   ]
  },
  {
   "cell_type": "code",
   "execution_count": 17,
   "metadata": {},
   "outputs": [
    {
     "name": "stdout",
     "output_type": "stream",
     "text": [
      "660281 || 660281\n",
      "3.8792 || 3.8792\n",
      "93438 || 93438\n",
      "3.8838 || 3.8838\n",
      "1133489 || 1133489\n",
      "3.9021 || 3.9021\n",
      "97478 || 97478\n",
      "3.9037 || 3.9037\n",
      "995275 || 995275\n",
      "3.9294 || 3.9294\n",
      "207076 || 207076\n",
      "3.9378 || 3.9378\n",
      "989330 || 989330\n",
      "3.9523 || 3.9523\n",
      "846101 || 846101\n",
      "3.955 || 3.955\n",
      "242797 || 242797\n",
      "3.9568 || 3.9568\n",
      "402216 || 402216\n",
      "3.9697 || 3.9697\n"
     ]
    }
   ],
   "source": [
    "compareFirstTen(indexes, distances, trueIndexes, trueDistances)"
   ]
  },
  {
   "cell_type": "code",
   "execution_count": 18,
   "metadata": {},
   "outputs": [
    {
     "name": "stdout",
     "output_type": "stream",
     "text": [
      "0.2974\n",
      "0.9915\n",
      "0.9999\n"
     ]
    }
   ],
   "source": [
    "calculateRecallAverage(indexes, distances, trueIndexes, trueDistances)\n",
    "calculateRecallAverage(indexes, distances, trueIndexes, trueDistances, 1.01)\n",
    "calculateRecallAverage(indexes, distances, trueIndexes, trueDistances, 1.1)"
   ]
  },
  {
   "cell_type": "code",
   "execution_count": 19,
   "metadata": {},
   "outputs": [
    {
     "name": "stdout",
     "output_type": "stream",
     "text": [
      "[ 660281   93438 1133489   97478  995275  207076  989330  846101  242797\n",
      "  402216  671078  926741  256447  914908  229951  956338  859959   56568\n",
      "  647843  987056  900915  963392  100544  861914 1025986   80231  134899\n",
      "  294110  716135  452141  264602  499677  834699   17932  528570  392021\n",
      "  482291  660541  368655  583340 1014707   51821  817757  939324  147983\n",
      "  530481 1136921  979282   96651  430077  645035  924263  689945  292551\n",
      "  876802  796611 1034304   94664  599119  639351  870693  904716  455463\n",
      "  209031  100206  402905  186281 1134185 1150727  896732  135950   82685\n",
      "  867359  783290  445936   21236  273527 1169856  988080  680202  444778\n",
      "  491578 1116758 1127655  427738  486364  733580  816741  699013  380601\n",
      " 1051872  521115  703678  416553  290452 1059144  751282  636153 1182920\n",
      "  327720]\n"
     ]
    }
   ],
   "source": [
    "print(indexes[0]) # will find the 100 nearest neighbors"
   ]
  },
  {
   "cell_type": "code",
   "execution_count": 20,
   "metadata": {},
   "outputs": [],
   "source": [
    "# draw_mnist(indexes, distances, datasetTrainImages)"
   ]
  }
 ],
 "metadata": {
  "kernelspec": {
   "display_name": "Python 3",
   "language": "python",
   "name": "python3"
  },
  "language_info": {
   "codemirror_mode": {
    "name": "ipython",
    "version": 3
   },
   "file_extension": ".py",
   "mimetype": "text/x-python",
   "name": "python",
   "nbconvert_exporter": "python",
   "pygments_lexer": "ipython3",
   "version": "3.9.6"
  }
 },
 "nbformat": 4,
 "nbformat_minor": 2
}
