{
 "cells": [
  {
   "cell_type": "code",
   "execution_count": 3,
   "metadata": {},
   "outputs": [
    {
     "name": "stdout",
     "output_type": "stream",
     "text": [
      "10\n",
      "-----------------------------\n",
      "0: 0, 0.0\n",
      "[0.0465935543179512, 0.10497111827135086, 0.2696659564971924, 0.13909170031547546, 0.769204318523407, 0.40775173902511597, 0.4450363516807556, 0.35364019870758057, 0.2572885751724243, 0.484501451253891]\n",
      "1: 54, 0.6509469747543335\n",
      "[0.3555104434490204, 0.39179494976997375, 0.40648430585861206, 0.11696816235780716, 0.5673282146453857, 0.24207566678524017, 0.30048704147338867, 0.3563186526298523, 0.6112783551216125, 0.5959140062332153]\n",
      "2: 11, 0.7477143406867981\n",
      "[0.1141219288110733, 0.07621936500072479, 0.3166348934173584, 0.0071029276587069035, 0.7374693751335144, 0.7892506718635559, 0.1415707916021347, 0.6663785576820374, 0.09972462058067322, 0.06881976872682571]\n"
     ]
    }
   ],
   "source": [
    "import ngtpy\n",
    "import random\n",
    "\n",
    "\n",
    "dim = 10\n",
    "nb = 100\n",
    "vectors = [[random.random() for _ in range(dim)] for _ in range(nb)]\n",
    "query = vectors[0]\n",
    "print(len(query))\n",
    "print(\"-----------------------------\")\n",
    "ngtpy.create(b\"tmp\", dim)\n",
    "index = ngtpy.Index(b\"tmp\")\n",
    "index.batch_insert(vectors)\n",
    "index.save()\n",
    "\n",
    "results = index.search(query, 3)\n",
    "for i, (id, distance) in enumerate(results) :\n",
    "    print(str(i) + \": \" + str(id) + \", \" + str(distance))\n",
    "    object = index.get_object(id)\n",
    "    print(object)"
   ]
  },
  {
   "cell_type": "code",
   "execution_count": 3,
   "metadata": {},
   "outputs": [],
   "source": [
    "x_data, y_data = np.mgrid[0:6, 2:7]\n",
    "kd_tree = spatial.KDTree(np.c_[x_data.ravel(), y_data.ravel()])"
   ]
  },
  {
   "cell_type": "code",
   "execution_count": 4,
   "metadata": {},
   "outputs": [
    {
     "name": "stdout",
     "output_type": "stream",
     "text": [
      "[2.         0.14142136]\n",
      "[0 5]\n"
     ]
    }
   ],
   "source": [
    "d, i = kd_tree.query([[0, 0], [1.1, 1.9]], k=1)\n",
    "print(d, i, sep='\\n')"
   ]
  }
 ],
 "metadata": {
  "kernelspec": {
   "display_name": "Python 3",
   "language": "python",
   "name": "python3"
  },
  "language_info": {
   "codemirror_mode": {
    "name": "ipython",
    "version": 3
   },
   "file_extension": ".py",
   "mimetype": "text/x-python",
   "name": "python",
   "nbconvert_exporter": "python",
   "pygments_lexer": "ipython3",
   "version": "3.8.10"
  }
 },
 "nbformat": 4,
 "nbformat_minor": 2
}
