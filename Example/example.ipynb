{
 "cells": [
  {
   "cell_type": "code",
   "execution_count": 2,
   "metadata": {},
   "outputs": [
    {
     "name": "stdout",
     "output_type": "stream",
     "text": [
      "Indices of nearest neighbors (LSH): [[ 17  30  75 118 135]]\n",
      "Distances to nearest neighbors (LSH): [[0. 0. 0. 0. 0.]]\n",
      "Indices of nearest neighbors (Refined Euclidean): [[668  46  28 481 912]]\n",
      "Distances to nearest neighbors (Refined Euclidean): [[14.776387 14.972264 15.160928 15.395977 15.492122]]\n"
     ]
    }
   ],
   "source": [
    "import numpy as np\n",
    "import faiss\n",
    "\n",
    "# Generate random data for demonstration\n",
    "np.random.seed(0)\n",
    "dataset = np.random.random((1000, 128)).astype('float32')  # Sample dataset with 1000 vectors of dimension 128\n",
    "\n",
    "# Initialize Faiss IndexLSH for binary hashing\n",
    "num_bits = 8  # Number of bits for the hash codes\n",
    "num_hashes = 4  # Number of hashes\n",
    "lsh_index = faiss.IndexLSH(128, num_bits)\n",
    "lsh_index.train(dataset)\n",
    "lsh_index.add(dataset)\n",
    "\n",
    "# Initialize Faiss IndexFlatL2 for exact search with Euclidean distance\n",
    "euclidean_index = faiss.IndexFlatL2(128)\n",
    "euclidean_index.add(dataset)\n",
    "\n",
    "# Query for nearest neighbors using LSH first, then refine using Euclidean distance\n",
    "query_vector = np.random.random((1, 128)).astype('float32')  # Example query vector\n",
    "k = 5  # Number of nearest neighbors to retrieve\n",
    "\n",
    "# LSH search\n",
    "lsh_distances, lsh_indices = lsh_index.search(query_vector, k)\n",
    "\n",
    "# Refine using Euclidean distance\n",
    "refined_distances, refined_indices = euclidean_index.search(query_vector, k)\n",
    "\n",
    "print(\"Indices of nearest neighbors (LSH):\", lsh_indices)\n",
    "print(\"Distances to nearest neighbors (LSH):\", lsh_distances)\n",
    "\n",
    "print(\"Indices of nearest neighbors (Refined Euclidean):\", refined_indices)\n",
    "print(\"Distances to nearest neighbors (Refined Euclidean):\", refined_distances)"
   ]
  },
  {
   "cell_type": "code",
   "execution_count": 3,
   "metadata": {},
   "outputs": [],
   "source": [
    "x_data, y_data = np.mgrid[0:6, 2:7]\n",
    "kd_tree = spatial.KDTree(np.c_[x_data.ravel(), y_data.ravel()])"
   ]
  },
  {
   "cell_type": "code",
   "execution_count": 4,
   "metadata": {},
   "outputs": [
    {
     "name": "stdout",
     "output_type": "stream",
     "text": [
      "[2.         0.14142136]\n",
      "[0 5]\n"
     ]
    }
   ],
   "source": [
    "d, i = kd_tree.query([[0, 0], [1.1, 1.9]], k=1)\n",
    "print(d, i, sep='\\n')"
   ]
  }
 ],
 "metadata": {
  "kernelspec": {
   "display_name": "Python 3",
   "language": "python",
   "name": "python3"
  },
  "language_info": {
   "codemirror_mode": {
    "name": "ipython",
    "version": 3
   },
   "file_extension": ".py",
   "mimetype": "text/x-python",
   "name": "python",
   "nbconvert_exporter": "python",
   "pygments_lexer": "ipython3",
   "version": "3.9.6"
  }
 },
 "nbformat": 4,
 "nbformat_minor": 2
}
