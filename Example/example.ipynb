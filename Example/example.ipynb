{
 "cells": [
  {
   "cell_type": "code",
   "execution_count": 3,
   "metadata": {},
   "outputs": [
    {
     "ename": "TypeError",
     "evalue": "build_index() takes exactly 2 arguments (3 given)",
     "output_type": "error",
     "traceback": [
      "\u001b[0;31m\u001b[0m",
      "\u001b[0;31mTypeError\u001b[0mTraceback (most recent call last)",
      "\u001b[0;32m<ipython-input-3-f055eb21860b>\u001b[0m in \u001b[0;36m<module>\u001b[0;34m()\u001b[0m\n\u001b[1;32m     13\u001b[0m \u001b[0;31m# Build the index\u001b[0m\u001b[0;34m\u001b[0m\u001b[0;34m\u001b[0m\u001b[0m\n\u001b[1;32m     14\u001b[0m \u001b[0mindex_params\u001b[0m \u001b[0;34m=\u001b[0m \u001b[0mdict\u001b[0m\u001b[0;34m(\u001b[0m\u001b[0malgorithm\u001b[0m\u001b[0;34m=\u001b[0m\u001b[0;34m'kdtree'\u001b[0m\u001b[0;34m,\u001b[0m \u001b[0mtrees\u001b[0m\u001b[0;34m=\u001b[0m\u001b[0mnum_trees\u001b[0m\u001b[0;34m)\u001b[0m\u001b[0;34m\u001b[0m\u001b[0m\n\u001b[0;32m---> 15\u001b[0;31m \u001b[0mflann\u001b[0m\u001b[0;34m.\u001b[0m\u001b[0mbuild_index\u001b[0m\u001b[0;34m(\u001b[0m\u001b[0mdata\u001b[0m\u001b[0;34m,\u001b[0m \u001b[0mindex_params\u001b[0m\u001b[0;34m)\u001b[0m\u001b[0;34m\u001b[0m\u001b[0m\n\u001b[0m\u001b[1;32m     16\u001b[0m \u001b[0;34m\u001b[0m\u001b[0m\n\u001b[1;32m     17\u001b[0m \u001b[0;31m# Query the index for nearest neighbors\u001b[0m\u001b[0;34m\u001b[0m\u001b[0;34m\u001b[0m\u001b[0m\n",
      "\u001b[0;31mTypeError\u001b[0m: build_index() takes exactly 2 arguments (3 given)"
     ]
    }
   ],
   "source": [
    "from pyflann import *\n",
    "from numpy import *\n",
    "from numpy.random import *\n",
    "dataset = rand(10000, 128)\n",
    "testset = rand(1000, 128)\n",
    "flann = FLANN()\n",
    "result,dists = flann.nn(dataset,testset,5,algorithm=\"kmeans\",\n",
    "branching=32, iterations=7, checks=16)"
   ]
  },
  {
   "cell_type": "code",
   "execution_count": 4,
   "metadata": {},
   "outputs": [
    {
     "name": "stdout",
     "output_type": "stream",
     "text": [
      "Nearest neighbors:\n",
      "('Point:', array([0.88679767, 0.24055835, 0.15932884]), 'Distance:', 9.726584682006094e-05)\n",
      "('Point:', array([0.87591749, 0.22257401, 0.14158173]), 'Distance:', 0.0009677635600454096)\n",
      "('Point:', array([0.90374073, 0.21640915, 0.16265198]), 'Distance:', 0.0015605388451391507)\n",
      "('Point:', array([0.8390752 , 0.24202541, 0.15193988]), 'Distance:', 0.001793632281869238)\n",
      "('Point:', array([0.86116404, 0.23432511, 0.12355651]), 'Distance:', 0.0018040985517748)\n",
      "('Point:', array([0.88183556, 0.20722728, 0.1392111 ]), 'Distance:', 0.002054860652595277)\n",
      "('Point:', array([0.87318358, 0.29303661, 0.15990573]), 'Distance:', 0.0020758200382561334)\n",
      "('Point:', array([0.85278084, 0.22270434, 0.13125367]), 'Distance:', 0.0021679104846453008)\n",
      "('Point:', array([0.90737757, 0.28957247, 0.17140443]), 'Distance:', 0.002607321320428066)\n",
      "('Point:', array([0.86418029, 0.29542681, 0.18235776]), 'Distance:', 0.003060231158799072)\n",
      "('Point:', array([0.83094252, 0.27310656, 0.16757597]), 'Distance:', 0.0031517398285657574)\n",
      "('Point:', array([0.82123309, 0.26257483, 0.15663586]), 'Distance:', 0.0037187285172583266)\n",
      "('Point:', array([0.82718829, 0.24684883, 0.12816801]), 'Distance:', 0.00377568086209688)\n",
      "('Point:', array([0.8932963 , 0.2643522 , 0.21842822]), 'Distance:', 0.003982649778732099)\n",
      "('Point:', array([0.93338571, 0.22094755, 0.1831039 ]), 'Distance:', 0.004129659549284291)\n",
      "('Point:', array([0.89041074, 0.23187228, 0.22379731]), 'Distance:', 0.004582531667830961)\n",
      "('Point:', array([0.83537933, 0.21048287, 0.20006987]), 'Distance:', 0.005142063297658879)\n",
      "('Point:', array([0.92567744, 0.28060535, 0.204211  ]), 'Distance:', 0.00516597580206574)\n",
      "('Point:', array([0.9510486 , 0.23211676, 0.14077355]), 'Distance:', 0.005568509715190578)\n",
      "('Point:', array([0.95097922, 0.2619241 , 0.18005044]), 'Distance:', 0.00562044001113628)\n",
      "('Point:', array([0.91059665, 0.22767796, 0.08770754]), 'Distance:', 0.00638484841568275)\n",
      "('Point:', array([0.83739259, 0.25668135, 0.23018851]), 'Distance:', 0.007017576519519057)\n",
      "('Point:', array([0.94741408, 0.22533449, 0.20513937]), 'Distance:', 0.007148972488599719)\n",
      "('Point:', array([0.80126473, 0.28194009, 0.1557555 ]), 'Distance:', 0.00742285842938555)\n",
      "('Point:', array([0.85455876, 0.326707  , 0.13367754]), 'Distance:', 0.007485932601895742)\n",
      "('Point:', array([0.82967423, 0.31905953, 0.1406147 ]), 'Distance:', 0.00794722217739078)\n",
      "('Point:', array([0.89978949, 0.17583797, 0.20874051]), 'Distance:', 0.008082977930662262)\n",
      "('Point:', array([0.93711208, 0.19987542, 0.10361797]), 'Distance:', 0.008584680667810476)\n",
      "('Point:', array([0.95216981, 0.18950152, 0.16499349]), 'Distance:', 0.008615512202017197)\n",
      "('Point:', array([0.84890522, 0.1605801 , 0.16846828]), 'Distance:', 0.008740192821621343)\n",
      "('Point:', array([0.81020987, 0.20626709, 0.20724116]), 'Distance:', 0.009020561550880294)\n",
      "('Point:', array([0.90601212, 0.32578342, 0.10776981]), 'Distance:', 0.009301977499292988)\n",
      "('Point:', array([0.9649188 , 0.20316217, 0.18367045]), 'Distance:', 0.009772964362037243)\n",
      "('Point:', array([0.80668332, 0.2864856 , 0.21477131]), 'Distance:', 0.01004272140185567)\n",
      "('Point:', array([0.86007425, 0.25769437, 0.25736082]), 'Distance:', 0.010214697455945384)\n",
      "('Point:', array([0.9798914 , 0.23935022, 0.1390961 ]), 'Distance:', 0.010359472679748344)\n",
      "('Point:', array([0.87025549, 0.18592658, 0.23967921]), 'Distance:', 0.010501102119929214)\n",
      "('Point:', array([0.93677329, 0.33877355, 0.15762988]), 'Distance:', 0.011404477677436424)\n",
      "('Point:', array([0.94134932, 0.24962413, 0.06831792]), 'Distance:', 0.011907238029060966)\n",
      "('Point:', array([0.94102403, 0.22757888, 0.06906754]), 'Distance:', 0.01214990873234789)\n",
      "('Point:', array([0.87434337, 0.15902982, 0.09226378]), 'Distance:', 0.012395909210911722)\n",
      "('Point:', array([0.97504846, 0.25888651, 0.21845631]), 'Distance:', 0.012626128611392819)\n",
      "('Point:', array([0.98740117, 0.21135681, 0.15543262]), 'Distance:', 0.012803553127221314)\n",
      "('Point:', array([0.96483841, 0.23962547, 0.08284478]), 'Distance:', 0.012971287914806683)\n",
      "('Point:', array([0.89238456, 0.15296682, 0.2233856 ]), 'Distance:', 0.013354319257401551)\n",
      "('Point:', array([0.92339228, 0.13998226, 0.15170067]), 'Distance:', 0.01357955060887349)\n",
      "('Point:', array([0.90422053, 0.30489214, 0.05949929]), 'Distance:', 0.013662386444935143)\n",
      "('Point:', array([0.93643689, 0.30180879, 0.07000121]), 'Distance:', 0.01391663376090293)\n",
      "('Point:', array([0.85903447, 0.3071309 , 0.25952716]), 'Distance:', 0.014085531959937985)\n",
      "('Point:', array([0.9587128 , 0.33218609, 0.12812528]), 'Distance:', 0.014148216679281912)\n",
      "('Point:', array([0.95145865, 0.26686051, 0.25443798]), 'Distance:', 0.014539793806638992)\n",
      "('Point:', array([0.97116373, 0.24397596, 0.07636776]), 'Distance:', 0.015050974827997644)\n",
      "('Point:', array([0.94261094, 0.23971087, 0.26701835]), 'Distance:', 0.015641485403525914)\n",
      "('Point:', array([0.84200156, 0.34132422, 0.23537666]), 'Distance:', 0.016032189984303127)\n",
      "('Point:', array([0.85118391, 0.24869106, 0.03555918]), 'Distance:', 0.016051473352863495)\n",
      "('Point:', array([0.8229803 , 0.28913841, 0.05060406]), 'Distance:', 0.016699771746367557)\n",
      "('Point:', array([0.99313801, 0.21764326, 0.21442153]), 'Distance:', 0.016720513635887654)\n",
      "('Point:', array([0.91343517, 0.22549615, 0.0343591 ]), 'Distance:', 0.01709274040118144)\n",
      "('Point:', array([0.99592997, 0.26203142, 0.09556089]), 'Distance:', 0.017540113507962092)\n",
      "('Point:', array([0.83659285, 0.30059019, 0.04483112]), 'Distance:', 0.017675931496049197)\n",
      "('Point:', array([0.83921251, 0.12647571, 0.11942927]), 'Distance:', 0.018035324165692874)\n",
      "('Point:', array([0.83694737, 0.24683093, 0.02893308]), 'Distance:', 0.018765355154578528)\n",
      "('Point:', array([0.84697218, 0.22506302, 0.28998528]), 'Distance:', 0.01884934156226796)\n",
      "('Point:', array([0.95023544, 0.36644117, 0.13478319]), 'Distance:', 0.019464562186047116)\n",
      "('Point:', array([0.85762243, 0.3247581 , 0.04434733]), 'Distance:', 0.019508094717023146)\n",
      "('Point:', array([0.91409348, 0.10835944, 0.15046311]), 'Distance:', 0.02072197111894166)\n",
      "('Point:', array([0.92287835, 0.29120898, 0.02801432]), 'Distance:', 0.020776933174439273)\n",
      "('Point:', array([0.87301721, 0.32674323, 0.03747923]), 'Distance:', 0.020971256146915526)\n",
      "('Point:', array([0.79784197, 0.36865395, 0.15394086]), 'Distance:', 0.021384721695928685)\n",
      "('Point:', array([0.90814847, 0.10962029, 0.11064591]), 'Distance:', 0.022258111276513403)\n",
      "('Point:', array([0.89191967, 0.3925833 , 0.20053336]), 'Distance:', 0.022756125797238482)\n",
      "('Point:', array([0.83889791, 0.21719036, 0.01671735]), 'Distance:', 0.02287424533665257)\n",
      "('Point:', array([0.91692464, 0.21335598, 0.0147789 ]), 'Distance:', 0.023288508304064565)\n",
      "('Point:', array([0.88193126, 0.36141699, 0.05079102]), 'Distance:', 0.024523315234253548)\n",
      "('Point:', array([0.88200733, 0.40247553, 0.18683529]), 'Distance:', 0.02462867138028261)\n",
      "('Point:', array([0.93307656, 0.10435671, 0.12253125]), 'Distance:', 0.024742816454681932)\n",
      "('Point:', array([0.85982219, 0.26953691, 0.0041169 ]), 'Distance:', 0.024822077093838806)\n",
      "('Point:', array([0.87092425, 0.3863121 , 0.07072787]), 'Distance:', 0.026964232421019682)\n",
      "('Point:', array([0.82512957, 0.39991397, 0.19534493]), 'Distance:', 0.02744803124695381)\n",
      "('Point:', array([0.83301919, 0.08883664, 0.16980525]), 'Distance:', 0.027721855189377944)\n",
      "('Point:', array([0.99893504, 0.2552052 , 0.03635841]), 'Distance:', 0.029095843847768615)\n",
      "('Point:', array([0.85945058, 0.08425676, 0.10672778]), 'Distance:', 0.029988498777039498)\n",
      "('Point:', array([0.80482927, 0.22758165, 0.00190139]), 'Distance:', 0.03076123637525791)\n",
      "('Point:', array([0.86198375, 0.06937133, 0.15421457]), 'Distance:', 0.03229349168249925)\n",
      "('Point:', array([0.8527202 , 0.07969743, 0.09940389]), 'Distance:', 0.03264746773882076)\n",
      "('Point:', array([0.87276569, 0.42605055, 0.2057113 ]), 'Distance:', 0.03393442623578002)\n",
      "('Point:', array([0.81684067, 0.42105423, 0.1142026 ]), 'Distance:', 0.03595902974169958)\n",
      "('Point:', array([0.88365865, 0.43727198, 0.22192226]), 'Distance:', 0.03978935628247458)\n",
      "('Point:', array([0.85931042, 0.23598241, 0.36190717]), 'Distance:', 0.04183133281264436)\n",
      "('Point:', array([0.85602694, 0.23648411, 0.36357488]), 'Distance:', 0.042649008119921505)\n",
      "('Point:', array([0.87378793, 0.04535318, 0.21388019]), 'Distance:', 0.04416725927132319)\n",
      "('Point:', array([0.87259026, 0.45411071, 0.11630599]), 'Distance:', 0.04432378267295992)\n",
      "('Point:', array([0.85863755, 0.03403189, 0.20935837]), 'Distance:', 0.048838584895065096)\n",
      "('Point:', array([0.96237231, 0.0335607 , 0.17886877]), 'Distance:', 0.05313016796500014)\n",
      "('Point:', array([0.93722334, 0.01862399, 0.18459289]), 'Distance:', 0.05653405181221167)\n",
      "('Point:', array([0.88346992, 0.00123015, 0.16695496]), 'Distance:', 0.06100373754290114)\n",
      "('Point:', array([0.83724713, 0.24453957, 0.44469791]), 'Distance:', 0.08359595863168331)\n",
      "('Point:', array([0.90777111, 0.54587875, 0.19285937]), 'Distance:', 0.09059758738028127)\n",
      "('Point:', array([0.93448582, 0.79058628, 0.17645589]), 'Distance:', 0.297560490166768)\n",
      "('Point:', array([0.93068901, 0.95073256, 0.19252847]), 'Distance:', 0.49740091862078595)\n"
     ]
    }
   ],
   "source": [
    "import numpy as np\n",
    "import pyflann\n",
    "\n",
    "# Generate some random data for demonstration\n",
    "data = np.random.rand(10000, 3)  # 10,000 points in 3D space\n",
    "query = np.random.rand(1, 3)      # Single query point in 3D space\n",
    "\n",
    "# FLANN parameters\n",
    "k = 100                           # Number of nearest neighbors to find\n",
    "num_trees = 4                     # Number of trees in the kd-tree\n",
    "flann = pyflann.FLANN()           # Create FLANN object\n",
    "\n",
    "# Build the index\n",
    "flann.build_index(data, algorithm='kdtree', trees=num_trees)\n",
    "\n",
    "# Query the index for nearest neighbors\n",
    "result, dists = flann.nn_index(query, k)\n",
    "\n",
    "# Print the nearest neighbors and their distances\n",
    "print(\"Nearest neighbors:\")\n",
    "for i, idx in enumerate(result[0]):\n",
    "    print(\"Point:\", data[idx], \"Distance:\", dists[0][i])"
   ]
  },
  {
   "cell_type": "code",
   "execution_count": 4,
   "metadata": {},
   "outputs": [
    {
     "name": "stdout",
     "output_type": "stream",
     "text": [
      "[2.         0.14142136]\n",
      "[0 5]\n"
     ]
    }
   ],
   "source": [
    "d, i = kd_tree.query([[0, 0], [1.1, 1.9]], k=1)\n",
    "print(d, i, sep='\\n')"
   ]
  }
 ],
 "metadata": {
  "kernelspec": {
   "display_name": "Python 3",
   "language": "python",
   "name": "python3"
  },
  "language_info": {
   "codemirror_mode": {
    "name": "ipython",
    "version": 2
   },
   "file_extension": ".py",
   "mimetype": "text/x-python",
   "name": "python",
   "nbconvert_exporter": "python",
<<<<<<< HEAD
   "pygments_lexer": "ipython2",
   "version": "2.7.18"
=======
   "pygments_lexer": "ipython3",
   "version": "3.9.6"
>>>>>>> a0d1465a18c3b35e2113d5b1f0be034c7648cafc
  }
 },
 "nbformat": 4,
 "nbformat_minor": 2
}
