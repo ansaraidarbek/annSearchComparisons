{
 "cells": [
  {
   "cell_type": "code",
   "execution_count": 2,
   "metadata": {},
   "outputs": [
    {
     "name": "stderr",
     "output_type": "stream",
     "text": [
      "Your CPU supports instructions that this binary was not compiled to use: SSE3 SSE4.1 SSE4.2 AVX AVX2\n",
      "For maximum performance, you can install NMSLIB from sources \n",
      "pip install --no-binary :all: nmslib\n",
      "2024-03-08 10:07:11.998782: E external/local_xla/xla/stream_executor/cuda/cuda_dnn.cc:9261] Unable to register cuDNN factory: Attempting to register factory for plugin cuDNN when one has already been registered\n",
      "2024-03-08 10:07:11.998805: E external/local_xla/xla/stream_executor/cuda/cuda_fft.cc:607] Unable to register cuFFT factory: Attempting to register factory for plugin cuFFT when one has already been registered\n",
      "2024-03-08 10:07:11.999467: E external/local_xla/xla/stream_executor/cuda/cuda_blas.cc:1515] Unable to register cuBLAS factory: Attempting to register factory for plugin cuBLAS when one has already been registered\n",
      "2024-03-08 10:07:12.003482: I tensorflow/core/platform/cpu_feature_guard.cc:182] This TensorFlow binary is optimized to use available CPU instructions in performance-critical operations.\n",
      "To enable the following instructions: AVX2 FMA, in other operations, rebuild TensorFlow with the appropriate compiler flags.\n",
      "2024-03-08 10:07:12.622937: W tensorflow/compiler/tf2tensorrt/utils/py_utils.cc:38] TF-TRT Warning: Could not find TensorRT\n"
     ]
    }
   ],
   "source": [
    "import nmslib\n",
    "exec(open(\"../database.py\").read())\n",
    "exec(open(\"../helperFunctions.py\").read())\n",
    "import numpy as np\n",
    "from keras.datasets import mnist\n",
    "from time import perf_counter\n",
    "from ast import literal_eval"
   ]
  },
  {
   "cell_type": "code",
   "execution_count": 3,
   "metadata": {},
   "outputs": [
    {
     "name": "stdout",
     "output_type": "stream",
     "text": [
      "trainDataset :  (60000, 784)\n",
      "testDataset :  (10000, 784)\n"
     ]
    }
   ],
   "source": [
    "name = 'mnist-784'\n",
    "runs = 1\n",
    "metric = 'euclidean'\n",
    "queries = 1000\n",
    "nameFull = name + '-' + metric + '-true-labels.xlsx'\n",
    "datasetTrainImages, datasetTestImages, _ = get_ann_benchmark_data(name)"
   ]
  },
  {
   "cell_type": "markdown",
   "metadata": {},
   "source": [
    "***Create Nmslib Index***"
   ]
  },
  {
   "cell_type": "code",
   "execution_count": 4,
   "metadata": {},
   "outputs": [
    {
     "name": "stderr",
     "output_type": "stream",
     "text": [
      "\n",
      "0%   10   20   30   40   50   60   70   80   90   100%\n",
      "|----|----|----|----|----|----|----|----|----|----|\n",
      "***************************************************\n",
      "\n",
      "0%   10   20   30   40   50   60   70   80   90   100%\n",
      "|----|----|----|----|----|----|----|----|----|----|\n",
      "***************************************************"
     ]
    },
    {
     "name": "stdout",
     "output_type": "stream",
     "text": [
      "Took 17.992 seconds\n"
     ]
    }
   ],
   "source": [
    "def createIndex(indexMethod, datasetImages):\n",
    "    f = datasetImages.shape[1] # Length of item vector that will be indexed\n",
    "    index = indexMethod(method='hnsw', space='l2')\n",
    "    time_start = perf_counter()\n",
    "    index.addDataPointBatch(datasetImages)\n",
    "    index.createIndex({'post': 2}, print_progress=True)\n",
    "    time_end = perf_counter()\n",
    "    totalTime = (time_end - time_start)\n",
    "    return (index, totalTime)"
   ]
  },
  {
   "cell_type": "code",
   "execution_count": 5,
   "metadata": {},
   "outputs": [],
   "source": [
    "(minBuildTime, maxBuildTime, indexedStruct) = createIndexNumerous(createIndex, nmslib.init, datasetTrainImages, runs)\n",
    "print('minBuildTime : ', minBuildTime)\n",
    "print('maxBuildTime : ', maxBuildTime)"
   ]
  },
  {
   "cell_type": "code",
   "execution_count": 17,
   "metadata": {},
   "outputs": [
    {
     "name": "stdout",
     "output_type": "stream",
     "text": [
      "Took 0.198 seconds\n"
     ]
    },
    {
     "data": {
      "text/plain": [
       "0.198"
      ]
     },
     "execution_count": 17,
     "metadata": {},
     "output_type": "execute_result"
    }
   ],
   "source": [
    "def measureTime(par, indexes, distances, datasetTestImages):\n",
    "    totalTime = 0\n",
    "    for i in range(par) : \n",
    "        time_start = perf_counter()\n",
    "        index, distance = indexedStruct.knnQuery(datasetTestImages[i], k=100)\n",
    "        time_end = perf_counter()\n",
    "        totalTime += (time_end - time_start)\n",
    "        indexes.append(index)\n",
    "        distances.append(np.sqrt(distance))\n",
    "    return np.round(totalTime, 3)"
   ]
  },
  {
   "cell_type": "code",
   "execution_count": 18,
   "metadata": {},
   "outputs": [],
   "source": [
    "(minSearchTime, maxSearchTime, indexes, distances) = measureTimeNumerous(measureTime, runs, queries, datasetTestImages)\n",
    "print('minSearchTime : ', minSearchTime)\n",
    "print('maxSearchTime : ', maxSearchTime)"
   ]
  },
  {
   "cell_type": "code",
   "execution_count": 19,
   "metadata": {},
   "outputs": [],
   "source": [
    "indexes = np.array(indexes)\n",
    "distances = np.round(np.array(distances).astype(float), 4)"
   ]
  },
  {
   "cell_type": "code",
   "execution_count": 20,
   "metadata": {},
   "outputs": [
    {
     "name": "stdout",
     "output_type": "stream",
     "text": [
      "indexes :  (1000, 100)\n",
      "distances :  (1000, 100)\n"
     ]
    }
   ],
   "source": [
    "print('indexes : ', indexes.shape)\n",
    "print('distances : ', distances.shape)"
   ]
  },
  {
   "cell_type": "code",
   "execution_count": 21,
   "metadata": {},
   "outputs": [
    {
     "name": "stdout",
     "output_type": "stream",
     "text": [
      "trueIndexes :  (1000, 100)\n",
      "trueDistances :  (1000, 100)\n"
     ]
    }
   ],
   "source": [
    "path = '../datasets/'+nameFull\n",
    "(trueIndexes, trueDistances) = readDB(path)"
   ]
  },
  {
   "cell_type": "code",
   "execution_count": 22,
   "metadata": {},
   "outputs": [
    {
     "name": "stdout",
     "output_type": "stream",
     "text": [
      "53843 || 53843\n",
      "676.584 || 676.584\n",
      "38620 || 38620\n",
      "793.9868 || 793.9868\n",
      "16186 || 16186\n",
      "862.6766 || 862.6766\n",
      "27059 || 27059\n",
      "864.5039 || 864.5039\n",
      "47003 || 47003\n",
      "894.7 || 894.7\n",
      "14563 || 14563\n",
      "909.7043 || 909.7043\n",
      "44566 || 44566\n",
      "917.6323 || 917.6323\n",
      "15260 || 15260\n",
      "921.6241 || 921.6241\n",
      "40368 || 40368\n",
      "922.147 || 922.147\n",
      "36395 || 36395\n",
      "943.4972 || 943.4972\n"
     ]
    }
   ],
   "source": [
    "amount = 10\n",
    "compareElems(amount, indexes, distances, trueIndexes, trueDistances)"
   ]
  },
  {
   "cell_type": "code",
   "execution_count": 23,
   "metadata": {},
   "outputs": [
    {
     "name": "stdout",
     "output_type": "stream",
     "text": [
      "0.3627\n",
      "0.8459\n",
      "1.0000\n"
     ]
    }
   ],
   "source": [
    "calculateRecallAverage(indexes, distances, trueIndexes, trueDistances)\n",
    "calculateRecallAverage(indexes, distances, trueIndexes, trueDistances, 1.01)\n",
    "calculateRecallAverage(indexes, distances, trueIndexes, trueDistances, 1.1)"
   ]
  },
  {
   "cell_type": "code",
   "execution_count": 24,
   "metadata": {},
   "outputs": [
    {
     "name": "stdout",
     "output_type": "stream",
     "text": [
      "[53843 38620 16186 27059 47003 14563 44566 15260 40368 36395 30502 14770\n",
      " 17228 35919 27166 21518 52010 38763 14505 48108  9444 55668  9724 57204\n",
      " 17946 41958 40710 29762 26957 24700 54364 35937 41236 23149 31073 51420\n",
      "  1673 50255  4130 30988 32980 25972 38504 25705 29983 59665 43917 15856\n",
      " 39003  6475  3298 35150 47117 53679 31614 22546 50147 49516  6525 47015\n",
      " 53589 13382 37550 55750 51500 58507 26967 42146 51916 32432 16935 48955\n",
      " 53855 17017  3324 46160 41928   773 53483 21463 58009 23969 31882  9793\n",
      " 24572 27005 52606 53333 18429  1789 11421 25788 53418  8931 49024 35965\n",
      " 30722 24907   522 58526]\n"
     ]
    }
   ],
   "source": [
    "print(indexes[0]) # will find the 100 nearest neighbors"
   ]
  },
  {
   "cell_type": "code",
   "execution_count": 25,
   "metadata": {},
   "outputs": [
    {
     "name": "stdout",
     "output_type": "stream",
     "text": [
      "index :  53843 \n",
      "distance :  676.584\n",
      "index :  38620 \n",
      "distance :  793.9868\n",
      "index :  16186 \n",
      "distance :  862.6766\n",
      "index :  27059 \n",
      "distance :  864.5039\n",
      "index :  47003 \n",
      "distance :  894.7\n",
      "index :  14563 \n",
      "distance :  909.7043\n",
      "index :  44566 \n",
      "distance :  917.6323\n",
      "index :  15260 \n",
      "distance :  921.6241\n",
      "index :  40368 \n",
      "distance :  922.147\n",
      "index :  36395 \n",
      "distance :  943.4972\n"
     ]
    },
    {
     "data": {
      "image/png": "[encoded data removed]",
      "text/plain": [
       "<Figure size 4000x400 with 10 Axes>"
      ]
     },
     "metadata": {},
     "output_type": "display_data"
    }
   ],
   "source": [
    "draw_mnist(indexes, distances, datasetTrainImages)"
   ]
  }
 ],
 "metadata": {
  "kernelspec": {
   "display_name": "Python 3",
   "language": "python",
   "name": "python3"
  },
  "language_info": {
   "codemirror_mode": {
    "name": "ipython",
    "version": 3
   },
   "file_extension": ".py",
   "mimetype": "text/x-python",
   "name": "python",
   "nbconvert_exporter": "python",
   "pygments_lexer": "ipython3",
   "version": "3.9.18"
  }
 },
 "nbformat": 4,
 "nbformat_minor": 2
}
